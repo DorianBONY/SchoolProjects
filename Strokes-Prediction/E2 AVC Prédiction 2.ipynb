{
 "cells": [
  {
   "cell_type": "markdown",
   "id": "042ab30b",
   "metadata": {},
   "source": [
    "# DATA CLEANING"
   ]
  },
  {
   "cell_type": "code",
   "execution_count": 1,
   "id": "54c898a6",
   "metadata": {
    "ExecuteTime": {
     "end_time": "2023-06-26T08:04:55.651190Z",
     "start_time": "2023-06-26T08:04:53.208652Z"
    }
   },
   "outputs": [],
   "source": [
    "import pandas as pd\n",
    "import numpy as np\n",
    "import matplotlib.pyplot as plt\n",
    "import seaborn as sns\n",
    "import matplotlib.pyplot as plt\n",
    "import gradio as gr\n",
    "import pickle\n",
    "from sklearn.model_selection import train_test_split\n",
    "from sklearn.linear_model import LogisticRegression\n",
    "from sklearn.neighbors import KNeighborsClassifier\n",
    "from sklearn.tree import DecisionTreeClassifier\n",
    "from sklearn.ensemble import RandomForestClassifier\n",
    "from sklearn.model_selection import GridSearchCV\n",
    "from sklearn.metrics import confusion_matrix,classification_report,accuracy_score,recall_score\n",
    "from imblearn.over_sampling import SMOTE"
   ]
  },
  {
   "cell_type": "code",
   "execution_count": 2,
   "id": "2e62aee1",
   "metadata": {
    "ExecuteTime": {
     "end_time": "2023-06-26T08:04:59.658387Z",
     "start_time": "2023-06-26T08:04:59.621958Z"
    }
   },
   "outputs": [
    {
     "data": {
      "text/html": [
       "<div>\n",
       "<style scoped>\n",
       "    .dataframe tbody tr th:only-of-type {\n",
       "        vertical-align: middle;\n",
       "    }\n",
       "\n",
       "    .dataframe tbody tr th {\n",
       "        vertical-align: top;\n",
       "    }\n",
       "\n",
       "    .dataframe thead th {\n",
       "        text-align: right;\n",
       "    }\n",
       "</style>\n",
       "<table border=\"1\" class=\"dataframe\">\n",
       "  <thead>\n",
       "    <tr style=\"text-align: right;\">\n",
       "      <th></th>\n",
       "      <th>id</th>\n",
       "      <th>gender</th>\n",
       "      <th>age</th>\n",
       "      <th>hypertension</th>\n",
       "      <th>heart_disease</th>\n",
       "      <th>ever_married</th>\n",
       "      <th>work_type</th>\n",
       "      <th>Residence_type</th>\n",
       "      <th>avg_glucose_level</th>\n",
       "      <th>bmi</th>\n",
       "      <th>smoking_status</th>\n",
       "      <th>stroke</th>\n",
       "    </tr>\n",
       "  </thead>\n",
       "  <tbody>\n",
       "    <tr>\n",
       "      <th>0</th>\n",
       "      <td>9046</td>\n",
       "      <td>Male</td>\n",
       "      <td>67.0</td>\n",
       "      <td>0</td>\n",
       "      <td>1</td>\n",
       "      <td>Yes</td>\n",
       "      <td>Private</td>\n",
       "      <td>Urban</td>\n",
       "      <td>228.69</td>\n",
       "      <td>36.6</td>\n",
       "      <td>formerly smoked</td>\n",
       "      <td>1</td>\n",
       "    </tr>\n",
       "    <tr>\n",
       "      <th>1</th>\n",
       "      <td>51676</td>\n",
       "      <td>Female</td>\n",
       "      <td>61.0</td>\n",
       "      <td>0</td>\n",
       "      <td>0</td>\n",
       "      <td>Yes</td>\n",
       "      <td>Self-employed</td>\n",
       "      <td>Rural</td>\n",
       "      <td>202.21</td>\n",
       "      <td>NaN</td>\n",
       "      <td>never smoked</td>\n",
       "      <td>1</td>\n",
       "    </tr>\n",
       "    <tr>\n",
       "      <th>2</th>\n",
       "      <td>31112</td>\n",
       "      <td>Male</td>\n",
       "      <td>80.0</td>\n",
       "      <td>0</td>\n",
       "      <td>1</td>\n",
       "      <td>Yes</td>\n",
       "      <td>Private</td>\n",
       "      <td>Rural</td>\n",
       "      <td>105.92</td>\n",
       "      <td>32.5</td>\n",
       "      <td>never smoked</td>\n",
       "      <td>1</td>\n",
       "    </tr>\n",
       "    <tr>\n",
       "      <th>3</th>\n",
       "      <td>60182</td>\n",
       "      <td>Female</td>\n",
       "      <td>49.0</td>\n",
       "      <td>0</td>\n",
       "      <td>0</td>\n",
       "      <td>Yes</td>\n",
       "      <td>Private</td>\n",
       "      <td>Urban</td>\n",
       "      <td>171.23</td>\n",
       "      <td>34.4</td>\n",
       "      <td>smokes</td>\n",
       "      <td>1</td>\n",
       "    </tr>\n",
       "    <tr>\n",
       "      <th>4</th>\n",
       "      <td>1665</td>\n",
       "      <td>Female</td>\n",
       "      <td>79.0</td>\n",
       "      <td>1</td>\n",
       "      <td>0</td>\n",
       "      <td>Yes</td>\n",
       "      <td>Self-employed</td>\n",
       "      <td>Rural</td>\n",
       "      <td>174.12</td>\n",
       "      <td>24.0</td>\n",
       "      <td>never smoked</td>\n",
       "      <td>1</td>\n",
       "    </tr>\n",
       "  </tbody>\n",
       "</table>\n",
       "</div>"
      ],
      "text/plain": [
       "      id  gender   age  hypertension  heart_disease ever_married  \\\n",
       "0   9046    Male  67.0             0              1          Yes   \n",
       "1  51676  Female  61.0             0              0          Yes   \n",
       "2  31112    Male  80.0             0              1          Yes   \n",
       "3  60182  Female  49.0             0              0          Yes   \n",
       "4   1665  Female  79.0             1              0          Yes   \n",
       "\n",
       "       work_type Residence_type  avg_glucose_level   bmi   smoking_status  \\\n",
       "0        Private          Urban             228.69  36.6  formerly smoked   \n",
       "1  Self-employed          Rural             202.21   NaN     never smoked   \n",
       "2        Private          Rural             105.92  32.5     never smoked   \n",
       "3        Private          Urban             171.23  34.4           smokes   \n",
       "4  Self-employed          Rural             174.12  24.0     never smoked   \n",
       "\n",
       "   stroke  \n",
       "0       1  \n",
       "1       1  \n",
       "2       1  \n",
       "3       1  \n",
       "4       1  "
      ]
     },
     "execution_count": 2,
     "metadata": {},
     "output_type": "execute_result"
    }
   ],
   "source": [
    "df= pd.read_csv(\"healthcare-dataset-stroke-data.csv\")\n",
    "df.head()"
   ]
  },
  {
   "cell_type": "code",
   "execution_count": 3,
   "id": "ed14b2d4",
   "metadata": {
    "ExecuteTime": {
     "end_time": "2023-06-26T08:05:00.139666Z",
     "start_time": "2023-06-26T08:05:00.107429Z"
    }
   },
   "outputs": [
    {
     "data": {
      "text/html": [
       "<div>\n",
       "<style scoped>\n",
       "    .dataframe tbody tr th:only-of-type {\n",
       "        vertical-align: middle;\n",
       "    }\n",
       "\n",
       "    .dataframe tbody tr th {\n",
       "        vertical-align: top;\n",
       "    }\n",
       "\n",
       "    .dataframe thead th {\n",
       "        text-align: right;\n",
       "    }\n",
       "</style>\n",
       "<table border=\"1\" class=\"dataframe\">\n",
       "  <thead>\n",
       "    <tr style=\"text-align: right;\">\n",
       "      <th></th>\n",
       "      <th>id</th>\n",
       "      <th>gender</th>\n",
       "      <th>age</th>\n",
       "      <th>hypertension</th>\n",
       "      <th>heart_disease</th>\n",
       "      <th>ever_married</th>\n",
       "      <th>work_type</th>\n",
       "      <th>Residence_type</th>\n",
       "      <th>avg_glucose_level</th>\n",
       "      <th>bmi</th>\n",
       "      <th>smoking_status</th>\n",
       "      <th>stroke</th>\n",
       "    </tr>\n",
       "  </thead>\n",
       "  <tbody>\n",
       "    <tr>\n",
       "      <th>0</th>\n",
       "      <td>9046</td>\n",
       "      <td>Male</td>\n",
       "      <td>67.0</td>\n",
       "      <td>0</td>\n",
       "      <td>1</td>\n",
       "      <td>Yes</td>\n",
       "      <td>Private</td>\n",
       "      <td>Urban</td>\n",
       "      <td>228.69</td>\n",
       "      <td>36.6</td>\n",
       "      <td>formerly smoked</td>\n",
       "      <td>1</td>\n",
       "    </tr>\n",
       "    <tr>\n",
       "      <th>1</th>\n",
       "      <td>51676</td>\n",
       "      <td>Female</td>\n",
       "      <td>61.0</td>\n",
       "      <td>0</td>\n",
       "      <td>0</td>\n",
       "      <td>Yes</td>\n",
       "      <td>Self-employed</td>\n",
       "      <td>Rural</td>\n",
       "      <td>202.21</td>\n",
       "      <td>NaN</td>\n",
       "      <td>never smoked</td>\n",
       "      <td>1</td>\n",
       "    </tr>\n",
       "    <tr>\n",
       "      <th>2</th>\n",
       "      <td>31112</td>\n",
       "      <td>Male</td>\n",
       "      <td>80.0</td>\n",
       "      <td>0</td>\n",
       "      <td>1</td>\n",
       "      <td>Yes</td>\n",
       "      <td>Private</td>\n",
       "      <td>Rural</td>\n",
       "      <td>105.92</td>\n",
       "      <td>32.5</td>\n",
       "      <td>never smoked</td>\n",
       "      <td>1</td>\n",
       "    </tr>\n",
       "    <tr>\n",
       "      <th>3</th>\n",
       "      <td>60182</td>\n",
       "      <td>Female</td>\n",
       "      <td>49.0</td>\n",
       "      <td>0</td>\n",
       "      <td>0</td>\n",
       "      <td>Yes</td>\n",
       "      <td>Private</td>\n",
       "      <td>Urban</td>\n",
       "      <td>171.23</td>\n",
       "      <td>34.4</td>\n",
       "      <td>smokes</td>\n",
       "      <td>1</td>\n",
       "    </tr>\n",
       "    <tr>\n",
       "      <th>4</th>\n",
       "      <td>1665</td>\n",
       "      <td>Female</td>\n",
       "      <td>79.0</td>\n",
       "      <td>1</td>\n",
       "      <td>0</td>\n",
       "      <td>Yes</td>\n",
       "      <td>Self-employed</td>\n",
       "      <td>Rural</td>\n",
       "      <td>174.12</td>\n",
       "      <td>24.0</td>\n",
       "      <td>never smoked</td>\n",
       "      <td>1</td>\n",
       "    </tr>\n",
       "    <tr>\n",
       "      <th>...</th>\n",
       "      <td>...</td>\n",
       "      <td>...</td>\n",
       "      <td>...</td>\n",
       "      <td>...</td>\n",
       "      <td>...</td>\n",
       "      <td>...</td>\n",
       "      <td>...</td>\n",
       "      <td>...</td>\n",
       "      <td>...</td>\n",
       "      <td>...</td>\n",
       "      <td>...</td>\n",
       "      <td>...</td>\n",
       "    </tr>\n",
       "    <tr>\n",
       "      <th>5105</th>\n",
       "      <td>18234</td>\n",
       "      <td>Female</td>\n",
       "      <td>80.0</td>\n",
       "      <td>1</td>\n",
       "      <td>0</td>\n",
       "      <td>Yes</td>\n",
       "      <td>Private</td>\n",
       "      <td>Urban</td>\n",
       "      <td>83.75</td>\n",
       "      <td>NaN</td>\n",
       "      <td>never smoked</td>\n",
       "      <td>0</td>\n",
       "    </tr>\n",
       "    <tr>\n",
       "      <th>5106</th>\n",
       "      <td>44873</td>\n",
       "      <td>Female</td>\n",
       "      <td>81.0</td>\n",
       "      <td>0</td>\n",
       "      <td>0</td>\n",
       "      <td>Yes</td>\n",
       "      <td>Self-employed</td>\n",
       "      <td>Urban</td>\n",
       "      <td>125.20</td>\n",
       "      <td>40.0</td>\n",
       "      <td>never smoked</td>\n",
       "      <td>0</td>\n",
       "    </tr>\n",
       "    <tr>\n",
       "      <th>5107</th>\n",
       "      <td>19723</td>\n",
       "      <td>Female</td>\n",
       "      <td>35.0</td>\n",
       "      <td>0</td>\n",
       "      <td>0</td>\n",
       "      <td>Yes</td>\n",
       "      <td>Self-employed</td>\n",
       "      <td>Rural</td>\n",
       "      <td>82.99</td>\n",
       "      <td>30.6</td>\n",
       "      <td>never smoked</td>\n",
       "      <td>0</td>\n",
       "    </tr>\n",
       "    <tr>\n",
       "      <th>5108</th>\n",
       "      <td>37544</td>\n",
       "      <td>Male</td>\n",
       "      <td>51.0</td>\n",
       "      <td>0</td>\n",
       "      <td>0</td>\n",
       "      <td>Yes</td>\n",
       "      <td>Private</td>\n",
       "      <td>Rural</td>\n",
       "      <td>166.29</td>\n",
       "      <td>25.6</td>\n",
       "      <td>formerly smoked</td>\n",
       "      <td>0</td>\n",
       "    </tr>\n",
       "    <tr>\n",
       "      <th>5109</th>\n",
       "      <td>44679</td>\n",
       "      <td>Female</td>\n",
       "      <td>44.0</td>\n",
       "      <td>0</td>\n",
       "      <td>0</td>\n",
       "      <td>Yes</td>\n",
       "      <td>Govt_job</td>\n",
       "      <td>Urban</td>\n",
       "      <td>85.28</td>\n",
       "      <td>26.2</td>\n",
       "      <td>Unknown</td>\n",
       "      <td>0</td>\n",
       "    </tr>\n",
       "  </tbody>\n",
       "</table>\n",
       "<p>5110 rows × 12 columns</p>\n",
       "</div>"
      ],
      "text/plain": [
       "         id  gender   age  hypertension  heart_disease ever_married  \\\n",
       "0      9046    Male  67.0             0              1          Yes   \n",
       "1     51676  Female  61.0             0              0          Yes   \n",
       "2     31112    Male  80.0             0              1          Yes   \n",
       "3     60182  Female  49.0             0              0          Yes   \n",
       "4      1665  Female  79.0             1              0          Yes   \n",
       "...     ...     ...   ...           ...            ...          ...   \n",
       "5105  18234  Female  80.0             1              0          Yes   \n",
       "5106  44873  Female  81.0             0              0          Yes   \n",
       "5107  19723  Female  35.0             0              0          Yes   \n",
       "5108  37544    Male  51.0             0              0          Yes   \n",
       "5109  44679  Female  44.0             0              0          Yes   \n",
       "\n",
       "          work_type Residence_type  avg_glucose_level   bmi   smoking_status  \\\n",
       "0           Private          Urban             228.69  36.6  formerly smoked   \n",
       "1     Self-employed          Rural             202.21   NaN     never smoked   \n",
       "2           Private          Rural             105.92  32.5     never smoked   \n",
       "3           Private          Urban             171.23  34.4           smokes   \n",
       "4     Self-employed          Rural             174.12  24.0     never smoked   \n",
       "...             ...            ...                ...   ...              ...   \n",
       "5105        Private          Urban              83.75   NaN     never smoked   \n",
       "5106  Self-employed          Urban             125.20  40.0     never smoked   \n",
       "5107  Self-employed          Rural              82.99  30.6     never smoked   \n",
       "5108        Private          Rural             166.29  25.6  formerly smoked   \n",
       "5109       Govt_job          Urban              85.28  26.2          Unknown   \n",
       "\n",
       "      stroke  \n",
       "0          1  \n",
       "1          1  \n",
       "2          1  \n",
       "3          1  \n",
       "4          1  \n",
       "...      ...  \n",
       "5105       0  \n",
       "5106       0  \n",
       "5107       0  \n",
       "5108       0  \n",
       "5109       0  \n",
       "\n",
       "[5110 rows x 12 columns]"
      ]
     },
     "execution_count": 3,
     "metadata": {},
     "output_type": "execute_result"
    }
   ],
   "source": [
    "df.copy()"
   ]
  },
  {
   "cell_type": "code",
   "execution_count": 4,
   "id": "7e3c152e",
   "metadata": {
    "ExecuteTime": {
     "end_time": "2023-06-26T08:05:00.589595Z",
     "start_time": "2023-06-26T08:05:00.570476Z"
    }
   },
   "outputs": [
    {
     "name": "stdout",
     "output_type": "stream",
     "text": [
      "id                     0\n",
      "gender                 0\n",
      "age                    0\n",
      "hypertension           0\n",
      "heart_disease          0\n",
      "ever_married           0\n",
      "work_type              0\n",
      "Residence_type         0\n",
      "avg_glucose_level      0\n",
      "bmi                  201\n",
      "smoking_status         0\n",
      "stroke                 0\n",
      "dtype: int64\n"
     ]
    }
   ],
   "source": [
    "print(df.isnull().sum())"
   ]
  },
  {
   "cell_type": "code",
   "execution_count": 5,
   "id": "6afae57e",
   "metadata": {
    "ExecuteTime": {
     "end_time": "2023-06-26T08:05:01.027468Z",
     "start_time": "2023-06-26T08:05:01.012162Z"
    }
   },
   "outputs": [],
   "source": [
    "df.dropna(inplace=True)"
   ]
  },
  {
   "cell_type": "code",
   "execution_count": 6,
   "id": "fea2d68e",
   "metadata": {
    "ExecuteTime": {
     "end_time": "2023-06-26T08:05:01.534213Z",
     "start_time": "2023-06-26T08:05:01.523830Z"
    }
   },
   "outputs": [
    {
     "data": {
      "text/html": [
       "<div>\n",
       "<style scoped>\n",
       "    .dataframe tbody tr th:only-of-type {\n",
       "        vertical-align: middle;\n",
       "    }\n",
       "\n",
       "    .dataframe tbody tr th {\n",
       "        vertical-align: top;\n",
       "    }\n",
       "\n",
       "    .dataframe thead th {\n",
       "        text-align: right;\n",
       "    }\n",
       "</style>\n",
       "<table border=\"1\" class=\"dataframe\">\n",
       "  <thead>\n",
       "    <tr style=\"text-align: right;\">\n",
       "      <th></th>\n",
       "      <th>id</th>\n",
       "      <th>gender</th>\n",
       "      <th>age</th>\n",
       "      <th>hypertension</th>\n",
       "      <th>heart_disease</th>\n",
       "      <th>ever_married</th>\n",
       "      <th>work_type</th>\n",
       "      <th>Residence_type</th>\n",
       "      <th>avg_glucose_level</th>\n",
       "      <th>bmi</th>\n",
       "      <th>smoking_status</th>\n",
       "      <th>stroke</th>\n",
       "    </tr>\n",
       "  </thead>\n",
       "  <tbody>\n",
       "    <tr>\n",
       "      <th>0</th>\n",
       "      <td>9046</td>\n",
       "      <td>Male</td>\n",
       "      <td>67.0</td>\n",
       "      <td>0</td>\n",
       "      <td>1</td>\n",
       "      <td>Yes</td>\n",
       "      <td>Private</td>\n",
       "      <td>Urban</td>\n",
       "      <td>228.69</td>\n",
       "      <td>36.6</td>\n",
       "      <td>formerly smoked</td>\n",
       "      <td>1</td>\n",
       "    </tr>\n",
       "    <tr>\n",
       "      <th>2</th>\n",
       "      <td>31112</td>\n",
       "      <td>Male</td>\n",
       "      <td>80.0</td>\n",
       "      <td>0</td>\n",
       "      <td>1</td>\n",
       "      <td>Yes</td>\n",
       "      <td>Private</td>\n",
       "      <td>Rural</td>\n",
       "      <td>105.92</td>\n",
       "      <td>32.5</td>\n",
       "      <td>never smoked</td>\n",
       "      <td>1</td>\n",
       "    </tr>\n",
       "    <tr>\n",
       "      <th>3</th>\n",
       "      <td>60182</td>\n",
       "      <td>Female</td>\n",
       "      <td>49.0</td>\n",
       "      <td>0</td>\n",
       "      <td>0</td>\n",
       "      <td>Yes</td>\n",
       "      <td>Private</td>\n",
       "      <td>Urban</td>\n",
       "      <td>171.23</td>\n",
       "      <td>34.4</td>\n",
       "      <td>smokes</td>\n",
       "      <td>1</td>\n",
       "    </tr>\n",
       "    <tr>\n",
       "      <th>4</th>\n",
       "      <td>1665</td>\n",
       "      <td>Female</td>\n",
       "      <td>79.0</td>\n",
       "      <td>1</td>\n",
       "      <td>0</td>\n",
       "      <td>Yes</td>\n",
       "      <td>Self-employed</td>\n",
       "      <td>Rural</td>\n",
       "      <td>174.12</td>\n",
       "      <td>24.0</td>\n",
       "      <td>never smoked</td>\n",
       "      <td>1</td>\n",
       "    </tr>\n",
       "    <tr>\n",
       "      <th>5</th>\n",
       "      <td>56669</td>\n",
       "      <td>Male</td>\n",
       "      <td>81.0</td>\n",
       "      <td>0</td>\n",
       "      <td>0</td>\n",
       "      <td>Yes</td>\n",
       "      <td>Private</td>\n",
       "      <td>Urban</td>\n",
       "      <td>186.21</td>\n",
       "      <td>29.0</td>\n",
       "      <td>formerly smoked</td>\n",
       "      <td>1</td>\n",
       "    </tr>\n",
       "  </tbody>\n",
       "</table>\n",
       "</div>"
      ],
      "text/plain": [
       "      id  gender   age  hypertension  heart_disease ever_married  \\\n",
       "0   9046    Male  67.0             0              1          Yes   \n",
       "2  31112    Male  80.0             0              1          Yes   \n",
       "3  60182  Female  49.0             0              0          Yes   \n",
       "4   1665  Female  79.0             1              0          Yes   \n",
       "5  56669    Male  81.0             0              0          Yes   \n",
       "\n",
       "       work_type Residence_type  avg_glucose_level   bmi   smoking_status  \\\n",
       "0        Private          Urban             228.69  36.6  formerly smoked   \n",
       "2        Private          Rural             105.92  32.5     never smoked   \n",
       "3        Private          Urban             171.23  34.4           smokes   \n",
       "4  Self-employed          Rural             174.12  24.0     never smoked   \n",
       "5        Private          Urban             186.21  29.0  formerly smoked   \n",
       "\n",
       "   stroke  \n",
       "0       1  \n",
       "2       1  \n",
       "3       1  \n",
       "4       1  \n",
       "5       1  "
      ]
     },
     "execution_count": 6,
     "metadata": {},
     "output_type": "execute_result"
    }
   ],
   "source": [
    "df.head()"
   ]
  },
  {
   "cell_type": "code",
   "execution_count": 7,
   "id": "73e5ca29",
   "metadata": {
    "ExecuteTime": {
     "end_time": "2023-06-26T08:05:02.001350Z",
     "start_time": "2023-06-26T08:05:01.961083Z"
    }
   },
   "outputs": [
    {
     "name": "stdout",
     "output_type": "stream",
     "text": [
      "<class 'pandas.core.frame.DataFrame'>\n",
      "Int64Index: 4909 entries, 0 to 5109\n",
      "Data columns (total 12 columns):\n",
      " #   Column             Non-Null Count  Dtype  \n",
      "---  ------             --------------  -----  \n",
      " 0   id                 4909 non-null   int64  \n",
      " 1   gender             4909 non-null   object \n",
      " 2   age                4909 non-null   float64\n",
      " 3   hypertension       4909 non-null   int64  \n",
      " 4   heart_disease      4909 non-null   int64  \n",
      " 5   ever_married       4909 non-null   object \n",
      " 6   work_type          4909 non-null   object \n",
      " 7   Residence_type     4909 non-null   object \n",
      " 8   avg_glucose_level  4909 non-null   float64\n",
      " 9   bmi                4909 non-null   float64\n",
      " 10  smoking_status     4909 non-null   object \n",
      " 11  stroke             4909 non-null   int64  \n",
      "dtypes: float64(3), int64(4), object(5)\n",
      "memory usage: 498.6+ KB\n"
     ]
    }
   ],
   "source": [
    "df.info()"
   ]
  },
  {
   "cell_type": "code",
   "execution_count": 8,
   "id": "96ba0384",
   "metadata": {
    "ExecuteTime": {
     "end_time": "2023-06-26T08:05:02.375027Z",
     "start_time": "2023-06-26T08:05:02.362386Z"
    }
   },
   "outputs": [],
   "source": [
    "df=pd.get_dummies(df,[\"gender\",\"ever_married\",\"work_type\",\"Residence_type\",\"smoking_status\"])"
   ]
  },
  {
   "cell_type": "code",
   "execution_count": 9,
   "id": "81fe4d8e",
   "metadata": {
    "ExecuteTime": {
     "end_time": "2023-06-26T08:05:02.796900Z",
     "start_time": "2023-06-26T08:05:02.786434Z"
    }
   },
   "outputs": [
    {
     "name": "stdout",
     "output_type": "stream",
     "text": [
      "<class 'pandas.core.frame.DataFrame'>\n",
      "Int64Index: 4909 entries, 0 to 5109\n",
      "Data columns (total 23 columns):\n",
      " #   Column                          Non-Null Count  Dtype  \n",
      "---  ------                          --------------  -----  \n",
      " 0   id                              4909 non-null   int64  \n",
      " 1   age                             4909 non-null   float64\n",
      " 2   hypertension                    4909 non-null   int64  \n",
      " 3   heart_disease                   4909 non-null   int64  \n",
      " 4   avg_glucose_level               4909 non-null   float64\n",
      " 5   bmi                             4909 non-null   float64\n",
      " 6   stroke                          4909 non-null   int64  \n",
      " 7   gender_Female                   4909 non-null   uint8  \n",
      " 8   gender_Male                     4909 non-null   uint8  \n",
      " 9   gender_Other                    4909 non-null   uint8  \n",
      " 10  ever_married_No                 4909 non-null   uint8  \n",
      " 11  ever_married_Yes                4909 non-null   uint8  \n",
      " 12  work_type_Govt_job              4909 non-null   uint8  \n",
      " 13  work_type_Never_worked          4909 non-null   uint8  \n",
      " 14  work_type_Private               4909 non-null   uint8  \n",
      " 15  work_type_Self-employed         4909 non-null   uint8  \n",
      " 16  work_type_children              4909 non-null   uint8  \n",
      " 17  Residence_type_Rural            4909 non-null   uint8  \n",
      " 18  Residence_type_Urban            4909 non-null   uint8  \n",
      " 19  smoking_status_Unknown          4909 non-null   uint8  \n",
      " 20  smoking_status_formerly smoked  4909 non-null   uint8  \n",
      " 21  smoking_status_never smoked     4909 non-null   uint8  \n",
      " 22  smoking_status_smokes           4909 non-null   uint8  \n",
      "dtypes: float64(3), int64(4), uint8(16)\n",
      "memory usage: 383.5 KB\n"
     ]
    }
   ],
   "source": [
    "df.info()"
   ]
  },
  {
   "cell_type": "code",
   "execution_count": 10,
   "id": "b9d49f79",
   "metadata": {
    "ExecuteTime": {
     "end_time": "2023-06-26T08:05:03.261835Z",
     "start_time": "2023-06-26T08:05:03.251957Z"
    }
   },
   "outputs": [],
   "source": [
    "df.drop(\"id\",axis=1, inplace=True)"
   ]
  },
  {
   "cell_type": "code",
   "execution_count": 11,
   "id": "cac9668b",
   "metadata": {
    "ExecuteTime": {
     "end_time": "2023-06-26T08:05:03.708943Z",
     "start_time": "2023-06-26T08:05:03.701946Z"
    }
   },
   "outputs": [
    {
     "data": {
      "text/plain": [
       "0    4700\n",
       "1     209\n",
       "Name: stroke, dtype: int64"
      ]
     },
     "execution_count": 11,
     "metadata": {},
     "output_type": "execute_result"
    }
   ],
   "source": [
    "df[\"stroke\"].value_counts()"
   ]
  },
  {
   "cell_type": "code",
   "execution_count": 12,
   "id": "92d884f0",
   "metadata": {
    "ExecuteTime": {
     "end_time": "2023-06-26T08:05:04.210324Z",
     "start_time": "2023-06-26T08:05:04.183692Z"
    }
   },
   "outputs": [
    {
     "name": "stdout",
     "output_type": "stream",
     "text": [
      "<class 'pandas.core.frame.DataFrame'>\n",
      "Int64Index: 209 entries, 0 to 248\n",
      "Data columns (total 22 columns):\n",
      " #   Column                          Non-Null Count  Dtype  \n",
      "---  ------                          --------------  -----  \n",
      " 0   age                             209 non-null    float64\n",
      " 1   hypertension                    209 non-null    int64  \n",
      " 2   heart_disease                   209 non-null    int64  \n",
      " 3   avg_glucose_level               209 non-null    float64\n",
      " 4   bmi                             209 non-null    float64\n",
      " 5   stroke                          209 non-null    int64  \n",
      " 6   gender_Female                   209 non-null    uint8  \n",
      " 7   gender_Male                     209 non-null    uint8  \n",
      " 8   gender_Other                    209 non-null    uint8  \n",
      " 9   ever_married_No                 209 non-null    uint8  \n",
      " 10  ever_married_Yes                209 non-null    uint8  \n",
      " 11  work_type_Govt_job              209 non-null    uint8  \n",
      " 12  work_type_Never_worked          209 non-null    uint8  \n",
      " 13  work_type_Private               209 non-null    uint8  \n",
      " 14  work_type_Self-employed         209 non-null    uint8  \n",
      " 15  work_type_children              209 non-null    uint8  \n",
      " 16  Residence_type_Rural            209 non-null    uint8  \n",
      " 17  Residence_type_Urban            209 non-null    uint8  \n",
      " 18  smoking_status_Unknown          209 non-null    uint8  \n",
      " 19  smoking_status_formerly smoked  209 non-null    uint8  \n",
      " 20  smoking_status_never smoked     209 non-null    uint8  \n",
      " 21  smoking_status_smokes           209 non-null    uint8  \n",
      "dtypes: float64(3), int64(3), uint8(16)\n",
      "memory usage: 14.7 KB\n"
     ]
    }
   ],
   "source": [
    "df2=df[df[\"stroke\"]==1]\n",
    "df2.info()"
   ]
  },
  {
   "cell_type": "markdown",
   "id": "7da53432",
   "metadata": {},
   "source": [
    "# DATA VISUALIZATION"
   ]
  },
  {
   "cell_type": "code",
   "execution_count": 13,
   "id": "1c1d392b",
   "metadata": {
    "ExecuteTime": {
     "end_time": "2023-06-26T08:05:05.529470Z",
     "start_time": "2023-06-26T08:05:05.117668Z"
    }
   },
   "outputs": [
    {
     "data": {
      "text/plain": [
       "Text(0, 0.5, 'Correlation percentage')"
      ]
     },
     "execution_count": 13,
     "metadata": {},
     "output_type": "execute_result"
    },
    {
     "data": {
      "image/png": "[encoded data removed]",
      "text/plain": [
       "<Figure size 720x432 with 1 Axes>"
      ]
     },
     "metadata": {
      "needs_background": "light"
     },
     "output_type": "display_data"
    }
   ],
   "source": [
    "# show up the correlation between the people who have a stroke and other features\n",
    "fig,ax=plt.subplots(figsize=(10,6))\n",
    "x=df.corr()[\"stroke\"].index\n",
    "y=df.corr()[\"stroke\"].values\n",
    "\n",
    "plt.bar(list(x),list(y))\n",
    "plt.tick_params(axis=\"x\",labelrotation = 90)\n",
    "plt.title(\"Correlation between stroke and the other elements\")\n",
    "plt.ylabel(\"Correlation percentage\")"
   ]
  },
  {
   "cell_type": "code",
   "execution_count": 14,
   "id": "7386f7e9",
   "metadata": {
    "ExecuteTime": {
     "end_time": "2023-06-26T08:05:07.271703Z",
     "start_time": "2023-06-26T08:05:05.708258Z"
    }
   },
   "outputs": [
    {
     "data": {
      "text/plain": [
       "<AxesSubplot: >"
      ]
     },
     "execution_count": 14,
     "metadata": {},
     "output_type": "execute_result"
    },
    {
     "data": {
      "image/png": "[encoded data removed]",
      "text/plain": [
       "<Figure size 1080x576 with 2 Axes>"
      ]
     },
     "metadata": {
      "needs_background": "light"
     },
     "output_type": "display_data"
    }
   ],
   "source": [
    "plt.figure(figsize=(15,8))\n",
    "sns.heatmap(df.corr(), annot = True, fmt = '.2f')"
   ]
  },
  {
   "cell_type": "code",
   "execution_count": 15,
   "id": "99c75f42",
   "metadata": {
    "ExecuteTime": {
     "end_time": "2023-06-26T08:05:08.251489Z",
     "start_time": "2023-06-26T08:05:07.768587Z"
    }
   },
   "outputs": [
    {
     "data": {
      "text/plain": [
       "Text(0, 0.5, 'Count')"
      ]
     },
     "execution_count": 15,
     "metadata": {},
     "output_type": "execute_result"
    },
    {
     "data": {
      "image/png": "[encoded data removed]",
      "text/plain": [
       "<Figure size 1440x432 with 1 Axes>"
      ]
     },
     "metadata": {
      "needs_background": "light"
     },
     "output_type": "display_data"
    }
   ],
   "source": [
    "fig,ax=plt.subplots(figsize=(20,6))\n",
    "x=df2[\"age\"].value_counts().index\n",
    "y=df2[\"age\"].value_counts().values\n",
    "\n",
    "plt.bar(list(x),list(y))\n",
    "plt.tick_params(axis=\"x\",labelrotation = 90)\n",
    "plt.xticks(np.arange(1, max(x)+1,2))\n",
    "#plt.xticks(np.arange(min(x), max(x)+1, 1.0))\n",
    "plt.title(\"Correlation between stroke and age\")\n",
    "plt.ylabel(\"Count\")"
   ]
  },
  {
   "cell_type": "code",
   "execution_count": 16,
   "id": "51a0e2e3",
   "metadata": {
    "ExecuteTime": {
     "end_time": "2023-06-26T08:05:09.201792Z",
     "start_time": "2023-06-26T08:05:08.733053Z"
    }
   },
   "outputs": [
    {
     "data": {
      "image/png": "[encoded data removed]",
      "text/plain": [
       "<Figure size 1440x720 with 4 Axes>"
      ]
     },
     "metadata": {
      "needs_background": "light"
     },
     "output_type": "display_data"
    }
   ],
   "source": [
    "# the releation between stroke and other featsures\n",
    "fig,ax=plt.subplots(nrows=2,ncols=2,figsize=(20,20))\n",
    "x=np.array(df2[\"hypertension\"].value_counts().index.astype(str))\n",
    "y=np.array(df2[\"hypertension\"].value_counts().values)\n",
    "ax[0,0].bar(x,y,width=.5)\n",
    "ax[0,0].tick_params(axis='x', labelrotation = 90)\n",
    "ax[0,0].set_title(\"hypertension & stroke\")\n",
    "ax[0,0].set_ylabel(\"stroke counting\")\n",
    "fig.set_figheight(10)\n",
    "\n",
    "x1=np.array(df2[\"heart_disease\"].value_counts().index.astype(str))\n",
    "y1=np.array(df2[\"heart_disease\"].value_counts().values)\n",
    "ax[0,1].bar(x1,y1,width=.5)\n",
    "ax[0,1].tick_params(axis='x', labelrotation = 90)\n",
    "ax[0,1].set_title(\"heart_disease & stroke\")\n",
    "fig.set_figheight(10)\n",
    "\n",
    "x2=np.array(df2[\"ever_married_Yes\"].value_counts().index.astype(str))\n",
    "y2=np.array(df2[\"ever_married_Yes\"].value_counts().values)\n",
    "ax[1,0].bar(x2,y2,width=.5)\n",
    "ax[1,0].tick_params(axis='x', labelrotation = 90)\n",
    "ax[1,0].set_title(\"ever_married_Yes & stroke\")\n",
    "ax[1,0].set_ylabel(\"stroke counting\")\n",
    "fig.set_figheight(10)\n",
    "\n",
    "x3=np.array(df2[\"smoking_status_formerly smoked\"].value_counts().index.astype(str))\n",
    "y3=np.array(df2[\"smoking_status_formerly smoked\"].value_counts().values)\n",
    "ax[1,1].bar(x3,y3,width=.5)\n",
    "ax[1,1].tick_params(axis='x', labelrotation = 90)\n",
    "ax[1,1].set_title(\"smoking_status_formerly smoked & stroke\")\n",
    "fig.set_figheight(10)\n"
   ]
  },
  {
   "cell_type": "markdown",
   "id": "19c03ba9",
   "metadata": {},
   "source": [
    "# TRAINING MODELS"
   ]
  },
  {
   "cell_type": "markdown",
   "id": "9df35bb9",
   "metadata": {},
   "source": [
    "## Without OverSampling"
   ]
  },
  {
   "cell_type": "code",
   "execution_count": 17,
   "id": "30493345",
   "metadata": {
    "ExecuteTime": {
     "end_time": "2023-06-26T08:05:10.702437Z",
     "start_time": "2023-06-26T08:05:10.697495Z"
    }
   },
   "outputs": [],
   "source": [
    "# get the X,y axis\n",
    "X=df.drop(\"stroke\",axis=1).values\n",
    "y=df[\"stroke\"].values"
   ]
  },
  {
   "cell_type": "code",
   "execution_count": 18,
   "id": "296610f6",
   "metadata": {
    "ExecuteTime": {
     "end_time": "2023-06-26T08:05:11.247023Z",
     "start_time": "2023-06-26T08:05:11.242567Z"
    }
   },
   "outputs": [],
   "source": [
    "x_train , x_test , y_train , y_test = train_test_split(X,y,test_size=0.3,random_state=1)"
   ]
  },
  {
   "cell_type": "markdown",
   "id": "884c84b4",
   "metadata": {},
   "source": [
    "### KNeighborsClassifier"
   ]
  },
  {
   "cell_type": "code",
   "execution_count": 19,
   "id": "6f6e9670",
   "metadata": {
    "ExecuteTime": {
     "end_time": "2023-06-26T08:05:13.233480Z",
     "start_time": "2023-06-26T08:05:12.216823Z"
    }
   },
   "outputs": [],
   "source": [
    "model2=KNeighborsClassifier()\n",
    "model2.fit(x_train,y_train)\n",
    "M_2_pre_train=model2.predict(x_train)\n",
    "M_2_pre_test=model2.predict(x_test)"
   ]
  },
  {
   "cell_type": "code",
   "execution_count": 20,
   "id": "a1397ba2",
   "metadata": {
    "ExecuteTime": {
     "end_time": "2023-06-26T08:05:13.854755Z",
     "start_time": "2023-06-26T08:05:13.837353Z"
    }
   },
   "outputs": [
    {
     "name": "stdout",
     "output_type": "stream",
     "text": [
      "Train : \n",
      "              precision    recall  f1-score   support\n",
      "\n",
      "           0       1.00      0.96      0.98      3411\n",
      "           1       0.08      0.48      0.14        25\n",
      "\n",
      "    accuracy                           0.96      3436\n",
      "   macro avg       0.54      0.72      0.56      3436\n",
      "weighted avg       0.99      0.96      0.97      3436\n",
      " \n",
      " confusion_matrix : \n",
      " [[3278  133]\n",
      " [  13   12]]\n",
      "**************************************************\n",
      "test: \n",
      "               precision    recall  f1-score   support\n",
      "\n",
      "           0       0.99      0.96      0.97      1461\n",
      "           1       0.02      0.08      0.03        12\n",
      "\n",
      "    accuracy                           0.95      1473\n",
      "   macro avg       0.50      0.52      0.50      1473\n",
      "weighted avg       0.98      0.95      0.97      1473\n",
      " \n",
      " confusion_matrix : \n",
      " [[1398   63]\n",
      " [  11    1]]\n"
     ]
    }
   ],
   "source": [
    "print(\"Train : \")\n",
    "print(classification_report(M_2_pre_train,y_train),\"\\n confusion_matrix : \\n\",confusion_matrix(M_2_pre_train,y_train))\n",
    "print(\"*\"*50)\n",
    "print(\"test: \\n\",classification_report(M_2_pre_test,y_test),\"\\n confusion_matrix : \\n\",confusion_matrix(M_2_pre_test,y_test))"
   ]
  },
  {
   "cell_type": "markdown",
   "id": "ceb8cbbc",
   "metadata": {},
   "source": [
    "### DecisionTreeClassifier"
   ]
  },
  {
   "cell_type": "code",
   "execution_count": 21,
   "id": "cf8fb24b",
   "metadata": {
    "ExecuteTime": {
     "end_time": "2023-06-26T08:05:15.319871Z",
     "start_time": "2023-06-26T08:05:15.305486Z"
    }
   },
   "outputs": [],
   "source": [
    "model3=DecisionTreeClassifier(max_depth=15)\n",
    "model3.fit(x_train,y_train)\n",
    "M_3_pre_train=model3.predict(x_train)\n",
    "M_3_pre_test=model3.predict(x_test)"
   ]
  },
  {
   "cell_type": "code",
   "execution_count": 22,
   "id": "23131d6c",
   "metadata": {
    "ExecuteTime": {
     "end_time": "2023-06-26T08:05:16.199993Z",
     "start_time": "2023-06-26T08:05:16.169895Z"
    }
   },
   "outputs": [
    {
     "name": "stdout",
     "output_type": "stream",
     "text": [
      "Train: \n",
      "               precision    recall  f1-score   support\n",
      "\n",
      "           0       1.00      1.00      1.00      3296\n",
      "           1       0.97      1.00      0.98       140\n",
      "\n",
      "    accuracy                           1.00      3436\n",
      "   macro avg       0.98      1.00      0.99      3436\n",
      "weighted avg       1.00      1.00      1.00      3436\n",
      " \n",
      " confusion_matrix : \n",
      " [[3291    5]\n",
      " [   0  140]]\n",
      "**************************************************\n",
      "Test: \n",
      "               precision    recall  f1-score   support\n",
      "\n",
      "           0       0.95      0.96      0.95      1392\n",
      "           1       0.14      0.11      0.12        81\n",
      "\n",
      "    accuracy                           0.91      1473\n",
      "   macro avg       0.54      0.54      0.54      1473\n",
      "weighted avg       0.90      0.91      0.91      1473\n",
      " \n",
      " confusion_matrix : \n",
      " [[1337   55]\n",
      " [  72    9]]\n"
     ]
    }
   ],
   "source": [
    "print(\"Train: \\n\",classification_report(M_3_pre_train,y_train),\"\\n confusion_matrix : \\n\",confusion_matrix(M_3_pre_train,y_train))\n",
    "print(\"*\"*50)\n",
    "print(\"Test: \\n\",classification_report(M_3_pre_test,y_test),\"\\n confusion_matrix : \\n\",confusion_matrix(M_3_pre_test,y_test))"
   ]
  },
  {
   "cell_type": "markdown",
   "id": "4cfb3a70",
   "metadata": {},
   "source": [
    "### Logistic Regression"
   ]
  },
  {
   "cell_type": "code",
   "execution_count": 23,
   "id": "828e20cc",
   "metadata": {
    "ExecuteTime": {
     "end_time": "2023-06-26T08:05:17.518480Z",
     "start_time": "2023-06-26T08:05:17.291090Z"
    }
   },
   "outputs": [],
   "source": [
    "model4 = LogisticRegression(solver=\"newton-cg\", max_iter=1000, fit_intercept=True, penalty=\"l2\", C=0.1)\n",
    "model4.fit(x_train,y_train)\n",
    "M_4_pre_train = model4.predict(x_train)\n",
    "M_4_pre_test = model4.predict(x_test)"
   ]
  },
  {
   "cell_type": "code",
   "execution_count": 24,
   "id": "504aed3c",
   "metadata": {
    "ExecuteTime": {
     "end_time": "2023-06-26T08:05:19.490962Z",
     "start_time": "2023-06-26T08:05:19.456209Z"
    }
   },
   "outputs": [
    {
     "name": "stdout",
     "output_type": "stream",
     "text": [
      "Train: \n",
      "               precision    recall  f1-score   support\n",
      "\n",
      "           0       1.00      0.96      0.98      3435\n",
      "           1       0.01      1.00      0.01         1\n",
      "\n",
      "    accuracy                           0.96      3436\n",
      "   macro avg       0.50      0.98      0.50      3436\n",
      "weighted avg       1.00      0.96      0.98      3436\n",
      " \n",
      " confusion_matrix : \n",
      " [[3291  144]\n",
      " [   0    1]]\n",
      "**************************************************\n",
      "Test: \n",
      "               precision    recall  f1-score   support\n",
      "\n",
      "           0       1.00      0.96      0.98      1473\n",
      "           1       0.00      0.00      0.00         0\n",
      "\n",
      "    accuracy                           0.96      1473\n",
      "   macro avg       0.50      0.48      0.49      1473\n",
      "weighted avg       1.00      0.96      0.98      1473\n",
      " \n",
      " confusion_matrix : \n",
      " [[1409   64]\n",
      " [   0    0]]\n"
     ]
    },
    {
     "name": "stderr",
     "output_type": "stream",
     "text": [
      "/usr/local/lib/python3.8/dist-packages/sklearn/metrics/_classification.py:1327: UndefinedMetricWarning: Recall and F-score are ill-defined and being set to 0.0 in labels with no true samples. Use `zero_division` parameter to control this behavior.\n",
      "  _warn_prf(average, modifier, msg_start, len(result))\n",
      "/usr/local/lib/python3.8/dist-packages/sklearn/metrics/_classification.py:1327: UndefinedMetricWarning: Recall and F-score are ill-defined and being set to 0.0 in labels with no true samples. Use `zero_division` parameter to control this behavior.\n",
      "  _warn_prf(average, modifier, msg_start, len(result))\n",
      "/usr/local/lib/python3.8/dist-packages/sklearn/metrics/_classification.py:1327: UndefinedMetricWarning: Recall and F-score are ill-defined and being set to 0.0 in labels with no true samples. Use `zero_division` parameter to control this behavior.\n",
      "  _warn_prf(average, modifier, msg_start, len(result))\n"
     ]
    }
   ],
   "source": [
    "print(\"Train: \\n\",classification_report(M_4_pre_train,y_train),\"\\n confusion_matrix : \\n\",confusion_matrix(M_4_pre_train,y_train))\n",
    "print(\"*\"*50)\n",
    "print(\"Test: \\n\",classification_report(M_4_pre_test,y_test),\"\\n confusion_matrix : \\n\",confusion_matrix(M_4_pre_test,y_test))"
   ]
  },
  {
   "cell_type": "markdown",
   "id": "ad23d9dd",
   "metadata": {},
   "source": [
    "### RandomForest"
   ]
  },
  {
   "cell_type": "code",
   "execution_count": 25,
   "id": "dd4e5ca5",
   "metadata": {
    "ExecuteTime": {
     "end_time": "2023-06-26T08:05:35.168927Z",
     "start_time": "2023-06-26T08:05:22.852503Z"
    }
   },
   "outputs": [
    {
     "data": {
      "text/html": [
       "<style>#sk-container-id-1 {color: black;background-color: white;}#sk-container-id-1 pre{padding: 0;}#sk-container-id-1 div.sk-toggleable {background-color: white;}#sk-container-id-1 label.sk-toggleable__label {cursor: pointer;display: block;width: 100%;margin-bottom: 0;padding: 0.3em;box-sizing: border-box;text-align: center;}#sk-container-id-1 label.sk-toggleable__label-arrow:before {content: \"▸\";float: left;margin-right: 0.25em;color: #696969;}#sk-container-id-1 label.sk-toggleable__label-arrow:hover:before {color: black;}#sk-container-id-1 div.sk-estimator:hover label.sk-toggleable__label-arrow:before {color: black;}#sk-container-id-1 div.sk-toggleable__content {max-height: 0;max-width: 0;overflow: hidden;text-align: left;background-color: #f0f8ff;}#sk-container-id-1 div.sk-toggleable__content pre {margin: 0.2em;color: black;border-radius: 0.25em;background-color: #f0f8ff;}#sk-container-id-1 input.sk-toggleable__control:checked~div.sk-toggleable__content {max-height: 200px;max-width: 100%;overflow: auto;}#sk-container-id-1 input.sk-toggleable__control:checked~label.sk-toggleable__label-arrow:before {content: \"▾\";}#sk-container-id-1 div.sk-estimator input.sk-toggleable__control:checked~label.sk-toggleable__label {background-color: #d4ebff;}#sk-container-id-1 div.sk-label input.sk-toggleable__control:checked~label.sk-toggleable__label {background-color: #d4ebff;}#sk-container-id-1 input.sk-hidden--visually {border: 0;clip: rect(1px 1px 1px 1px);clip: rect(1px, 1px, 1px, 1px);height: 1px;margin: -1px;overflow: hidden;padding: 0;position: absolute;width: 1px;}#sk-container-id-1 div.sk-estimator {font-family: monospace;background-color: #f0f8ff;border: 1px dotted black;border-radius: 0.25em;box-sizing: border-box;margin-bottom: 0.5em;}#sk-container-id-1 div.sk-estimator:hover {background-color: #d4ebff;}#sk-container-id-1 div.sk-parallel-item::after {content: \"\";width: 100%;border-bottom: 1px solid gray;flex-grow: 1;}#sk-container-id-1 div.sk-label:hover label.sk-toggleable__label {background-color: #d4ebff;}#sk-container-id-1 div.sk-serial::before {content: \"\";position: absolute;border-left: 1px solid gray;box-sizing: border-box;top: 0;bottom: 0;left: 50%;z-index: 0;}#sk-container-id-1 div.sk-serial {display: flex;flex-direction: column;align-items: center;background-color: white;padding-right: 0.2em;padding-left: 0.2em;position: relative;}#sk-container-id-1 div.sk-item {position: relative;z-index: 1;}#sk-container-id-1 div.sk-parallel {display: flex;align-items: stretch;justify-content: center;background-color: white;position: relative;}#sk-container-id-1 div.sk-item::before, #sk-container-id-1 div.sk-parallel-item::before {content: \"\";position: absolute;border-left: 1px solid gray;box-sizing: border-box;top: 0;bottom: 0;left: 50%;z-index: -1;}#sk-container-id-1 div.sk-parallel-item {display: flex;flex-direction: column;z-index: 1;position: relative;background-color: white;}#sk-container-id-1 div.sk-parallel-item:first-child::after {align-self: flex-end;width: 50%;}#sk-container-id-1 div.sk-parallel-item:last-child::after {align-self: flex-start;width: 50%;}#sk-container-id-1 div.sk-parallel-item:only-child::after {width: 0;}#sk-container-id-1 div.sk-dashed-wrapped {border: 1px dashed gray;margin: 0 0.4em 0.5em 0.4em;box-sizing: border-box;padding-bottom: 0.4em;background-color: white;}#sk-container-id-1 div.sk-label label {font-family: monospace;font-weight: bold;display: inline-block;line-height: 1.2em;}#sk-container-id-1 div.sk-label-container {text-align: center;}#sk-container-id-1 div.sk-container {/* jupyter's `normalize.less` sets `[hidden] { display: none; }` but bootstrap.min.css set `[hidden] { display: none !important; }` so we also need the `!important` here to be able to override the default hidden behavior on the sphinx rendered scikit-learn.org. See: https://github.com/scikit-learn/scikit-learn/issues/21755 */display: inline-block !important;position: relative;}#sk-container-id-1 div.sk-text-repr-fallback {display: none;}</style><div id=\"sk-container-id-1\" class=\"sk-top-container\"><div class=\"sk-text-repr-fallback\"><pre>GridSearchCV(estimator=RandomForestClassifier(),\n",
       "             param_grid={&#x27;n_estimators&#x27;: range(100, 111)})</pre><b>In a Jupyter environment, please rerun this cell to show the HTML representation or trust the notebook. <br />On GitHub, the HTML representation is unable to render, please try loading this page with nbviewer.org.</b></div><div class=\"sk-container\" hidden><div class=\"sk-item sk-dashed-wrapped\"><div class=\"sk-label-container\"><div class=\"sk-label sk-toggleable\"><input class=\"sk-toggleable__control sk-hidden--visually\" id=\"sk-estimator-id-1\" type=\"checkbox\" ><label for=\"sk-estimator-id-1\" class=\"sk-toggleable__label sk-toggleable__label-arrow\">GridSearchCV</label><div class=\"sk-toggleable__content\"><pre>GridSearchCV(estimator=RandomForestClassifier(),\n",
       "             param_grid={&#x27;n_estimators&#x27;: range(100, 111)})</pre></div></div></div><div class=\"sk-parallel\"><div class=\"sk-parallel-item\"><div class=\"sk-item\"><div class=\"sk-label-container\"><div class=\"sk-label sk-toggleable\"><input class=\"sk-toggleable__control sk-hidden--visually\" id=\"sk-estimator-id-2\" type=\"checkbox\" ><label for=\"sk-estimator-id-2\" class=\"sk-toggleable__label sk-toggleable__label-arrow\">estimator: RandomForestClassifier</label><div class=\"sk-toggleable__content\"><pre>RandomForestClassifier()</pre></div></div></div><div class=\"sk-serial\"><div class=\"sk-item\"><div class=\"sk-estimator sk-toggleable\"><input class=\"sk-toggleable__control sk-hidden--visually\" id=\"sk-estimator-id-3\" type=\"checkbox\" ><label for=\"sk-estimator-id-3\" class=\"sk-toggleable__label sk-toggleable__label-arrow\">RandomForestClassifier</label><div class=\"sk-toggleable__content\"><pre>RandomForestClassifier()</pre></div></div></div></div></div></div></div></div></div></div>"
      ],
      "text/plain": [
       "GridSearchCV(estimator=RandomForestClassifier(),\n",
       "             param_grid={'n_estimators': range(100, 111)})"
      ]
     },
     "execution_count": 25,
     "metadata": {},
     "output_type": "execute_result"
    }
   ],
   "source": [
    "para={\"n_estimators\":range(100,111)}\n",
    "mod=RandomForestClassifier()\n",
    "model5=GridSearchCV(mod,para)\n",
    "model5.fit(x_train,y_train)"
   ]
  },
  {
   "cell_type": "code",
   "execution_count": 26,
   "id": "38a80866",
   "metadata": {
    "ExecuteTime": {
     "end_time": "2023-06-26T08:06:32.175436Z",
     "start_time": "2023-06-26T08:06:10.535594Z"
    }
   },
   "outputs": [
    {
     "data": {
      "image/png": "[encoded data removed]",
      "text/plain": [
       "<Figure size 432x288 with 1 Axes>"
      ]
     },
     "metadata": {
      "needs_background": "light"
     },
     "output_type": "display_data"
    }
   ],
   "source": [
    "import matplotlib.pyplot as plt\n",
    "import numpy as np\n",
    "from sklearn.ensemble import RandomForestClassifier\n",
    "from sklearn.model_selection import GridSearchCV, learning_curve\n",
    "\n",
    "para = {\"n_estimators\":range(100,111)}\n",
    "\n",
    "mod = RandomForestClassifier()\n",
    "\n",
    "model5 = GridSearchCV(mod, para)\n",
    "\n",
    "model5.fit(x_train, y_train)\n",
    "\n",
    "train_sizes, train_scores, test_scores = learning_curve(\n",
    "    model5.best_estimator_, X=x_train, y=y_train, cv=5, train_sizes=np.linspace(0.1, 1.0, 10)\n",
    ")\n",
    "\n",
    "train_scores_mean = np.mean(train_scores, axis=1)\n",
    "train_scores_std = np.std(train_scores, axis=1)\n",
    "test_scores_mean = np.mean(test_scores, axis=1)\n",
    "test_scores_std = np.std(test_scores, axis=1)\n",
    "\n",
    "plt.figure()\n",
    "plt.title(\"Courbe d'apprentissage\")\n",
    "plt.xlabel(\"Taille de l'ensemble d'entraînement\")\n",
    "plt.ylabel(\"Score\")\n",
    "plt.grid()\n",
    "\n",
    "plt.fill_between(\n",
    "    train_sizes, train_scores_mean - train_scores_std, train_scores_mean + train_scores_std, alpha=0.1, color=\"r\"\n",
    ")\n",
    "plt.fill_between(\n",
    "    train_sizes, test_scores_mean - test_scores_std, test_scores_mean + test_scores_std, alpha=0.1, color=\"g\"\n",
    ")\n",
    "plt.plot(train_sizes, train_scores_mean, 'o-', color=\"r\", label=\"Score d'entraînement\")\n",
    "plt.plot(train_sizes, test_scores_mean, 'o-', color=\"g\", label=\"Score de validation\")\n",
    "\n",
    "plt.legend(loc=\"best\")\n",
    "plt.show()\n"
   ]
  },
  {
   "cell_type": "code",
   "execution_count": 27,
   "id": "3c0eaf1f",
   "metadata": {
    "ExecuteTime": {
     "end_time": "2023-06-26T08:06:36.902598Z",
     "start_time": "2023-06-26T08:06:36.855627Z"
    }
   },
   "outputs": [
    {
     "data": {
      "text/html": [
       "<div>\n",
       "<style scoped>\n",
       "    .dataframe tbody tr th:only-of-type {\n",
       "        vertical-align: middle;\n",
       "    }\n",
       "\n",
       "    .dataframe tbody tr th {\n",
       "        vertical-align: top;\n",
       "    }\n",
       "\n",
       "    .dataframe thead th {\n",
       "        text-align: right;\n",
       "    }\n",
       "</style>\n",
       "<table border=\"1\" class=\"dataframe\">\n",
       "  <thead>\n",
       "    <tr style=\"text-align: right;\">\n",
       "      <th></th>\n",
       "      <th>mean_fit_time</th>\n",
       "      <th>std_fit_time</th>\n",
       "      <th>mean_score_time</th>\n",
       "      <th>std_score_time</th>\n",
       "      <th>param_n_estimators</th>\n",
       "      <th>params</th>\n",
       "      <th>split0_test_score</th>\n",
       "      <th>split1_test_score</th>\n",
       "      <th>split2_test_score</th>\n",
       "      <th>split3_test_score</th>\n",
       "      <th>split4_test_score</th>\n",
       "      <th>mean_test_score</th>\n",
       "      <th>std_test_score</th>\n",
       "      <th>rank_test_score</th>\n",
       "    </tr>\n",
       "  </thead>\n",
       "  <tbody>\n",
       "    <tr>\n",
       "      <th>0</th>\n",
       "      <td>0.202668</td>\n",
       "      <td>0.013630</td>\n",
       "      <td>0.013706</td>\n",
       "      <td>0.000647</td>\n",
       "      <td>100</td>\n",
       "      <td>{'n_estimators': 100}</td>\n",
       "      <td>0.956395</td>\n",
       "      <td>0.956332</td>\n",
       "      <td>0.957787</td>\n",
       "      <td>0.956332</td>\n",
       "      <td>0.957787</td>\n",
       "      <td>0.956927</td>\n",
       "      <td>0.000703</td>\n",
       "      <td>8</td>\n",
       "    </tr>\n",
       "    <tr>\n",
       "      <th>1</th>\n",
       "      <td>0.199250</td>\n",
       "      <td>0.002000</td>\n",
       "      <td>0.013888</td>\n",
       "      <td>0.000397</td>\n",
       "      <td>101</td>\n",
       "      <td>{'n_estimators': 101}</td>\n",
       "      <td>0.956395</td>\n",
       "      <td>0.956332</td>\n",
       "      <td>0.959243</td>\n",
       "      <td>0.956332</td>\n",
       "      <td>0.957787</td>\n",
       "      <td>0.957218</td>\n",
       "      <td>0.001155</td>\n",
       "      <td>5</td>\n",
       "    </tr>\n",
       "    <tr>\n",
       "      <th>2</th>\n",
       "      <td>0.193630</td>\n",
       "      <td>0.001378</td>\n",
       "      <td>0.013376</td>\n",
       "      <td>0.000037</td>\n",
       "      <td>102</td>\n",
       "      <td>{'n_estimators': 102}</td>\n",
       "      <td>0.959302</td>\n",
       "      <td>0.956332</td>\n",
       "      <td>0.957787</td>\n",
       "      <td>0.957787</td>\n",
       "      <td>0.956332</td>\n",
       "      <td>0.957508</td>\n",
       "      <td>0.001108</td>\n",
       "      <td>3</td>\n",
       "    </tr>\n",
       "    <tr>\n",
       "      <th>3</th>\n",
       "      <td>0.201298</td>\n",
       "      <td>0.004343</td>\n",
       "      <td>0.013625</td>\n",
       "      <td>0.000260</td>\n",
       "      <td>103</td>\n",
       "      <td>{'n_estimators': 103}</td>\n",
       "      <td>0.956395</td>\n",
       "      <td>0.956332</td>\n",
       "      <td>0.956332</td>\n",
       "      <td>0.956332</td>\n",
       "      <td>0.956332</td>\n",
       "      <td>0.956345</td>\n",
       "      <td>0.000025</td>\n",
       "      <td>11</td>\n",
       "    </tr>\n",
       "    <tr>\n",
       "      <th>4</th>\n",
       "      <td>0.199165</td>\n",
       "      <td>0.002085</td>\n",
       "      <td>0.013595</td>\n",
       "      <td>0.000133</td>\n",
       "      <td>104</td>\n",
       "      <td>{'n_estimators': 104}</td>\n",
       "      <td>0.954942</td>\n",
       "      <td>0.956332</td>\n",
       "      <td>0.957787</td>\n",
       "      <td>0.957787</td>\n",
       "      <td>0.957787</td>\n",
       "      <td>0.956927</td>\n",
       "      <td>0.001142</td>\n",
       "      <td>6</td>\n",
       "    </tr>\n",
       "    <tr>\n",
       "      <th>5</th>\n",
       "      <td>0.199424</td>\n",
       "      <td>0.002012</td>\n",
       "      <td>0.014141</td>\n",
       "      <td>0.000712</td>\n",
       "      <td>105</td>\n",
       "      <td>{'n_estimators': 105}</td>\n",
       "      <td>0.954942</td>\n",
       "      <td>0.956332</td>\n",
       "      <td>0.959243</td>\n",
       "      <td>0.957787</td>\n",
       "      <td>0.954876</td>\n",
       "      <td>0.956636</td>\n",
       "      <td>0.001684</td>\n",
       "      <td>10</td>\n",
       "    </tr>\n",
       "    <tr>\n",
       "      <th>6</th>\n",
       "      <td>0.201277</td>\n",
       "      <td>0.002094</td>\n",
       "      <td>0.013879</td>\n",
       "      <td>0.000160</td>\n",
       "      <td>106</td>\n",
       "      <td>{'n_estimators': 106}</td>\n",
       "      <td>0.959302</td>\n",
       "      <td>0.956332</td>\n",
       "      <td>0.957787</td>\n",
       "      <td>0.957787</td>\n",
       "      <td>0.956332</td>\n",
       "      <td>0.957508</td>\n",
       "      <td>0.001108</td>\n",
       "      <td>3</td>\n",
       "    </tr>\n",
       "    <tr>\n",
       "      <th>7</th>\n",
       "      <td>0.203896</td>\n",
       "      <td>0.000948</td>\n",
       "      <td>0.014071</td>\n",
       "      <td>0.000079</td>\n",
       "      <td>107</td>\n",
       "      <td>{'n_estimators': 107}</td>\n",
       "      <td>0.954942</td>\n",
       "      <td>0.954876</td>\n",
       "      <td>0.959243</td>\n",
       "      <td>0.957787</td>\n",
       "      <td>0.957787</td>\n",
       "      <td>0.956927</td>\n",
       "      <td>0.001732</td>\n",
       "      <td>6</td>\n",
       "    </tr>\n",
       "    <tr>\n",
       "      <th>8</th>\n",
       "      <td>0.205986</td>\n",
       "      <td>0.002016</td>\n",
       "      <td>0.014226</td>\n",
       "      <td>0.000109</td>\n",
       "      <td>108</td>\n",
       "      <td>{'n_estimators': 108}</td>\n",
       "      <td>0.956395</td>\n",
       "      <td>0.956332</td>\n",
       "      <td>0.959243</td>\n",
       "      <td>0.957787</td>\n",
       "      <td>0.957787</td>\n",
       "      <td>0.957509</td>\n",
       "      <td>0.001076</td>\n",
       "      <td>2</td>\n",
       "    </tr>\n",
       "    <tr>\n",
       "      <th>9</th>\n",
       "      <td>0.215808</td>\n",
       "      <td>0.006640</td>\n",
       "      <td>0.014852</td>\n",
       "      <td>0.000398</td>\n",
       "      <td>109</td>\n",
       "      <td>{'n_estimators': 109}</td>\n",
       "      <td>0.957849</td>\n",
       "      <td>0.956332</td>\n",
       "      <td>0.957787</td>\n",
       "      <td>0.957787</td>\n",
       "      <td>0.954876</td>\n",
       "      <td>0.956926</td>\n",
       "      <td>0.001174</td>\n",
       "      <td>9</td>\n",
       "    </tr>\n",
       "    <tr>\n",
       "      <th>10</th>\n",
       "      <td>0.210278</td>\n",
       "      <td>0.002212</td>\n",
       "      <td>0.014471</td>\n",
       "      <td>0.000031</td>\n",
       "      <td>110</td>\n",
       "      <td>{'n_estimators': 110}</td>\n",
       "      <td>0.954942</td>\n",
       "      <td>0.957787</td>\n",
       "      <td>0.959243</td>\n",
       "      <td>0.957787</td>\n",
       "      <td>0.957787</td>\n",
       "      <td>0.957509</td>\n",
       "      <td>0.001402</td>\n",
       "      <td>1</td>\n",
       "    </tr>\n",
       "  </tbody>\n",
       "</table>\n",
       "</div>"
      ],
      "text/plain": [
       "    mean_fit_time  std_fit_time  mean_score_time  std_score_time  \\\n",
       "0        0.202668      0.013630         0.013706        0.000647   \n",
       "1        0.199250      0.002000         0.013888        0.000397   \n",
       "2        0.193630      0.001378         0.013376        0.000037   \n",
       "3        0.201298      0.004343         0.013625        0.000260   \n",
       "4        0.199165      0.002085         0.013595        0.000133   \n",
       "5        0.199424      0.002012         0.014141        0.000712   \n",
       "6        0.201277      0.002094         0.013879        0.000160   \n",
       "7        0.203896      0.000948         0.014071        0.000079   \n",
       "8        0.205986      0.002016         0.014226        0.000109   \n",
       "9        0.215808      0.006640         0.014852        0.000398   \n",
       "10       0.210278      0.002212         0.014471        0.000031   \n",
       "\n",
       "   param_n_estimators                 params  split0_test_score  \\\n",
       "0                 100  {'n_estimators': 100}           0.956395   \n",
       "1                 101  {'n_estimators': 101}           0.956395   \n",
       "2                 102  {'n_estimators': 102}           0.959302   \n",
       "3                 103  {'n_estimators': 103}           0.956395   \n",
       "4                 104  {'n_estimators': 104}           0.954942   \n",
       "5                 105  {'n_estimators': 105}           0.954942   \n",
       "6                 106  {'n_estimators': 106}           0.959302   \n",
       "7                 107  {'n_estimators': 107}           0.954942   \n",
       "8                 108  {'n_estimators': 108}           0.956395   \n",
       "9                 109  {'n_estimators': 109}           0.957849   \n",
       "10                110  {'n_estimators': 110}           0.954942   \n",
       "\n",
       "    split1_test_score  split2_test_score  split3_test_score  \\\n",
       "0            0.956332           0.957787           0.956332   \n",
       "1            0.956332           0.959243           0.956332   \n",
       "2            0.956332           0.957787           0.957787   \n",
       "3            0.956332           0.956332           0.956332   \n",
       "4            0.956332           0.957787           0.957787   \n",
       "5            0.956332           0.959243           0.957787   \n",
       "6            0.956332           0.957787           0.957787   \n",
       "7            0.954876           0.959243           0.957787   \n",
       "8            0.956332           0.959243           0.957787   \n",
       "9            0.956332           0.957787           0.957787   \n",
       "10           0.957787           0.959243           0.957787   \n",
       "\n",
       "    split4_test_score  mean_test_score  std_test_score  rank_test_score  \n",
       "0            0.957787         0.956927        0.000703                8  \n",
       "1            0.957787         0.957218        0.001155                5  \n",
       "2            0.956332         0.957508        0.001108                3  \n",
       "3            0.956332         0.956345        0.000025               11  \n",
       "4            0.957787         0.956927        0.001142                6  \n",
       "5            0.954876         0.956636        0.001684               10  \n",
       "6            0.956332         0.957508        0.001108                3  \n",
       "7            0.957787         0.956927        0.001732                6  \n",
       "8            0.957787         0.957509        0.001076                2  \n",
       "9            0.954876         0.956926        0.001174                9  \n",
       "10           0.957787         0.957509        0.001402                1  "
      ]
     },
     "execution_count": 27,
     "metadata": {},
     "output_type": "execute_result"
    }
   ],
   "source": [
    "pd.DataFrame(model5.cv_results_)"
   ]
  },
  {
   "cell_type": "code",
   "execution_count": 28,
   "id": "f9014f3a",
   "metadata": {
    "ExecuteTime": {
     "end_time": "2023-06-26T08:06:38.836132Z",
     "start_time": "2023-06-26T08:06:38.731386Z"
    }
   },
   "outputs": [],
   "source": [
    "Model5_best=model5.best_estimator_\n",
    "M_5_pre_train=Model5_best.predict(x_train)\n",
    "M_5_pre_test=Model5_best.predict(x_test)"
   ]
  },
  {
   "cell_type": "code",
   "execution_count": 29,
   "id": "6d929d4a",
   "metadata": {
    "ExecuteTime": {
     "end_time": "2023-06-26T08:06:40.017728Z",
     "start_time": "2023-06-26T08:06:39.991093Z"
    }
   },
   "outputs": [
    {
     "name": "stdout",
     "output_type": "stream",
     "text": [
      "Train: \n",
      "               precision    recall  f1-score   support\n",
      "\n",
      "           0       1.00      1.00      1.00      3291\n",
      "           1       1.00      1.00      1.00       145\n",
      "\n",
      "    accuracy                           1.00      3436\n",
      "   macro avg       1.00      1.00      1.00      3436\n",
      "weighted avg       1.00      1.00      1.00      3436\n",
      " \n",
      "confusion_matrix: \n",
      " [[3291    0]\n",
      " [   0  145]]\n",
      "**************************************************\n",
      "Test: \n",
      "               precision    recall  f1-score   support\n",
      "\n",
      "           0       1.00      0.96      0.98      1472\n",
      "           1       0.00      0.00      0.00         1\n",
      "\n",
      "    accuracy                           0.96      1473\n",
      "   macro avg       0.50      0.48      0.49      1473\n",
      "weighted avg       1.00      0.96      0.98      1473\n",
      " \n",
      "confusion_matrix: \n",
      " [[1408   64]\n",
      " [   1    0]]\n"
     ]
    }
   ],
   "source": [
    "print(\"Train: \\n\",classification_report(M_5_pre_train,y_train),\"\\nconfusion_matrix: \\n\",confusion_matrix(M_5_pre_train,y_train))\n",
    "print(\"*\"*50)\n",
    "print(\"Test: \\n\",classification_report(M_5_pre_test,y_test),\"\\nconfusion_matrix: \\n\",confusion_matrix(M_5_pre_test,y_test))"
   ]
  },
  {
   "cell_type": "markdown",
   "id": "d14d3eb5",
   "metadata": {},
   "source": [
    "### Result of Non-OverSampling"
   ]
  },
  {
   "cell_type": "code",
   "execution_count": 31,
   "id": "e5fffc70",
   "metadata": {
    "ExecuteTime": {
     "end_time": "2023-06-26T08:06:56.731190Z",
     "start_time": "2023-06-26T08:06:56.721764Z"
    }
   },
   "outputs": [
    {
     "name": "stdout",
     "output_type": "stream",
     "text": [
      "Random Forest recall score : 0.9558723693143245\n",
      "KNeighborsClassifier recall score : 0.9497623896809233\n",
      "DecisionTreeClassifier recall score : 0.9137813985064495\n",
      "LogisticRegression recall score : 0.956551255940258\n"
     ]
    }
   ],
   "source": [
    "def scores():\n",
    "    RF=print(\"Random Forest recall score :\",accuracy_score(M_5_pre_test,y_test))\n",
    "    KNN=print(\"KNeighborsClassifier recall score :\",accuracy_score(M_2_pre_test,y_test))\n",
    "    DT=print(\"DecisionTreeClassifier recall score :\",accuracy_score(M_3_pre_test,y_test))\n",
    "    LR=print(\"LogisticRegression recall score :\", accuracy_score(M_4_pre_test,y_test))\n",
    "    \n",
    "    return KNN,DT,RF,LR\n",
    "scores();"
   ]
  },
  {
   "cell_type": "markdown",
   "id": "f8dfeb37",
   "metadata": {},
   "source": [
    "## With OverSampling using SMOTE"
   ]
  },
  {
   "cell_type": "code",
   "execution_count": 32,
   "id": "c40f090b",
   "metadata": {
    "ExecuteTime": {
     "end_time": "2023-06-23T14:38:05.245846Z",
     "start_time": "2023-06-23T14:38:05.034189Z"
    }
   },
   "outputs": [],
   "source": [
    "df = pd.read_csv(\"healthcare-dataset-stroke-data.csv\")\n",
    "df = pd.get_dummies(df,[\"gender\",\"ever_married\",\"work_type\",\"Residence_type\",\"smoking_status\"])\n",
    "df.drop([\"ever_married_No\", \"work_type_children\", \"smoking_status_Unknown\",\"id\"], axis=1, inplace=True)\n",
    "df.dropna(inplace=True)\n",
    "\n",
    "X = df.drop(columns=[\"stroke\"])\n",
    "y = df[\"stroke\"]\n",
    "\n",
    "sm = SMOTE(random_state=42)\n",
    "X_res, y_res = sm.fit_resample(X, y)\n",
    "\n",
    "df_resampled = pd.concat([X_res, y_res], axis=1)"
   ]
  },
  {
   "cell_type": "code",
   "execution_count": 33,
   "id": "1d7fa5a6",
   "metadata": {
    "ExecuteTime": {
     "end_time": "2023-06-23T14:38:06.563601Z",
     "start_time": "2023-06-23T14:38:06.555199Z"
    }
   },
   "outputs": [],
   "source": [
    "# get the X,y axis\n",
    "X=df_resampled.drop(\"stroke\",axis=1).values\n",
    "y=df_resampled[\"stroke\"].values"
   ]
  },
  {
   "cell_type": "code",
   "execution_count": 34,
   "id": "2ee3eae4",
   "metadata": {
    "ExecuteTime": {
     "end_time": "2023-06-23T14:38:06.919417Z",
     "start_time": "2023-06-23T14:38:06.915437Z"
    }
   },
   "outputs": [],
   "source": [
    "x_train , x_test , y_train , y_test = train_test_split(X,y,test_size=0.3,random_state=1)"
   ]
  },
  {
   "cell_type": "markdown",
   "id": "773a88af",
   "metadata": {},
   "source": [
    "### KNeighborsClassifier"
   ]
  },
  {
   "cell_type": "code",
   "execution_count": 36,
   "id": "09d3b4d6",
   "metadata": {
    "ExecuteTime": {
     "end_time": "2023-05-18T16:27:15.986142Z",
     "start_time": "2023-05-18T16:27:14.951039Z"
    }
   },
   "outputs": [],
   "source": [
    "model2=KNeighborsClassifier()\n",
    "model2.fit(x_train,y_train)\n",
    "M_2_pre_train=model2.predict(x_train)\n",
    "M_2_pre_test=model2.predict(x_test)"
   ]
  },
  {
   "cell_type": "code",
   "execution_count": 37,
   "id": "727b0aa7",
   "metadata": {
    "ExecuteTime": {
     "end_time": "2023-05-18T16:27:16.586952Z",
     "start_time": "2023-05-18T16:27:16.564720Z"
    },
    "scrolled": false
   },
   "outputs": [
    {
     "name": "stdout",
     "output_type": "stream",
     "text": [
      "Train : \n",
      "              precision    recall  f1-score   support\n",
      "\n",
      "           0       0.85      0.99      0.91      2825\n",
      "           1       0.99      0.87      0.92      3755\n",
      "\n",
      "    accuracy                           0.92      6580\n",
      "   macro avg       0.92      0.93      0.92      6580\n",
      "weighted avg       0.93      0.92      0.92      6580\n",
      " \n",
      " confusion_matrix : \n",
      " [[2790   35]\n",
      " [ 494 3261]]\n",
      "**************************************************\n",
      "test: \n",
      "               precision    recall  f1-score   support\n",
      "\n",
      "           0       0.79      0.98      0.87      1142\n",
      "           1       0.98      0.82      0.89      1678\n",
      "\n",
      "    accuracy                           0.88      2820\n",
      "   macro avg       0.88      0.90      0.88      2820\n",
      "weighted avg       0.90      0.88      0.88      2820\n",
      " \n",
      " confusion_matrix : \n",
      " [[1114   28]\n",
      " [ 302 1376]]\n"
     ]
    }
   ],
   "source": [
    "print(\"Train : \")\n",
    "print(classification_report(M_2_pre_train,y_train),\"\\n confusion_matrix : \\n\",confusion_matrix(M_2_pre_train,y_train))\n",
    "print(\"*\"*50)\n",
    "print(\"test: \\n\",classification_report(M_2_pre_test,y_test),\"\\n confusion_matrix : \\n\",confusion_matrix(M_2_pre_test,y_test))"
   ]
  },
  {
   "cell_type": "markdown",
   "id": "eeecb3ac",
   "metadata": {},
   "source": [
    "### DecisionTreeClassifier "
   ]
  },
  {
   "cell_type": "code",
   "execution_count": 38,
   "id": "2e28b836",
   "metadata": {
    "ExecuteTime": {
     "end_time": "2023-05-18T16:27:17.502007Z",
     "start_time": "2023-05-18T16:27:17.477839Z"
    }
   },
   "outputs": [],
   "source": [
    "model3=DecisionTreeClassifier(max_depth=15)\n",
    "model3.fit(x_train,y_train)\n",
    "M_3_pre_train=model3.predict(x_train)\n",
    "M_3_pre_test=model3.predict(x_test)"
   ]
  },
  {
   "cell_type": "code",
   "execution_count": 39,
   "id": "eab90f57",
   "metadata": {
    "ExecuteTime": {
     "end_time": "2023-05-18T16:27:18.263572Z",
     "start_time": "2023-05-18T16:27:18.233900Z"
    }
   },
   "outputs": [
    {
     "name": "stdout",
     "output_type": "stream",
     "text": [
      "Train: \n",
      "               precision    recall  f1-score   support\n",
      "\n",
      "           0       0.99      1.00      1.00      3263\n",
      "           1       1.00      0.99      1.00      3317\n",
      "\n",
      "    accuracy                           1.00      6580\n",
      "   macro avg       1.00      1.00      1.00      6580\n",
      "weighted avg       1.00      1.00      1.00      6580\n",
      " \n",
      " confusion_matrix : \n",
      " [[3258    5]\n",
      " [  26 3291]]\n",
      "**************************************************\n",
      "Test: \n",
      "               precision    recall  f1-score   support\n",
      "\n",
      "           0       0.92      0.95      0.93      1384\n",
      "           1       0.95      0.92      0.94      1436\n",
      "\n",
      "    accuracy                           0.93      2820\n",
      "   macro avg       0.93      0.93      0.93      2820\n",
      "weighted avg       0.94      0.93      0.93      2820\n",
      " \n",
      " confusion_matrix : \n",
      " [[1308   76]\n",
      " [ 108 1328]]\n"
     ]
    }
   ],
   "source": [
    "print(\"Train: \\n\",classification_report(M_3_pre_train,y_train),\"\\n confusion_matrix : \\n\",confusion_matrix(M_3_pre_train,y_train))\n",
    "print(\"*\"*50)\n",
    "print(\"Test: \\n\",classification_report(M_3_pre_test,y_test),\"\\n confusion_matrix : \\n\",confusion_matrix(M_3_pre_test,y_test))"
   ]
  },
  {
   "cell_type": "markdown",
   "id": "a71699ba",
   "metadata": {},
   "source": [
    "### LogisticRegression"
   ]
  },
  {
   "cell_type": "code",
   "execution_count": 40,
   "id": "a4c5a017",
   "metadata": {
    "ExecuteTime": {
     "end_time": "2023-05-18T16:27:19.065034Z",
     "start_time": "2023-05-18T16:27:18.977894Z"
    }
   },
   "outputs": [],
   "source": [
    "model4 = LogisticRegression(solver=\"newton-cg\", max_iter=1000, fit_intercept=True, penalty=\"l2\", C=0.1)\n",
    "model4.fit(x_train,y_train)\n",
    "M_4_pre_train = model4.predict(x_train)\n",
    "M_4_pre_test = model4.predict(x_test)"
   ]
  },
  {
   "cell_type": "code",
   "execution_count": 41,
   "id": "bd5dba92",
   "metadata": {
    "ExecuteTime": {
     "end_time": "2023-05-18T16:27:19.732293Z",
     "start_time": "2023-05-18T16:27:19.711701Z"
    }
   },
   "outputs": [
    {
     "name": "stdout",
     "output_type": "stream",
     "text": [
      "Train: \n",
      "               precision    recall  f1-score   support\n",
      "\n",
      "           0       0.94      0.91      0.93      3397\n",
      "           1       0.91      0.94      0.92      3183\n",
      "\n",
      "    accuracy                           0.93      6580\n",
      "   macro avg       0.93      0.93      0.93      6580\n",
      "weighted avg       0.93      0.93      0.93      6580\n",
      " \n",
      " confusion_matrix : \n",
      " [[3097  300]\n",
      " [ 187 2996]]\n",
      "**************************************************\n",
      "Test: \n",
      "               precision    recall  f1-score   support\n",
      "\n",
      "           0       0.93      0.92      0.93      1436\n",
      "           1       0.92      0.93      0.93      1384\n",
      "\n",
      "    accuracy                           0.93      2820\n",
      "   macro avg       0.93      0.93      0.93      2820\n",
      "weighted avg       0.93      0.93      0.93      2820\n",
      " \n",
      " confusion_matrix : \n",
      " [[1322  114]\n",
      " [  94 1290]]\n"
     ]
    }
   ],
   "source": [
    "print(\"Train: \\n\",classification_report(M_4_pre_train,y_train),\"\\n confusion_matrix : \\n\",confusion_matrix(M_4_pre_train,y_train))\n",
    "print(\"*\"*50)\n",
    "print(\"Test: \\n\",classification_report(M_4_pre_test,y_test),\"\\n confusion_matrix : \\n\",confusion_matrix(M_4_pre_test,y_test))"
   ]
  },
  {
   "cell_type": "markdown",
   "id": "b35b8cbc",
   "metadata": {},
   "source": [
    "### Basic GridSearch RandomForest"
   ]
  },
  {
   "cell_type": "code",
   "execution_count": 39,
   "id": "73dec33e",
   "metadata": {
    "ExecuteTime": {
     "end_time": "2023-06-23T14:44:04.872072Z",
     "start_time": "2023-06-23T14:43:41.119417Z"
    }
   },
   "outputs": [
    {
     "data": {
      "text/html": [
       "<style>#sk-container-id-1 {color: black;background-color: white;}#sk-container-id-1 pre{padding: 0;}#sk-container-id-1 div.sk-toggleable {background-color: white;}#sk-container-id-1 label.sk-toggleable__label {cursor: pointer;display: block;width: 100%;margin-bottom: 0;padding: 0.3em;box-sizing: border-box;text-align: center;}#sk-container-id-1 label.sk-toggleable__label-arrow:before {content: \"▸\";float: left;margin-right: 0.25em;color: #696969;}#sk-container-id-1 label.sk-toggleable__label-arrow:hover:before {color: black;}#sk-container-id-1 div.sk-estimator:hover label.sk-toggleable__label-arrow:before {color: black;}#sk-container-id-1 div.sk-toggleable__content {max-height: 0;max-width: 0;overflow: hidden;text-align: left;background-color: #f0f8ff;}#sk-container-id-1 div.sk-toggleable__content pre {margin: 0.2em;color: black;border-radius: 0.25em;background-color: #f0f8ff;}#sk-container-id-1 input.sk-toggleable__control:checked~div.sk-toggleable__content {max-height: 200px;max-width: 100%;overflow: auto;}#sk-container-id-1 input.sk-toggleable__control:checked~label.sk-toggleable__label-arrow:before {content: \"▾\";}#sk-container-id-1 div.sk-estimator input.sk-toggleable__control:checked~label.sk-toggleable__label {background-color: #d4ebff;}#sk-container-id-1 div.sk-label input.sk-toggleable__control:checked~label.sk-toggleable__label {background-color: #d4ebff;}#sk-container-id-1 input.sk-hidden--visually {border: 0;clip: rect(1px 1px 1px 1px);clip: rect(1px, 1px, 1px, 1px);height: 1px;margin: -1px;overflow: hidden;padding: 0;position: absolute;width: 1px;}#sk-container-id-1 div.sk-estimator {font-family: monospace;background-color: #f0f8ff;border: 1px dotted black;border-radius: 0.25em;box-sizing: border-box;margin-bottom: 0.5em;}#sk-container-id-1 div.sk-estimator:hover {background-color: #d4ebff;}#sk-container-id-1 div.sk-parallel-item::after {content: \"\";width: 100%;border-bottom: 1px solid gray;flex-grow: 1;}#sk-container-id-1 div.sk-label:hover label.sk-toggleable__label {background-color: #d4ebff;}#sk-container-id-1 div.sk-serial::before {content: \"\";position: absolute;border-left: 1px solid gray;box-sizing: border-box;top: 0;bottom: 0;left: 50%;z-index: 0;}#sk-container-id-1 div.sk-serial {display: flex;flex-direction: column;align-items: center;background-color: white;padding-right: 0.2em;padding-left: 0.2em;position: relative;}#sk-container-id-1 div.sk-item {position: relative;z-index: 1;}#sk-container-id-1 div.sk-parallel {display: flex;align-items: stretch;justify-content: center;background-color: white;position: relative;}#sk-container-id-1 div.sk-item::before, #sk-container-id-1 div.sk-parallel-item::before {content: \"\";position: absolute;border-left: 1px solid gray;box-sizing: border-box;top: 0;bottom: 0;left: 50%;z-index: -1;}#sk-container-id-1 div.sk-parallel-item {display: flex;flex-direction: column;z-index: 1;position: relative;background-color: white;}#sk-container-id-1 div.sk-parallel-item:first-child::after {align-self: flex-end;width: 50%;}#sk-container-id-1 div.sk-parallel-item:last-child::after {align-self: flex-start;width: 50%;}#sk-container-id-1 div.sk-parallel-item:only-child::after {width: 0;}#sk-container-id-1 div.sk-dashed-wrapped {border: 1px dashed gray;margin: 0 0.4em 0.5em 0.4em;box-sizing: border-box;padding-bottom: 0.4em;background-color: white;}#sk-container-id-1 div.sk-label label {font-family: monospace;font-weight: bold;display: inline-block;line-height: 1.2em;}#sk-container-id-1 div.sk-label-container {text-align: center;}#sk-container-id-1 div.sk-container {/* jupyter's `normalize.less` sets `[hidden] { display: none; }` but bootstrap.min.css set `[hidden] { display: none !important; }` so we also need the `!important` here to be able to override the default hidden behavior on the sphinx rendered scikit-learn.org. See: https://github.com/scikit-learn/scikit-learn/issues/21755 */display: inline-block !important;position: relative;}#sk-container-id-1 div.sk-text-repr-fallback {display: none;}</style><div id=\"sk-container-id-1\" class=\"sk-top-container\"><div class=\"sk-text-repr-fallback\"><pre>GridSearchCV(estimator=RandomForestClassifier(),\n",
       "             param_grid={&#x27;n_estimators&#x27;: range(100, 111)})</pre><b>In a Jupyter environment, please rerun this cell to show the HTML representation or trust the notebook. <br />On GitHub, the HTML representation is unable to render, please try loading this page with nbviewer.org.</b></div><div class=\"sk-container\" hidden><div class=\"sk-item sk-dashed-wrapped\"><div class=\"sk-label-container\"><div class=\"sk-label sk-toggleable\"><input class=\"sk-toggleable__control sk-hidden--visually\" id=\"sk-estimator-id-1\" type=\"checkbox\" ><label for=\"sk-estimator-id-1\" class=\"sk-toggleable__label sk-toggleable__label-arrow\">GridSearchCV</label><div class=\"sk-toggleable__content\"><pre>GridSearchCV(estimator=RandomForestClassifier(),\n",
       "             param_grid={&#x27;n_estimators&#x27;: range(100, 111)})</pre></div></div></div><div class=\"sk-parallel\"><div class=\"sk-parallel-item\"><div class=\"sk-item\"><div class=\"sk-label-container\"><div class=\"sk-label sk-toggleable\"><input class=\"sk-toggleable__control sk-hidden--visually\" id=\"sk-estimator-id-2\" type=\"checkbox\" ><label for=\"sk-estimator-id-2\" class=\"sk-toggleable__label sk-toggleable__label-arrow\">estimator: RandomForestClassifier</label><div class=\"sk-toggleable__content\"><pre>RandomForestClassifier()</pre></div></div></div><div class=\"sk-serial\"><div class=\"sk-item\"><div class=\"sk-estimator sk-toggleable\"><input class=\"sk-toggleable__control sk-hidden--visually\" id=\"sk-estimator-id-3\" type=\"checkbox\" ><label for=\"sk-estimator-id-3\" class=\"sk-toggleable__label sk-toggleable__label-arrow\">RandomForestClassifier</label><div class=\"sk-toggleable__content\"><pre>RandomForestClassifier()</pre></div></div></div></div></div></div></div></div></div></div>"
      ],
      "text/plain": [
       "GridSearchCV(estimator=RandomForestClassifier(),\n",
       "             param_grid={'n_estimators': range(100, 111)})"
      ]
     },
     "execution_count": 39,
     "metadata": {},
     "output_type": "execute_result"
    }
   ],
   "source": [
    "para={\"n_estimators\":range(100,111)}\n",
    "mod=RandomForestClassifier()\n",
    "model55=GridSearchCV(mod,para)\n",
    "model55.fit(x_train,y_train)"
   ]
  },
  {
   "cell_type": "code",
   "execution_count": 41,
   "id": "30dc1dbd",
   "metadata": {
    "ExecuteTime": {
     "end_time": "2023-06-23T14:47:29.555484Z",
     "start_time": "2023-06-23T14:46:53.004659Z"
    }
   },
   "outputs": [
    {
     "data": {
      "image/png": "[encoded data removed]",
      "text/plain": [
       "<Figure size 432x288 with 1 Axes>"
      ]
     },
     "metadata": {
      "needs_background": "light"
     },
     "output_type": "display_data"
    }
   ],
   "source": [
    "import matplotlib.pyplot as plt\n",
    "import numpy as np\n",
    "from sklearn.ensemble import RandomForestClassifier\n",
    "from sklearn.model_selection import GridSearchCV, learning_curve\n",
    "\n",
    "para = {\"n_estimators\":range(100,111)}\n",
    "\n",
    "mod = RandomForestClassifier(max_depth=10)\n",
    "\n",
    "model55 = GridSearchCV(mod, para)\n",
    "\n",
    "model55.fit(x_train, y_train)\n",
    "\n",
    "train_sizes, train_scores, test_scores = learning_curve(\n",
    "    model55.best_estimator_, X=x_train, y=y_train, cv=5, train_sizes=np.linspace(0.1, 1.0, 10)\n",
    ")\n",
    "\n",
    "train_scores_mean = np.mean(train_scores, axis=1)\n",
    "train_scores_std = np.std(train_scores, axis=1)\n",
    "test_scores_mean = np.mean(test_scores, axis=1)\n",
    "test_scores_std = np.std(test_scores, axis=1)\n",
    "\n",
    "plt.figure()\n",
    "plt.title(\"Courbe d'apprentissage\")\n",
    "plt.xlabel(\"Taille de l'ensemble d'entraînement\")\n",
    "plt.ylabel(\"Score\")\n",
    "plt.grid()\n",
    "\n",
    "plt.fill_between(\n",
    "    train_sizes, train_scores_mean - train_scores_std, train_scores_mean + train_scores_std, alpha=0.1, color=\"r\"\n",
    ")\n",
    "plt.fill_between(\n",
    "    train_sizes, test_scores_mean - test_scores_std, test_scores_mean + test_scores_std, alpha=0.1, color=\"g\"\n",
    ")\n",
    "plt.plot(train_sizes, train_scores_mean, 'o-', color=\"r\", label=\"Score d'entraînement\")\n",
    "plt.plot(train_sizes, test_scores_mean, 'o-', color=\"g\", label=\"Score de validation\")\n",
    "\n",
    "plt.legend(loc=\"best\")\n",
    "plt.show()\n"
   ]
  },
  {
   "cell_type": "code",
   "execution_count": 44,
   "id": "24829a35",
   "metadata": {
    "ExecuteTime": {
     "end_time": "2023-05-18T16:29:28.424255Z",
     "start_time": "2023-05-18T16:29:28.385340Z"
    }
   },
   "outputs": [
    {
     "data": {
      "text/html": [
       "<div>\n",
       "<style scoped>\n",
       "    .dataframe tbody tr th:only-of-type {\n",
       "        vertical-align: middle;\n",
       "    }\n",
       "\n",
       "    .dataframe tbody tr th {\n",
       "        vertical-align: top;\n",
       "    }\n",
       "\n",
       "    .dataframe thead th {\n",
       "        text-align: right;\n",
       "    }\n",
       "</style>\n",
       "<table border=\"1\" class=\"dataframe\">\n",
       "  <thead>\n",
       "    <tr style=\"text-align: right;\">\n",
       "      <th></th>\n",
       "      <th>mean_fit_time</th>\n",
       "      <th>std_fit_time</th>\n",
       "      <th>mean_score_time</th>\n",
       "      <th>std_score_time</th>\n",
       "      <th>param_n_estimators</th>\n",
       "      <th>params</th>\n",
       "      <th>split0_test_score</th>\n",
       "      <th>split1_test_score</th>\n",
       "      <th>split2_test_score</th>\n",
       "      <th>split3_test_score</th>\n",
       "      <th>split4_test_score</th>\n",
       "      <th>mean_test_score</th>\n",
       "      <th>std_test_score</th>\n",
       "      <th>rank_test_score</th>\n",
       "    </tr>\n",
       "  </thead>\n",
       "  <tbody>\n",
       "    <tr>\n",
       "      <th>0</th>\n",
       "      <td>0.369656</td>\n",
       "      <td>0.013422</td>\n",
       "      <td>0.021962</td>\n",
       "      <td>0.000607</td>\n",
       "      <td>100</td>\n",
       "      <td>{'n_estimators': 100}</td>\n",
       "      <td>0.971125</td>\n",
       "      <td>0.970365</td>\n",
       "      <td>0.967325</td>\n",
       "      <td>0.967325</td>\n",
       "      <td>0.967325</td>\n",
       "      <td>0.968693</td>\n",
       "      <td>0.001692</td>\n",
       "      <td>10</td>\n",
       "    </tr>\n",
       "    <tr>\n",
       "      <th>1</th>\n",
       "      <td>0.365069</td>\n",
       "      <td>0.009107</td>\n",
       "      <td>0.022105</td>\n",
       "      <td>0.000663</td>\n",
       "      <td>101</td>\n",
       "      <td>{'n_estimators': 101}</td>\n",
       "      <td>0.972644</td>\n",
       "      <td>0.971125</td>\n",
       "      <td>0.968085</td>\n",
       "      <td>0.968845</td>\n",
       "      <td>0.965805</td>\n",
       "      <td>0.969301</td>\n",
       "      <td>0.002384</td>\n",
       "      <td>6</td>\n",
       "    </tr>\n",
       "    <tr>\n",
       "      <th>2</th>\n",
       "      <td>0.360504</td>\n",
       "      <td>0.003864</td>\n",
       "      <td>0.021872</td>\n",
       "      <td>0.000125</td>\n",
       "      <td>102</td>\n",
       "      <td>{'n_estimators': 102}</td>\n",
       "      <td>0.972644</td>\n",
       "      <td>0.971125</td>\n",
       "      <td>0.968085</td>\n",
       "      <td>0.970365</td>\n",
       "      <td>0.963526</td>\n",
       "      <td>0.969149</td>\n",
       "      <td>0.003173</td>\n",
       "      <td>7</td>\n",
       "    </tr>\n",
       "    <tr>\n",
       "      <th>3</th>\n",
       "      <td>0.364512</td>\n",
       "      <td>0.003458</td>\n",
       "      <td>0.022044</td>\n",
       "      <td>0.000108</td>\n",
       "      <td>103</td>\n",
       "      <td>{'n_estimators': 103}</td>\n",
       "      <td>0.972644</td>\n",
       "      <td>0.969605</td>\n",
       "      <td>0.965805</td>\n",
       "      <td>0.970365</td>\n",
       "      <td>0.963526</td>\n",
       "      <td>0.968389</td>\n",
       "      <td>0.003281</td>\n",
       "      <td>11</td>\n",
       "    </tr>\n",
       "    <tr>\n",
       "      <th>4</th>\n",
       "      <td>0.368371</td>\n",
       "      <td>0.003812</td>\n",
       "      <td>0.022219</td>\n",
       "      <td>0.000131</td>\n",
       "      <td>104</td>\n",
       "      <td>{'n_estimators': 104}</td>\n",
       "      <td>0.972644</td>\n",
       "      <td>0.971884</td>\n",
       "      <td>0.966565</td>\n",
       "      <td>0.971125</td>\n",
       "      <td>0.967325</td>\n",
       "      <td>0.969909</td>\n",
       "      <td>0.002479</td>\n",
       "      <td>3</td>\n",
       "    </tr>\n",
       "    <tr>\n",
       "      <th>5</th>\n",
       "      <td>0.368856</td>\n",
       "      <td>0.003227</td>\n",
       "      <td>0.022443</td>\n",
       "      <td>0.000159</td>\n",
       "      <td>105</td>\n",
       "      <td>{'n_estimators': 105}</td>\n",
       "      <td>0.974164</td>\n",
       "      <td>0.968085</td>\n",
       "      <td>0.968845</td>\n",
       "      <td>0.970365</td>\n",
       "      <td>0.969605</td>\n",
       "      <td>0.970213</td>\n",
       "      <td>0.002117</td>\n",
       "      <td>1</td>\n",
       "    </tr>\n",
       "    <tr>\n",
       "      <th>6</th>\n",
       "      <td>0.378500</td>\n",
       "      <td>0.004609</td>\n",
       "      <td>0.022916</td>\n",
       "      <td>0.000553</td>\n",
       "      <td>106</td>\n",
       "      <td>{'n_estimators': 106}</td>\n",
       "      <td>0.972644</td>\n",
       "      <td>0.971884</td>\n",
       "      <td>0.966565</td>\n",
       "      <td>0.968085</td>\n",
       "      <td>0.968085</td>\n",
       "      <td>0.969453</td>\n",
       "      <td>0.002374</td>\n",
       "      <td>5</td>\n",
       "    </tr>\n",
       "    <tr>\n",
       "      <th>7</th>\n",
       "      <td>0.379444</td>\n",
       "      <td>0.001603</td>\n",
       "      <td>0.023071</td>\n",
       "      <td>0.000577</td>\n",
       "      <td>107</td>\n",
       "      <td>{'n_estimators': 107}</td>\n",
       "      <td>0.973404</td>\n",
       "      <td>0.969605</td>\n",
       "      <td>0.968845</td>\n",
       "      <td>0.968845</td>\n",
       "      <td>0.964286</td>\n",
       "      <td>0.968997</td>\n",
       "      <td>0.002900</td>\n",
       "      <td>8</td>\n",
       "    </tr>\n",
       "    <tr>\n",
       "      <th>8</th>\n",
       "      <td>0.380124</td>\n",
       "      <td>0.002331</td>\n",
       "      <td>0.022937</td>\n",
       "      <td>0.000082</td>\n",
       "      <td>108</td>\n",
       "      <td>{'n_estimators': 108}</td>\n",
       "      <td>0.971884</td>\n",
       "      <td>0.971884</td>\n",
       "      <td>0.968085</td>\n",
       "      <td>0.969605</td>\n",
       "      <td>0.963526</td>\n",
       "      <td>0.968997</td>\n",
       "      <td>0.003092</td>\n",
       "      <td>8</td>\n",
       "    </tr>\n",
       "    <tr>\n",
       "      <th>9</th>\n",
       "      <td>0.384661</td>\n",
       "      <td>0.003075</td>\n",
       "      <td>0.023250</td>\n",
       "      <td>0.000065</td>\n",
       "      <td>109</td>\n",
       "      <td>{'n_estimators': 109}</td>\n",
       "      <td>0.971125</td>\n",
       "      <td>0.970365</td>\n",
       "      <td>0.969605</td>\n",
       "      <td>0.968845</td>\n",
       "      <td>0.968085</td>\n",
       "      <td>0.969605</td>\n",
       "      <td>0.001075</td>\n",
       "      <td>4</td>\n",
       "    </tr>\n",
       "    <tr>\n",
       "      <th>10</th>\n",
       "      <td>0.388873</td>\n",
       "      <td>0.004787</td>\n",
       "      <td>0.023488</td>\n",
       "      <td>0.000086</td>\n",
       "      <td>110</td>\n",
       "      <td>{'n_estimators': 110}</td>\n",
       "      <td>0.972644</td>\n",
       "      <td>0.968845</td>\n",
       "      <td>0.971125</td>\n",
       "      <td>0.971125</td>\n",
       "      <td>0.966565</td>\n",
       "      <td>0.970061</td>\n",
       "      <td>0.002128</td>\n",
       "      <td>2</td>\n",
       "    </tr>\n",
       "  </tbody>\n",
       "</table>\n",
       "</div>"
      ],
      "text/plain": [
       "    mean_fit_time  std_fit_time  mean_score_time  std_score_time  \\\n",
       "0        0.369656      0.013422         0.021962        0.000607   \n",
       "1        0.365069      0.009107         0.022105        0.000663   \n",
       "2        0.360504      0.003864         0.021872        0.000125   \n",
       "3        0.364512      0.003458         0.022044        0.000108   \n",
       "4        0.368371      0.003812         0.022219        0.000131   \n",
       "5        0.368856      0.003227         0.022443        0.000159   \n",
       "6        0.378500      0.004609         0.022916        0.000553   \n",
       "7        0.379444      0.001603         0.023071        0.000577   \n",
       "8        0.380124      0.002331         0.022937        0.000082   \n",
       "9        0.384661      0.003075         0.023250        0.000065   \n",
       "10       0.388873      0.004787         0.023488        0.000086   \n",
       "\n",
       "   param_n_estimators                 params  split0_test_score  \\\n",
       "0                 100  {'n_estimators': 100}           0.971125   \n",
       "1                 101  {'n_estimators': 101}           0.972644   \n",
       "2                 102  {'n_estimators': 102}           0.972644   \n",
       "3                 103  {'n_estimators': 103}           0.972644   \n",
       "4                 104  {'n_estimators': 104}           0.972644   \n",
       "5                 105  {'n_estimators': 105}           0.974164   \n",
       "6                 106  {'n_estimators': 106}           0.972644   \n",
       "7                 107  {'n_estimators': 107}           0.973404   \n",
       "8                 108  {'n_estimators': 108}           0.971884   \n",
       "9                 109  {'n_estimators': 109}           0.971125   \n",
       "10                110  {'n_estimators': 110}           0.972644   \n",
       "\n",
       "    split1_test_score  split2_test_score  split3_test_score  \\\n",
       "0            0.970365           0.967325           0.967325   \n",
       "1            0.971125           0.968085           0.968845   \n",
       "2            0.971125           0.968085           0.970365   \n",
       "3            0.969605           0.965805           0.970365   \n",
       "4            0.971884           0.966565           0.971125   \n",
       "5            0.968085           0.968845           0.970365   \n",
       "6            0.971884           0.966565           0.968085   \n",
       "7            0.969605           0.968845           0.968845   \n",
       "8            0.971884           0.968085           0.969605   \n",
       "9            0.970365           0.969605           0.968845   \n",
       "10           0.968845           0.971125           0.971125   \n",
       "\n",
       "    split4_test_score  mean_test_score  std_test_score  rank_test_score  \n",
       "0            0.967325         0.968693        0.001692               10  \n",
       "1            0.965805         0.969301        0.002384                6  \n",
       "2            0.963526         0.969149        0.003173                7  \n",
       "3            0.963526         0.968389        0.003281               11  \n",
       "4            0.967325         0.969909        0.002479                3  \n",
       "5            0.969605         0.970213        0.002117                1  \n",
       "6            0.968085         0.969453        0.002374                5  \n",
       "7            0.964286         0.968997        0.002900                8  \n",
       "8            0.963526         0.968997        0.003092                8  \n",
       "9            0.968085         0.969605        0.001075                4  \n",
       "10           0.966565         0.970061        0.002128                2  "
      ]
     },
     "execution_count": 44,
     "metadata": {},
     "output_type": "execute_result"
    }
   ],
   "source": [
    "pd.DataFrame(model55.cv_results_)"
   ]
  },
  {
   "cell_type": "code",
   "execution_count": 44,
   "id": "46db1e93",
   "metadata": {
    "ExecuteTime": {
     "end_time": "2023-06-23T14:47:45.129915Z",
     "start_time": "2023-06-23T14:47:44.988816Z"
    }
   },
   "outputs": [],
   "source": [
    "Model55_best=model55.best_estimator_\n",
    "M_55_pre_train=Model55_best.predict(x_train)\n",
    "M_55_pre_test=Model55_best.predict(x_test)"
   ]
  },
  {
   "cell_type": "code",
   "execution_count": 45,
   "id": "dc02813c",
   "metadata": {
    "ExecuteTime": {
     "end_time": "2023-06-23T14:47:45.741297Z",
     "start_time": "2023-06-23T14:47:45.697469Z"
    }
   },
   "outputs": [
    {
     "name": "stdout",
     "output_type": "stream",
     "text": [
      "Train: \n",
      "               precision    recall  f1-score   support\n",
      "\n",
      "           0       0.98      0.98      0.98      3286\n",
      "           1       0.98      0.98      0.98      3294\n",
      "\n",
      "    accuracy                           0.98      6580\n",
      "   macro avg       0.98      0.98      0.98      6580\n",
      "weighted avg       0.98      0.98      0.98      6580\n",
      " \n",
      "confusion_matrix: \n",
      " [[3226   60]\n",
      " [  58 3236]]\n",
      "**************************************************\n",
      "Test: \n",
      "               precision    recall  f1-score   support\n",
      "\n",
      "           0       0.97      0.96      0.96      1429\n",
      "           1       0.96      0.97      0.96      1391\n",
      "\n",
      "    accuracy                           0.96      2820\n",
      "   macro avg       0.96      0.96      0.96      2820\n",
      "weighted avg       0.96      0.96      0.96      2820\n",
      " \n",
      "confusion_matrix: \n",
      " [[1369   60]\n",
      " [  47 1344]]\n"
     ]
    }
   ],
   "source": [
    "print(\"Train: \\n\",classification_report(M_55_pre_train,y_train),\"\\nconfusion_matrix: \\n\",confusion_matrix(M_55_pre_train,y_train))\n",
    "print(\"*\"*50)\n",
    "print(\"Test: \\n\",classification_report(M_55_pre_test,y_test),\"\\nconfusion_matrix: \\n\",confusion_matrix(M_55_pre_test,y_test))"
   ]
  },
  {
   "cell_type": "markdown",
   "id": "99b2f1e5",
   "metadata": {},
   "source": [
    "### Better GridSearch RandomForest"
   ]
  },
  {
   "cell_type": "code",
   "execution_count": 47,
   "id": "5c1f148a",
   "metadata": {
    "ExecuteTime": {
     "end_time": "2023-05-18T16:30:35.075538Z",
     "start_time": "2023-05-18T16:29:34.474100Z"
    },
    "scrolled": true
   },
   "outputs": [
    {
     "name": "stdout",
     "output_type": "stream",
     "text": [
      "Fitting 5 folds for each of 162 candidates, totalling 810 fits\n"
     ]
    },
    {
     "name": "stderr",
     "output_type": "stream",
     "text": [
      "Traceback (most recent call last):\n",
      "  File \"/home/dorian/.local/lib/python3.8/site-packages/gradio/routes.py\", line 344, in run_predict\n",
      "    output = await app.get_blocks().process_api(\n",
      "  File \"/home/dorian/.local/lib/python3.8/site-packages/gradio/blocks.py\", line 1012, in process_api\n",
      "    result = await self.call_function(\n",
      "  File \"/home/dorian/.local/lib/python3.8/site-packages/gradio/blocks.py\", line 830, in call_function\n",
      "    prediction = await anyio.to_thread.run_sync(\n",
      "  File \"/home/dorian/.local/lib/python3.8/site-packages/anyio/to_thread.py\", line 31, in run_sync\n",
      "    return await get_asynclib().run_sync_in_worker_thread(\n",
      "  File \"/home/dorian/.local/lib/python3.8/site-packages/anyio/_backends/_asyncio.py\", line 937, in run_sync_in_worker_thread\n",
      "    return await future\n",
      "  File \"/home/dorian/.local/lib/python3.8/site-packages/anyio/_backends/_asyncio.py\", line 867, in run\n",
      "    result = context.run(func, *args)\n",
      "  File \"/tmp/ipykernel_8004/856381866.py\", line 13, in infer\n",
      "    predictions = pd.DataFrame(model.predict(input_dataframe), columns=[\"Failures\"])\n",
      "  File \"/usr/local/lib/python3.8/dist-packages/sklearn/ensemble/_forest.py\", line 832, in predict\n",
      "    proba = self.predict_proba(X)\n",
      "  File \"/usr/local/lib/python3.8/dist-packages/sklearn/ensemble/_forest.py\", line 872, in predict_proba\n",
      "    check_is_fitted(self)\n",
      "  File \"/usr/local/lib/python3.8/dist-packages/sklearn/utils/validation.py\", line 1345, in check_is_fitted\n",
      "    raise NotFittedError(msg % {\"name\": type(estimator).__name__})\n",
      "sklearn.exceptions.NotFittedError: This RandomForestClassifier instance is not fitted yet. Call 'fit' with appropriate arguments before using this estimator.\n"
     ]
    },
    {
     "name": "stdout",
     "output_type": "stream",
     "text": [
      "Best params: {'max_depth': None, 'max_features': 'sqrt', 'min_samples_leaf': 1, 'min_samples_split': 2, 'n_estimators': 100}\n",
      "Best score: 0.970\n"
     ]
    }
   ],
   "source": [
    "param_grid = {\n",
    "    \"n_estimators\": [50, 100, 150],\n",
    "    \"max_depth\": [5, 10, None],\n",
    "    \"min_samples_split\": [2, 5, 10],\n",
    "    \"min_samples_leaf\": [1, 2, 4],\n",
    "    \"max_features\": [\"sqrt\", \"log2\"]\n",
    "}\n",
    "\n",
    "model = RandomForestClassifier(random_state=42)\n",
    "\n",
    "grid_search = GridSearchCV(\n",
    "    estimator=model,\n",
    "    param_grid=param_grid,\n",
    "    scoring=\"accuracy\",\n",
    "    cv=5,\n",
    "    n_jobs=-1,\n",
    "    verbose=1\n",
    ")\n",
    "\n",
    "grid_search.fit(x_train, y_train)\n",
    "\n",
    "print(f\"Best params: {grid_search.best_params_}\")\n",
    "print(f\"Best score: {grid_search.best_score_:.3f}\")\n"
   ]
  },
  {
   "cell_type": "code",
   "execution_count": 46,
   "id": "a9d11eae",
   "metadata": {
    "ExecuteTime": {
     "end_time": "2023-04-24T07:29:40.869485Z",
     "start_time": "2023-04-24T07:26:59.700296Z"
    }
   },
   "outputs": [
    {
     "data": {
      "image/png": "[encoded data removed]",
      "text/plain": [
       "<Figure size 576x432 with 1 Axes>"
      ]
     },
     "metadata": {
      "needs_background": "light"
     },
     "output_type": "display_data"
    }
   ],
   "source": [
    "from sklearn.model_selection import learning_curve\n",
    "import matplotlib.pyplot as plt\n",
    "\n",
    "train_sizes, train_scores, test_scores = learning_curve(model5, x_train, y_train, cv=5, n_jobs=-1, train_sizes=np.linspace(0.1, 1.0, 10))\n",
    "\n",
    "train_scores_mean = np.mean(train_scores, axis=1)\n",
    "train_scores_std = np.std(train_scores, axis=1)\n",
    "test_scores_mean = np.mean(test_scores, axis=1)\n",
    "test_scores_std = np.std(test_scores, axis=1)\n",
    "\n",
    "plt.figure(figsize=(8, 6))\n",
    "plt.title(\"Courbe de progression de Random Forest\")\n",
    "plt.xlabel(\"Taille de l'ensemble d'entraînement\")\n",
    "plt.ylabel(\"Score\")\n",
    "plt.grid()\n",
    "\n",
    "plt.fill_between(train_sizes, train_scores_mean - train_scores_std, train_scores_mean + train_scores_std, alpha=0.1, color=\"r\")\n",
    "plt.fill_between(train_sizes, test_scores_mean - test_scores_std, test_scores_mean + test_scores_std, alpha=0.1, color=\"g\")\n",
    "\n",
    "plt.plot(train_sizes, train_scores_mean, 'o-', color=\"r\", label=\"Score d'entraînement\")\n",
    "plt.plot(train_sizes, test_scores_mean, 'o-', color=\"g\", label=\"Score de validation croisée\")\n",
    "\n",
    "plt.legend(loc=\"best\")\n",
    "plt.show()"
   ]
  },
  {
   "cell_type": "code",
   "execution_count": 36,
   "id": "cce424bf",
   "metadata": {
    "ExecuteTime": {
     "end_time": "2023-06-23T14:39:07.817828Z",
     "start_time": "2023-06-23T14:39:07.247981Z"
    }
   },
   "outputs": [
    {
     "name": "stdout",
     "output_type": "stream",
     "text": [
      "Train: \n",
      "               precision    recall  f1-score   support\n",
      "\n",
      "           0       0.98      0.98      0.98      3282\n",
      "           1       0.98      0.98      0.98      3298\n",
      "\n",
      "    accuracy                           0.98      6580\n",
      "   macro avg       0.98      0.98      0.98      6580\n",
      "weighted avg       0.98      0.98      0.98      6580\n",
      " \n",
      "confusion_matrix: \n",
      " [[3218   64]\n",
      " [  66 3232]]\n",
      "**************************************************\n",
      "Test: \n",
      "               precision    recall  f1-score   support\n",
      "\n",
      "           0       0.97      0.96      0.96      1427\n",
      "           1       0.96      0.97      0.96      1393\n",
      "\n",
      "    accuracy                           0.96      2820\n",
      "   macro avg       0.96      0.96      0.96      2820\n",
      "weighted avg       0.96      0.96      0.96      2820\n",
      " \n",
      "confusion_matrix: \n",
      " [[1370   57]\n",
      " [  46 1347]]\n"
     ]
    }
   ],
   "source": [
    "model5 = RandomForestClassifier(n_estimators=100,\n",
    "                               max_depth=10,\n",
    "                               min_samples_split=2,\n",
    "                               min_samples_leaf=1,\n",
    "                               max_features=\"sqrt\",\n",
    "                               random_state=42)\n",
    "model5.fit(x_train,y_train)\n",
    "M_5_pre_train = model5.predict(x_train)\n",
    "M_5_pre_test = model5.predict(x_test)\n",
    "\n",
    "print(\"Train: \\n\",classification_report(M_5_pre_train,y_train),\"\\nconfusion_matrix: \\n\",confusion_matrix(M_5_pre_train,y_train))\n",
    "print(\"*\"*50)\n",
    "print(\"Test: \\n\",classification_report(M_5_pre_test,y_test),\"\\nconfusion_matrix: \\n\",confusion_matrix(M_5_pre_test,y_test))"
   ]
  },
  {
   "cell_type": "code",
   "execution_count": 37,
   "id": "495efbc9",
   "metadata": {
    "ExecuteTime": {
     "end_time": "2023-06-23T14:39:26.461547Z",
     "start_time": "2023-06-23T14:39:21.858344Z"
    }
   },
   "outputs": [
    {
     "data": {
      "image/png": "[encoded data removed]",
      "text/plain": [
       "<Figure size 576x432 with 1 Axes>"
      ]
     },
     "metadata": {
      "needs_background": "light"
     },
     "output_type": "display_data"
    }
   ],
   "source": [
    "from sklearn.model_selection import learning_curve\n",
    "import matplotlib.pyplot as plt\n",
    "\n",
    "train_sizes, train_scores, test_scores = learning_curve(model5, x_train, y_train, cv=5, n_jobs=-1, train_sizes=np.linspace(0.1, 1.0, 10))\n",
    "\n",
    "train_scores_mean = np.mean(train_scores, axis=1)\n",
    "train_scores_std = np.std(train_scores, axis=1)\n",
    "test_scores_mean = np.mean(test_scores, axis=1)\n",
    "test_scores_std = np.std(test_scores, axis=1)\n",
    "\n",
    "plt.figure(figsize=(8, 6))\n",
    "plt.title(\"Courbe de progression de Random Forest\")\n",
    "plt.xlabel(\"Taille de l'ensemble d'entraînement\")\n",
    "plt.ylabel(\"Score\")\n",
    "plt.grid()\n",
    "\n",
    "plt.fill_between(train_sizes, train_scores_mean - train_scores_std, train_scores_mean + train_scores_std, alpha=0.1, color=\"r\")\n",
    "plt.fill_between(train_sizes, test_scores_mean - test_scores_std, test_scores_mean + test_scores_std, alpha=0.1, color=\"g\")\n",
    "\n",
    "plt.plot(train_sizes, train_scores_mean, 'o-', color=\"r\", label=\"Score d'entraînement\")\n",
    "plt.plot(train_sizes, test_scores_mean, 'o-', color=\"g\", label=\"Score de validation croisée\")\n",
    "\n",
    "plt.legend(loc=\"best\")\n",
    "plt.show()"
   ]
  },
  {
   "cell_type": "code",
   "execution_count": 47,
   "id": "dbd75be4",
   "metadata": {
    "ExecuteTime": {
     "end_time": "2023-06-23T14:48:11.461469Z",
     "start_time": "2023-06-23T14:48:11.449035Z"
    }
   },
   "outputs": [
    {
     "name": "stdout",
     "output_type": "stream",
     "text": [
      "Better GridSearch Random Forest recall score : 0.9669777458722182\n",
      "Basic GridSearch Random Forest recall score : 0.9662113587347232\n"
     ]
    }
   ],
   "source": [
    "print(\"Better GridSearch Random Forest recall score :\",recall_score(M_5_pre_test,y_test))\n",
    "print(\"Basic GridSearch Random Forest recall score :\",recall_score(M_55_pre_test,y_test))"
   ]
  },
  {
   "cell_type": "code",
   "execution_count": 50,
   "id": "dae5af15",
   "metadata": {
    "ExecuteTime": {
     "end_time": "2023-05-18T16:30:54.196996Z",
     "start_time": "2023-05-18T16:30:54.160570Z"
    }
   },
   "outputs": [],
   "source": [
    "with open('model5.pkl', 'wb') as file:\n",
    "    pickle.dump(model5, file)"
   ]
  },
  {
   "cell_type": "markdown",
   "id": "47465d03",
   "metadata": {},
   "source": [
    "# Results of OverSampling with Smote"
   ]
  },
  {
   "cell_type": "code",
   "execution_count": 51,
   "id": "71af64b0",
   "metadata": {
    "ExecuteTime": {
     "end_time": "2023-05-18T16:30:56.188449Z",
     "start_time": "2023-05-18T16:30:56.167366Z"
    }
   },
   "outputs": [
    {
     "name": "stdout",
     "output_type": "stream",
     "text": [
      "Better GridSearch Random Forest recall score : 0.9755219582433405\n",
      "Basic GridSearch Random Forest recall score : 0.9716312056737588\n",
      "KNeighborsClassifier recall score : 0.8200238379022646\n",
      "DecisionTreeClassifier recall score : 0.924791086350975\n",
      "LogisticRegression recall score : 0.9320809248554913\n"
     ]
    }
   ],
   "source": [
    "def scores():\n",
    "    RF=print(\"Better GridSearch Random Forest recall score :\",recall_score(M_5_pre_test,y_test))\n",
    "    RF2=print(\"Basic GridSearch Random Forest recall score :\",accuracy_score(M_55_pre_test,y_test))\n",
    "    KNN=print(\"KNeighborsClassifier recall score :\",recall_score(M_2_pre_test,y_test))\n",
    "    DT=print(\"DecisionTreeClassifier recall score :\",recall_score(M_3_pre_test,y_test))\n",
    "    LR=print(\"LogisticRegression recall score :\", recall_score(M_4_pre_test,y_test))\n",
    "    \n",
    "    return KNN,DT,RF,LR\n",
    "scores();"
   ]
  },
  {
   "cell_type": "markdown",
   "id": "3f4e6e35",
   "metadata": {},
   "source": [
    "# INTERFACE WITH GRADIO"
   ]
  },
  {
   "cell_type": "code",
   "execution_count": 52,
   "id": "956a414a",
   "metadata": {
    "ExecuteTime": {
     "end_time": "2023-05-18T16:30:59.235536Z",
     "start_time": "2023-05-18T16:30:58.304973Z"
    }
   },
   "outputs": [
    {
     "name": "stdout",
     "output_type": "stream",
     "text": [
      "Running on local URL:  http://127.0.0.1:7861\n",
      "\n",
      "To create a public link, set `share=True` in `launch()`.\n"
     ]
    },
    {
     "data": {
      "text/html": [
       "<div><iframe src=\"http://127.0.0.1:7861/\" width=\"100%\" height=\"500\" allow=\"autoplay; camera; microphone; clipboard-read; clipboard-write;\" frameborder=\"0\" allowfullscreen></iframe></div>"
      ],
      "text/plain": [
       "<IPython.core.display.HTML object>"
      ]
     },
     "metadata": {},
     "output_type": "display_data"
    },
    {
     "data": {
      "text/plain": []
     },
     "execution_count": 52,
     "metadata": {},
     "output_type": "execute_result"
    }
   ],
   "source": [
    "inputs = [gr.Dataframe(row_count=(1, \"dynamic\"), col_count=(4, \"dynamic\"), label=\"Données d'entrée\", interactive=True)]\n",
    "\n",
    "outputs = [gr.Dataframe(row_count=(1, \"dynamic\"), col_count=(1, \"fixed\"), label=\"Prédictions\", headers=[\"Failures\"])]\n",
    "\n",
    "with open(\"model5.pkl\", \"rb\") as rf:\n",
    "    model = pickle.load(rf)\n",
    "\n",
    "def infer(input_dataframe):\n",
    "    if \"stroke\" in input_dataframe.columns:\n",
    "        input_dataframe.drop(columns=[\"stroke\"], inplace=True)\n",
    "        input_dataframe.fillna(input_dataframe.mean(), inplace=True)\n",
    "\n",
    "    predictions = pd.DataFrame(model.predict(input_dataframe), columns=[\"Failures\"])\n",
    "    predictions[\"Failures\"] = predictions[\"Failures\"].apply(lambda x: \"Risque d'AVC\" if x == 1 else \"Faible risque d'AVC\")\n",
    "\n",
    "    return predictions\n",
    "\n",
    "random_row = df.sample(n=2, random_state=np.random.randint(100))\n",
    "iface = gr.Interface(\n",
    "    fn=infer, \n",
    "    inputs=inputs, \n",
    "    outputs=outputs, \n",
    "    examples=[[random_row]], \n",
    "    allow_flagging=\"never\",\n",
    "    title=\"Prédictions d'AVC\",\n",
    "    description=\"Un modèle de prédiction utilisant la méthode du Random Forest\",\n",
    "    article=\"Utilisez ces exemples pour pré-remplir les valeurs du tableau.\")\n",
    "    #live=True\n",
    "\n",
    "iface.launch()"
   ]
  },
  {
   "cell_type": "code",
   "execution_count": 48,
   "id": "87215c62",
   "metadata": {
    "ExecuteTime": {
     "end_time": "2023-02-24T13:16:45.040830Z",
     "start_time": "2023-02-24T13:16:45.037430Z"
    }
   },
   "outputs": [],
   "source": [
    "# Tester le gridsearch sur les anciens modèles pour voir si aucun modèle ne fait mieux que 0.97\n",
    "# Améliorer l'interface pour qu'elle soit plus facilement utilisable\n",
    "# Rendre les input entrable de manière propre (checkbox, menu déroulant)\n",
    "# Réussir à associer les colonnes des inputs de l'interface, aux colonnes du dataset (par exemple quand je rentre\n",
    "# âge, ça prendra également en compte la colonne âge du dataset.)\n",
    "# Les âges sont parfois des floats ?? faire un meilleur traitement des données\n",
    "# Essayer d'utiliser onehotencoder avec column transformer, et faire du standardscaler dessus\n",
    "# expliquer le smote, les hyperparametres et pourquoi, l'impact de chaque hyperparametres sur le modele,"
   ]
  },
  {
   "cell_type": "code",
   "execution_count": 53,
   "id": "3abf6224",
   "metadata": {
    "ExecuteTime": {
     "end_time": "2023-05-18T16:31:07.670342Z",
     "start_time": "2023-05-18T16:31:06.689903Z"
    }
   },
   "outputs": [
    {
     "name": "stdout",
     "output_type": "stream",
     "text": [
      "Running on local URL:  http://127.0.0.1:7862\n",
      "\n",
      "To create a public link, set `share=True` in `launch()`.\n"
     ]
    },
    {
     "data": {
      "text/html": [
       "<div><iframe src=\"http://127.0.0.1:7862/\" width=\"100%\" height=\"500\" allow=\"autoplay; camera; microphone; clipboard-read; clipboard-write;\" frameborder=\"0\" allowfullscreen></iframe></div>"
      ],
      "text/plain": [
       "<IPython.core.display.HTML object>"
      ]
     },
     "metadata": {},
     "output_type": "display_data"
    },
    {
     "data": {
      "text/plain": []
     },
     "execution_count": 53,
     "metadata": {},
     "output_type": "execute_result"
    }
   ],
   "source": [
    "inputs = [gr.Dataframe(row_count=(1, \"dynamic\"), col_count=(4, \"dynamic\"), label=\"Données d'entrée\", interactive=True)]\n",
    "\n",
    "outputs = [gr.Dataframe(row_count=(1, \"dynamic\"), col_count=(3, \"fixed\"), label=\"Prédictions\", headers=[\"Failures\", \"Probabilité de risque d'AVC\", \"Probabilité de faible risque d'AVC\"])]\n",
    "\n",
    "with open(\"model5.pkl\", \"rb\") as rf:\n",
    "    model = pickle.load(rf)\n",
    "\n",
    "def infer(input_dataframe):\n",
    "    if \"stroke\" in input_dataframe.columns:\n",
    "        input_dataframe.drop(columns=[\"stroke\"], inplace=True)\n",
    "        input_dataframe.fillna(input_dataframe.mean(), inplace=True)\n",
    "\n",
    "    predictions = pd.DataFrame(model.predict(input_dataframe), columns=[\"Failures\"])\n",
    "    probabilities = pd.DataFrame(model.predict_proba(input_dataframe), columns=[\"Probabilité de non-AVC\", \"Probabilité de risque d'AVC\"])\n",
    "    predictions = pd.concat([predictions, probabilities], axis=1)\n",
    "    predictions[\"Failures\"] = predictions[\"Failures\"].apply(lambda x: \"Risque d'AVC\" if x == 1 else \"Faible risque d'AVC\")\n",
    "\n",
    "    return predictions\n",
    "\n",
    "random_row = df.sample(n=2, random_state=np.random.randint(100))\n",
    "iface = gr.Interface(\n",
    "    fn=infer, \n",
    "    inputs=inputs, \n",
    "    outputs=outputs, \n",
    "    examples=[[random_row]], \n",
    "    allow_flagging=\"never\",\n",
    "    title=\"Prédictions d'AVC\",\n",
    "    description=\"Un modèle de prédiction utilisant la méthode du Random Forest\",\n",
    "    article=\"Utilisez ces exemples aléatoires pour pré-remplir les valeurs du tableau.\")\n",
    "    #live=True\n",
    "\n",
    "iface.launch()\n"
   ]
  },
  {
   "cell_type": "code",
   "execution_count": null,
   "id": "86db4f22",
   "metadata": {},
   "outputs": [],
   "source": []
  }
 ],
 "metadata": {
  "kernelspec": {
   "display_name": "Python 3 (ipykernel)",
   "language": "python",
   "name": "python3"
  },
  "language_info": {
   "codemirror_mode": {
    "name": "ipython",
    "version": 3
   },
   "file_extension": ".py",
   "mimetype": "text/x-python",
   "name": "python",
   "nbconvert_exporter": "python",
   "pygments_lexer": "ipython3",
   "version": "3.8.10"
  },
  "toc": {
   "base_numbering": 1,
   "nav_menu": {},
   "number_sections": true,
   "sideBar": true,
   "skip_h1_title": false,
   "title_cell": "Table of Contents",
   "title_sidebar": "Contents",
   "toc_cell": false,
   "toc_position": {
    "height": "722px",
    "left": "126px",
    "top": "111.125px",
    "width": "379px"
   },
   "toc_section_display": true,
   "toc_window_display": true
  },
  "varInspector": {
   "cols": {
    "lenName": 16,
    "lenType": 16,
    "lenVar": 40
   },
   "kernels_config": {
    "python": {
     "delete_cmd_postfix": "",
     "delete_cmd_prefix": "del ",
     "library": "var_list.py",
     "varRefreshCmd": "print(var_dic_list())"
    },
    "r": {
     "delete_cmd_postfix": ") ",
     "delete_cmd_prefix": "rm(",
     "library": "var_list.r",
     "varRefreshCmd": "cat(var_dic_list()) "
    }
   },
   "types_to_exclude": [
    "module",
    "function",
    "builtin_function_or_method",
    "instance",
    "_Feature"
   ],
   "window_display": false
  }
 },
 "nbformat": 4,
 "nbformat_minor": 5
}
