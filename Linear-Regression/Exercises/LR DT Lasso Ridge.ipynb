{
 "cells": [
  {
   "cell_type": "code",
   "execution_count": null,
   "id": "ca2a4af3",
   "metadata": {},
   "outputs": [],
   "source": [
    "import pandas as pd\n",
    "import seaborn as sns\n",
    "import matplotlib.pyplot as plt\n",
    "import numpy as np\n",
    "\n",
    "from sklearn.preprocessing import OrdinalEncoder\n",
    "from sklearn.model_selection import train_test_split\n",
    "from sklearn.linear_model import LinearRegression\n",
    "from sklearn.model_selection import ShuffleSplit\n",
    "from sklearn.model_selection import cross_val_score\n",
    "from sklearn.pipeline import Pipeline\n",
    "from sklearn.preprocessing import StandardScaler\n",
    "from sklearn import metrics\n",
    "from sklearn.model_selection import GridSearchCV\n",
    "from sklearn.linear_model import Lasso, Ridge\n",
    "from sklearn.tree import DecisionTreeRegressor\n",
    "from sklearn.metrics import mean_squared_error, make_scorer"
   ]
  },
  {
   "cell_type": "code",
   "execution_count": null,
   "id": "3cc4adb6",
   "metadata": {},
   "outputs": [],
   "source": [
    "models = df.Name.str.extract(pat=r'(\\w+) (\\w+)', expand=False)\n",
    "models.head()"
   ]
  },
  {
   "cell_type": "code",
   "execution_count": null,
   "id": "65fff6f4",
   "metadata": {},
   "outputs": [],
   "source": [
    "categorical_features = df.select_dtypes(include = [\"object\"]).columns.to_list()\n",
    "numerical_features = df.select_dtypes(exclude = [\"object\"]).columns.to_list()\n",
    "numerical_features.remove('Price')"
   ]
  },
  {
   "cell_type": "code",
   "execution_count": null,
   "id": "173c775d",
   "metadata": {},
   "outputs": [],
   "source": [
    "print('Les features catégorielles sont ' + str(categorical_features))\n",
    "print('Les features numériques sauf le prix sont ' + str(numerical_features))"
   ]
  },
  {
   "cell_type": "code",
   "execution_count": null,
   "id": "36af066e",
   "metadata": {},
   "outputs": [],
   "source": [
    "#maintenant que l'on a recrée une colonne contenant les bonnes valeurs numériques correspondants aux valeurs ordinales\n",
    "#de l'ancienne colonne, on peut supprimer cetter dernière\n",
    "enc = OrdinalEncoder(categories=[['First', 'Second', 'Third', 'Fourth & Above']])\n",
    "Owner_Type_transformed = enc.fit_transform(df.loc[:, ['Owner_Type']])\n",
    "\n",
    "df['Owner_Type_Numerical'] = Owner_Type_transformed\n",
    "df.Owner_Type_Numerical = df.Owner_Type_Numerical.astype('int')"
   ]
  },
  {
   "cell_type": "code",
   "execution_count": null,
   "id": "d0d0d27e",
   "metadata": {},
   "outputs": [],
   "source": [
    "df.drop(['Owner_Type'], axis=1, inplace=True)\n",
    "categorical_features.remove('Owner_Type')"
   ]
  },
  {
   "cell_type": "code",
   "execution_count": null,
   "id": "81689e16",
   "metadata": {},
   "outputs": [],
   "source": [
    "from numpy import array\n",
    "from numpy import argmax\n",
    "from sklearn.preprocessing import LabelEncoder\n",
    "from sklearn.preprocessing import OneHotEncoder\n",
    "from sklearn import preprocessing\n",
    "\n",
    "# define example\n",
    "data = df.Name\n",
    "values = array(data)\n",
    "print(values)\n",
    "# integer encode\n",
    "\n",
    "le = preprocessing.LabelEncoder()\n",
    "df['Name'] = le.fit_transform(df['Name'])\n",
    "df['Location'] = le.fit_transform(df['Location'])\n",
    "df['Fuel_Type'] = le.fit_transform(df['Fuel_Type'])\n",
    "df['Transmission'] = le.fit_transform(df['Transmission'])"
   ]
  },
  {
   "cell_type": "code",
   "execution_count": null,
   "id": "1ced37f2",
   "metadata": {},
   "outputs": [],
   "source": [
    "from sklearn.ensemble import RandomForestRegressor\n",
    "from sklearn import metrics\n",
    "\n",
    "X = df.drop(['Price','Location','Owner_Type_Numerical'], axis=1)\n",
    "y = df.Price\n",
    "X_train, X_test, y_train, y_test = train_test_split(X, y,test_size=0.3,random_state=10)\n",
    "\n",
    "pipe2 = Pipeline([('std', StandardScaler()), ('random_forest', RandomForestRegressor())], verbose = True)\n",
    "pipe2.fit(X_train, y_train)\n",
    "\n",
    "y_pred = pipe2.predict(X_test)\n",
    "mse = mean_squared_error(y_test, y_pred) \n",
    "r2 = pipe2.score(X_test,y_test)\n",
    "\n",
    "\n",
    "mae = metrics.mean_absolute_error(y_test,y_pred)\n",
    "print('MAE : {}'.format(mae/y.mean()))\n",
    "\n",
    "\n",
    "rmse = np.sqrt(mean_squared_error(y_test, y_pred))\n",
    "print('RMSE : {}'.format(rmse/y.mean()))\n",
    "\n",
    "\n",
    "print('MSE : ',mse)\n",
    "print('R² : ',r2)\n"
   ]
  }
 ],
 "metadata": {
  "kernelspec": {
   "display_name": "Python 3",
   "language": "python",
   "name": "python3"
  },
  "language_info": {
   "codemirror_mode": {
    "name": "ipython",
    "version": 3
   },
   "file_extension": ".py",
   "mimetype": "text/x-python",
   "name": "python",
   "nbconvert_exporter": "python",
   "pygments_lexer": "ipython3",
   "version": "3.8.8"
  }
 },
 "nbformat": 4,
 "nbformat_minor": 5
}
