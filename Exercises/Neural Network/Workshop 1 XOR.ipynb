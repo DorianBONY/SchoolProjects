{
 "cells": [
  {
   "cell_type": "code",
   "execution_count": 1,
   "id": "21e3c7f9",
   "metadata": {},
   "outputs": [],
   "source": [
    "import numpy as np # For matrix math\n",
    "import matplotlib.pyplot as plt # For plotting\n",
    "\n",
    "import sys # For printing"
   ]
  },
  {
   "cell_type": "code",
   "execution_count": 2,
   "id": "6611e6ff",
   "metadata": {},
   "outputs": [],
   "source": [
    "X = np.array([\n",
    "    [0, 1],\n",
    "    [1, 0],\n",
    "    [1, 1],\n",
    "    [0, 0]\n",
    "])\n",
    "\n",
    "\n",
    "y = np.array([\n",
    "    [1],\n",
    "    [1],\n",
    "    [0],\n",
    "    [0]\n",
    "])"
   ]
  },
  {
   "cell_type": "code",
   "execution_count": 3,
   "id": "7669cd3b",
   "metadata": {},
   "outputs": [
    {
     "data": {
      "text/plain": [
       "array([[0, 1],\n",
       "       [1, 0],\n",
       "       [1, 1],\n",
       "       [0, 0]])"
      ]
     },
     "execution_count": 3,
     "metadata": {},
     "output_type": "execute_result"
    }
   ],
   "source": [
    "X"
   ]
  },
  {
   "cell_type": "code",
   "execution_count": 4,
   "id": "109387d2",
   "metadata": {},
   "outputs": [
    {
     "data": {
      "text/plain": [
       "array([[1],\n",
       "       [1],\n",
       "       [0],\n",
       "       [0]])"
      ]
     },
     "execution_count": 4,
     "metadata": {},
     "output_type": "execute_result"
    }
   ],
   "source": [
    "y"
   ]
  },
  {
   "cell_type": "code",
   "execution_count": 117,
   "id": "99af4549",
   "metadata": {},
   "outputs": [],
   "source": [
    "num_i_units = 2\n",
    "num_h_units = 111\n",
    "num_o_units = 1"
   ]
  },
  {
   "cell_type": "code",
   "execution_count": 119,
   "id": "53a55851",
   "metadata": {},
   "outputs": [],
   "source": [
    "learning_rate = 0.3333333\n",
    "reg_param = 0\n",
    "max_iter = 5000\n",
    "m = 4"
   ]
  },
  {
   "cell_type": "code",
   "execution_count": 120,
   "id": "4e3963d0",
   "metadata": {},
   "outputs": [],
   "source": [
    "np.random.seed(1)\n",
    "W1 = np.random.normal(0, 1, (num_h_units, num_i_units))\n",
    "W2 = np.random.normal(0, 1, (num_o_units, num_h_units))\n",
    "\n",
    "B1 = np.random.random((num_h_units, 1))\n",
    "B2 = np.random.random((num_o_units, 1))"
   ]
  },
  {
   "cell_type": "code",
   "execution_count": 121,
   "id": "02338466",
   "metadata": {},
   "outputs": [
    {
     "data": {
      "text/plain": [
       "array([[ 1.62434536, -0.61175641],\n",
       "       [-0.52817175, -1.07296862],\n",
       "       [ 0.86540763, -2.3015387 ],\n",
       "       [ 1.74481176, -0.7612069 ],\n",
       "       [ 0.3190391 , -0.24937038],\n",
       "       [ 1.46210794, -2.06014071],\n",
       "       [-0.3224172 , -0.38405435],\n",
       "       [ 1.13376944, -1.09989127],\n",
       "       [-0.17242821, -0.87785842],\n",
       "       [ 0.04221375,  0.58281521],\n",
       "       [-1.10061918,  1.14472371],\n",
       "       [ 0.90159072,  0.50249434],\n",
       "       [ 0.90085595, -0.68372786],\n",
       "       [-0.12289023, -0.93576943],\n",
       "       [-0.26788808,  0.53035547],\n",
       "       [-0.69166075, -0.39675353],\n",
       "       [-0.6871727 , -0.84520564],\n",
       "       [-0.67124613, -0.0126646 ],\n",
       "       [-1.11731035,  0.2344157 ],\n",
       "       [ 1.65980218,  0.74204416],\n",
       "       [-0.19183555, -0.88762896],\n",
       "       [-0.74715829,  1.6924546 ],\n",
       "       [ 0.05080775, -0.63699565],\n",
       "       [ 0.19091548,  2.10025514],\n",
       "       [ 0.12015895,  0.61720311],\n",
       "       [ 0.30017032, -0.35224985],\n",
       "       [-1.1425182 , -0.34934272],\n",
       "       [-0.20889423,  0.58662319],\n",
       "       [ 0.83898341,  0.93110208],\n",
       "       [ 0.28558733,  0.88514116],\n",
       "       [-0.75439794,  1.25286816],\n",
       "       [ 0.51292982, -0.29809284],\n",
       "       [ 0.48851815, -0.07557171],\n",
       "       [ 1.13162939,  1.51981682],\n",
       "       [ 2.18557541, -1.39649634],\n",
       "       [-1.44411381, -0.50446586],\n",
       "       [ 0.16003707,  0.87616892],\n",
       "       [ 0.31563495, -2.02220122],\n",
       "       [-0.30620401,  0.82797464],\n",
       "       [ 0.23009474,  0.76201118],\n",
       "       [-0.22232814, -0.20075807],\n",
       "       [ 0.18656139,  0.41005165],\n",
       "       [ 0.19829972,  0.11900865],\n",
       "       [-0.67066229,  0.37756379],\n",
       "       [ 0.12182127,  1.12948391],\n",
       "       [ 1.19891788,  0.18515642],\n",
       "       [-0.37528495, -0.63873041],\n",
       "       [ 0.42349435,  0.07734007],\n",
       "       [-0.34385368,  0.04359686],\n",
       "       [-0.62000084,  0.69803203],\n",
       "       [-0.44712856,  1.2245077 ],\n",
       "       [ 0.40349164,  0.59357852],\n",
       "       [-1.09491185,  0.16938243],\n",
       "       [ 0.74055645, -0.9537006 ],\n",
       "       [-0.26621851,  0.03261455],\n",
       "       [-1.37311732,  0.31515939],\n",
       "       [ 0.84616065, -0.85951594],\n",
       "       [ 0.35054598, -1.31228341],\n",
       "       [-0.03869551, -1.61577235],\n",
       "       [ 1.12141771,  0.40890054],\n",
       "       [-0.02461696, -0.77516162],\n",
       "       [ 1.27375593,  1.96710175],\n",
       "       [-1.85798186,  1.23616403],\n",
       "       [ 1.62765075,  0.3380117 ],\n",
       "       [-1.19926803,  0.86334532],\n",
       "       [-0.1809203 , -0.60392063],\n",
       "       [-1.23005814,  0.5505375 ],\n",
       "       [ 0.79280687, -0.62353073],\n",
       "       [ 0.52057634, -1.14434139],\n",
       "       [ 0.80186103,  0.0465673 ],\n",
       "       [-0.18656977, -0.10174587],\n",
       "       [ 0.86888616,  0.75041164],\n",
       "       [ 0.52946532,  0.13770121],\n",
       "       [ 0.07782113,  0.61838026],\n",
       "       [ 0.23249456,  0.68255141],\n",
       "       [-0.31011677, -2.43483776],\n",
       "       [ 1.0388246 ,  2.18697965],\n",
       "       [ 0.44136444, -0.10015523],\n",
       "       [-0.13644474, -0.11905419],\n",
       "       [ 0.01740941, -1.12201873],\n",
       "       [-0.51709446, -0.99702683],\n",
       "       [ 0.24879916, -0.29664115],\n",
       "       [ 0.49521132, -0.17470316],\n",
       "       [ 0.98633519,  0.2135339 ],\n",
       "       [ 2.19069973, -1.89636092],\n",
       "       [-0.64691669,  0.90148689],\n",
       "       [ 2.52832571, -0.24863478],\n",
       "       [ 0.04366899, -0.22631424],\n",
       "       [ 1.33145711, -0.28730786],\n",
       "       [ 0.68006984, -0.3198016 ],\n",
       "       [-1.27255876,  0.31354772],\n",
       "       [ 0.50318481,  1.29322588],\n",
       "       [-0.11044703, -0.61736206],\n",
       "       [ 0.5627611 ,  0.24073709],\n",
       "       [ 0.28066508, -0.0731127 ],\n",
       "       [ 1.16033857,  0.36949272],\n",
       "       [ 1.90465871,  1.1110567 ],\n",
       "       [ 0.6590498 , -1.62743834],\n",
       "       [ 0.60231928,  0.4202822 ],\n",
       "       [ 0.81095167,  1.04444209],\n",
       "       [-0.40087819,  0.82400562],\n",
       "       [-0.56230543,  1.95487808],\n",
       "       [-1.33195167, -1.76068856],\n",
       "       [-1.65072127, -0.89055558],\n",
       "       [-1.1191154 ,  1.9560789 ],\n",
       "       [-0.3264995 , -1.34267579],\n",
       "       [ 1.11438298, -0.58652394],\n",
       "       [-1.23685338,  0.87583893],\n",
       "       [ 0.62336218, -0.43495668],\n",
       "       [ 1.40754   ,  0.12910158],\n",
       "       [ 1.6169496 ,  0.50274088]])"
      ]
     },
     "execution_count": 121,
     "metadata": {},
     "output_type": "execute_result"
    }
   ],
   "source": [
    "W1"
   ]
  },
  {
   "cell_type": "code",
   "execution_count": 122,
   "id": "2491596d",
   "metadata": {},
   "outputs": [
    {
     "data": {
      "text/plain": [
       "array([[ 1.55880554e+00,  1.09402696e-01, -1.21974440e+00,\n",
       "         2.44936865e+00, -5.45774168e-01, -1.98837863e-01,\n",
       "        -7.00398505e-01, -2.03394449e-01,  2.42669441e-01,\n",
       "         2.01830179e-01,  6.61020288e-01,  1.79215821e+00,\n",
       "        -1.20464572e-01, -1.23312074e+00, -1.18231813e+00,\n",
       "        -6.65754518e-01, -1.67419581e+00,  8.25029824e-01,\n",
       "        -4.98213564e-01, -3.10984978e-01, -1.89148284e-03,\n",
       "        -1.39662042e+00, -8.61316361e-01,  6.74711526e-01,\n",
       "         6.18539131e-01, -4.43171931e-01,  1.81053491e+00,\n",
       "        -1.30572692e+00, -3.44987210e-01, -2.30839743e-01,\n",
       "        -2.79308500e+00,  1.93752881e+00,  3.66332015e-01,\n",
       "        -1.04458938e+00,  2.05117344e+00,  5.85662000e-01,\n",
       "         4.29526140e-01, -6.06998398e-01,  1.06222724e-01,\n",
       "        -1.52568032e+00,  7.95026094e-01, -3.74438319e-01,\n",
       "         1.34048197e-01,  1.20205486e+00,  2.84748111e-01,\n",
       "         2.62467445e-01,  2.76499305e-01, -7.33271604e-01,\n",
       "         8.36004719e-01,  1.54335911e+00,  7.58805660e-01,\n",
       "         8.84908814e-01, -8.77281519e-01, -8.67787223e-01,\n",
       "        -1.44087602e+00,  1.23225307e+00, -2.54179868e-01,\n",
       "         1.39984394e+00, -7.81911683e-01, -4.37508983e-01,\n",
       "         9.54250872e-02,  9.21450069e-01,  6.07501958e-02,\n",
       "         2.11124755e-01,  1.65275673e-02,  1.77187720e-01,\n",
       "        -1.11647002e+00,  8.09271010e-02, -1.86578994e-01,\n",
       "        -5.68244809e-02,  4.92336556e-01, -6.80678141e-01,\n",
       "        -8.45080274e-02, -2.97361883e-01,  4.17302005e-01,\n",
       "         7.84770651e-01, -9.55425262e-01,  5.85910431e-01,\n",
       "         2.06578332e+00, -1.47115693e+00, -8.30171895e-01,\n",
       "        -8.80577600e-01, -2.79097722e-01,  1.62284909e+00,\n",
       "         1.33526763e-02, -6.94693595e-01,  6.21803504e-01,\n",
       "        -5.99804531e-01,  1.12341216e+00,  3.05267040e-01,\n",
       "         1.38877940e+00, -6.61344243e-01,  3.03085711e+00,\n",
       "         8.24584625e-01,  6.54580153e-01, -5.11884476e-02,\n",
       "        -7.25597119e-01, -8.67768678e-01, -1.35977326e-01,\n",
       "        -7.97269785e-01,  2.82675712e-01, -8.26097432e-01,\n",
       "         6.21082701e-01,  9.56121704e-01, -7.05840507e-01,\n",
       "         1.19268607e+00, -2.37941936e-01,  1.15528789e+00,\n",
       "         4.38166347e-01,  1.12232832e+00, -9.97019796e-01]])"
      ]
     },
     "execution_count": 122,
     "metadata": {},
     "output_type": "execute_result"
    }
   ],
   "source": [
    "W2"
   ]
  },
  {
   "cell_type": "code",
   "execution_count": 123,
   "id": "54cf62a1",
   "metadata": {},
   "outputs": [
    {
     "data": {
      "text/plain": [
       "array([[0.02778335],\n",
       "       [0.75486148],\n",
       "       [0.39485048],\n",
       "       [0.7469385 ],\n",
       "       [0.45240483],\n",
       "       [0.45008675],\n",
       "       [0.47807251],\n",
       "       [0.47400393],\n",
       "       [0.80316334],\n",
       "       [0.40239252],\n",
       "       [0.90468616],\n",
       "       [0.03706105],\n",
       "       [0.77387434],\n",
       "       [0.12564138],\n",
       "       [0.61851357],\n",
       "       [0.01036426],\n",
       "       [0.53862728],\n",
       "       [0.00301796],\n",
       "       [0.95119379],\n",
       "       [0.90540203],\n",
       "       [0.79596694],\n",
       "       [0.91527432],\n",
       "       [0.14555823],\n",
       "       [0.15773007],\n",
       "       [0.18763167],\n",
       "       [0.6224959 ],\n",
       "       [0.9058095 ],\n",
       "       [0.98995518],\n",
       "       [0.71112246],\n",
       "       [0.73180041],\n",
       "       [0.9092932 ],\n",
       "       [0.40087373],\n",
       "       [0.24985068],\n",
       "       [0.17343017],\n",
       "       [0.11945705],\n",
       "       [0.81261059],\n",
       "       [0.14679237],\n",
       "       [0.26429748],\n",
       "       [0.81908918],\n",
       "       [0.31058725],\n",
       "       [0.98241745],\n",
       "       [0.2666387 ],\n",
       "       [0.53365334],\n",
       "       [0.31446701],\n",
       "       [0.91077283],\n",
       "       [0.36655664],\n",
       "       [0.43359233],\n",
       "       [0.51229269],\n",
       "       [0.93888648],\n",
       "       [0.03094901],\n",
       "       [0.71687866],\n",
       "       [0.89101895],\n",
       "       [0.02728722],\n",
       "       [0.52205125],\n",
       "       [0.32598981],\n",
       "       [0.85948932],\n",
       "       [0.55851655],\n",
       "       [0.69022787],\n",
       "       [0.4528535 ],\n",
       "       [0.62830904],\n",
       "       [0.29009685],\n",
       "       [0.00934858],\n",
       "       [0.57675593],\n",
       "       [0.31144421],\n",
       "       [0.5172676 ],\n",
       "       [0.91640585],\n",
       "       [0.42647479],\n",
       "       [0.24739604],\n",
       "       [0.37129376],\n",
       "       [0.93186112],\n",
       "       [0.93686838],\n",
       "       [0.84432995],\n",
       "       [0.92020651],\n",
       "       [0.22790029],\n",
       "       [0.08748221],\n",
       "       [0.22730974],\n",
       "       [0.31437662],\n",
       "       [0.17476588],\n",
       "       [0.60709416],\n",
       "       [0.41358642],\n",
       "       [0.81635151],\n",
       "       [0.1851304 ],\n",
       "       [0.70187653],\n",
       "       [0.24035562],\n",
       "       [0.57421909],\n",
       "       [0.3489876 ],\n",
       "       [0.0569644 ],\n",
       "       [0.22881367],\n",
       "       [0.66410256],\n",
       "       [0.49725009],\n",
       "       [0.51901598],\n",
       "       [0.17472015],\n",
       "       [0.57071585],\n",
       "       [0.99675343],\n",
       "       [0.81683511],\n",
       "       [0.59437262],\n",
       "       [0.97598907],\n",
       "       [0.90156258],\n",
       "       [0.59560793],\n",
       "       [0.03242633],\n",
       "       [0.0935771 ],\n",
       "       [0.06537172],\n",
       "       [0.45173315],\n",
       "       [0.37543483],\n",
       "       [0.97535003],\n",
       "       [0.16798329],\n",
       "       [0.97278759],\n",
       "       [0.76747487],\n",
       "       [0.82423784],\n",
       "       [0.63261582],\n",
       "       [0.66873277]])"
      ]
     },
     "execution_count": 123,
     "metadata": {},
     "output_type": "execute_result"
    }
   ],
   "source": [
    "B1"
   ]
  },
  {
   "cell_type": "code",
   "execution_count": 124,
   "id": "cef7458a",
   "metadata": {},
   "outputs": [
    {
     "data": {
      "text/plain": [
       "array([[0.47688233]])"
      ]
     },
     "execution_count": 124,
     "metadata": {},
     "output_type": "execute_result"
    }
   ],
   "source": [
    "B2"
   ]
  },
  {
   "cell_type": "code",
   "execution_count": 125,
   "id": "0c3bae84",
   "metadata": {},
   "outputs": [],
   "source": [
    "def sigmoid(z, derv = False):\n",
    "    if derv: return z * (1 - z)\n",
    "    return 1 / (1 + np.exp(-z))"
   ]
  },
  {
   "cell_type": "code",
   "execution_count": 126,
   "id": "9838a5b1",
   "metadata": {},
   "outputs": [],
   "source": [
    "def forward(x, predict = False):\n",
    "    a1 = x.reshape(x.shape[0], 1)\n",
    "    \n",
    "    z2 = W1.dot(a1) + B1\n",
    "    a2 = sigmoid(z2)\n",
    "    \n",
    "    z3 = W2.dot(a2) + B2\n",
    "    a3 = sigmoid(z3)\n",
    "    \n",
    "    if predict: return a3\n",
    "    return (a1, a2, a3)"
   ]
  },
  {
   "cell_type": "code",
   "execution_count": 127,
   "id": "e101c140",
   "metadata": {},
   "outputs": [],
   "source": [
    "dW1 = 0\n",
    "dW2 = 0\n",
    "\n",
    "dB1 = 0\n",
    "dB2 = 0\n",
    "\n",
    "cost = np.zeros((max_iter, 1))"
   ]
  },
  {
   "cell_type": "code",
   "execution_count": 128,
   "id": "94c684bd",
   "metadata": {},
   "outputs": [],
   "source": [
    "def train(_W1, _W2, _B1, _B2): # The arguments are to bypass UnboundLocalError error\n",
    "    for i in range(max_iter):\n",
    "        c = 0\n",
    "        \n",
    "        dW1 = 0\n",
    "        dW2 = 0\n",
    "\n",
    "        dB1 = 0\n",
    "        dB2 = 0\n",
    "        \n",
    "        for j in range(m):\n",
    "            sys.stdout.write(\"\\rIteration: {} and {}\".format(i + 1, j + 1))\n",
    "\n",
    "            # Forward Prop.\n",
    "            a0 = X[j].reshape(X[j].shape[0], 1) # 2x1\n",
    "\n",
    "            z1 = _W1.dot(a0) + _B1 # 2x2 * 2x1 + 2x1 = 2x1\n",
    "            a1 = sigmoid(z1) # 2x1\n",
    "\n",
    "            z2 = _W2.dot(a1) + _B2 # 1x2 * 2x1 + 1x1 = 1x1\n",
    "            a2 = sigmoid(z2) # 1x1\n",
    "\n",
    "            # Back prop.\n",
    "            dz2 = a2 - y[j] # 1x1\n",
    "            dW2 += dz2 * a1.T # 1x1 .* 1x2 = 1x2\n",
    "\n",
    "            dz1 = np.multiply((_W2.T * dz2), sigmoid(a1, derv=True)) # (2x1 * 1x1) .* 2x1 = 2x1\n",
    "            dW1 += dz1.dot(a0.T) # 2x1 * 1x2 = 2x2\n",
    "\n",
    "            dB1 += dz1 # 2x1\n",
    "            dB2 += dz2 # 1x1\n",
    "\n",
    "            c = c + (-(y[j] * np.log(a2)) - ((1 - y[j]) * np.log(1 - a2)))\n",
    "            sys.stdout.flush() # Updating the text.\n",
    "        \n",
    "        _W1 = _W1 - learning_rate * (dW1 / m) + ( (reg_param / m) * _W1)\n",
    "        _W2 = _W2 - learning_rate * (dW2 / m) + ( (reg_param / m) * _W2)\n",
    "\n",
    "        _B1 = _B1 - learning_rate * (dB1 / m)\n",
    "        _B2 = _B2 - learning_rate * (dB2 / m)\n",
    "        cost[i] = (c / m) + ( \n",
    "            (reg_param / (2 * m)) * \n",
    "            (\n",
    "                np.sum(np.power(_W1, 2)) + \n",
    "                np.sum(np.power(_W2, 2))\n",
    "            )\n",
    "        )\n",
    "    return (_W1, _W2, _B1, _B2)"
   ]
  },
  {
   "cell_type": "code",
   "execution_count": 129,
   "id": "a0fd197b",
   "metadata": {},
   "outputs": [
    {
     "name": "stdout",
     "output_type": "stream",
     "text": [
      "Iteration: 5000 and 4"
     ]
    }
   ],
   "source": [
    "W1, W2, B1, B2 = train(W1, W2, B1, B2)"
   ]
  },
  {
   "cell_type": "code",
   "execution_count": 130,
   "id": "de420900",
   "metadata": {
    "scrolled": true
   },
   "outputs": [
    {
     "data": {
      "text/plain": [
       "array([[ 1.35645871e+00, -1.72907379e+00],\n",
       "       [-5.77958156e-01, -1.11533172e+00],\n",
       "       [ 3.04991392e+00, -2.71332240e+00],\n",
       "       [ 2.04210466e+00,  1.67729692e+00],\n",
       "       [ 4.72408467e-01, -3.68013692e-01],\n",
       "       [ 2.59980077e+00, -2.14004365e+00],\n",
       "       [-3.63685006e-01, -5.49172375e-01],\n",
       "       [ 1.80424375e+00, -1.29659824e+00],\n",
       "       [-3.17122144e-01, -9.61505820e-01],\n",
       "       [-6.68751657e-02,  4.68267522e-01],\n",
       "       [-1.38188848e+00,  6.67991582e-01],\n",
       "       [ 2.27283670e+00,  2.30591459e+00],\n",
       "       [ 1.23929435e+00, -9.38937381e-01],\n",
       "       [-1.13850310e+00, -1.58020681e+00],\n",
       "       [-4.97182531e-01,  9.19689318e-01],\n",
       "       [-1.04428109e+00, -9.71235125e-01],\n",
       "       [-2.41158922e+00, -2.56280433e+00],\n",
       "       [-9.89618445e-01,  1.94198425e-01],\n",
       "       [-1.10645655e+00,  4.54477400e-01],\n",
       "       [ 1.61391107e+00,  6.42869072e-01],\n",
       "       [-2.85415591e-01, -9.84944917e-01],\n",
       "       [-2.75193001e+00,  3.50588306e+00],\n",
       "       [-2.70517508e-02, -7.01937102e-01],\n",
       "       [ 1.44415765e+00,  2.42877144e+00],\n",
       "       [ 1.42466516e-02,  5.23247121e-01],\n",
       "       [ 4.56354669e-01, -4.80912715e-01],\n",
       "       [-1.45842966e+00, -7.18767731e-01],\n",
       "       [-7.82865892e-01,  1.17936245e+00],\n",
       "       [ 6.87462356e-01,  7.70955691e-01],\n",
       "       [ 9.75701195e-02,  7.80133744e-01],\n",
       "       [-3.62891870e+00,  4.30759063e+00],\n",
       "       [-1.13465871e-01, -3.95307194e-01],\n",
       "       [ 3.06071608e-01, -1.71958016e-01],\n",
       "       [ 5.16986359e-01,  1.04524936e+00],\n",
       "       [ 3.38367711e+00, -4.06985167e+00],\n",
       "       [-1.48036121e+00, -3.81163345e-01],\n",
       "       [ 1.54142079e-01,  8.17032499e-01],\n",
       "       [-1.62837653e-01, -2.01620407e+00],\n",
       "       [-4.12081438e-01,  7.33718881e-01],\n",
       "       [-4.47591255e-02,  7.49583626e-01],\n",
       "       [-6.04701286e-01, -4.56182919e-01],\n",
       "       [ 1.24729089e-01,  2.99706641e-01],\n",
       "       [ 6.78974394e-02,  8.68140061e-03],\n",
       "       [-1.32952427e+00,  4.36193739e-01],\n",
       "       [ 2.70806078e-01,  1.10090244e+00],\n",
       "       [ 1.12995629e+00,  2.84039987e-01],\n",
       "       [-4.45476150e-01, -6.69732735e-01],\n",
       "       [ 5.52522460e-01, -1.63875926e-01],\n",
       "       [-6.80801237e-01, -2.76279764e-01],\n",
       "       [-2.03224423e+00,  1.27271106e+00],\n",
       "       [-2.81682740e-01,  9.45431858e-01],\n",
       "       [ 7.67952411e-01,  9.38969257e-01],\n",
       "       [-1.10215707e+00, -4.01667962e-01],\n",
       "       [ 1.95967570e+00, -1.45630812e+00],\n",
       "       [-2.40219975e-02,  3.56185172e-02],\n",
       "       [-1.97760787e+00,  3.25298140e-01],\n",
       "       [ 1.30453140e+00, -1.01320525e+00],\n",
       "       [ 2.80167002e-01, -1.70237183e+00],\n",
       "       [-9.52992170e-01, -1.95916279e+00],\n",
       "       [ 1.06793987e+00, -4.37797279e-02],\n",
       "       [-9.92196116e-02, -8.52057620e-01],\n",
       "       [ 3.05090067e+00,  3.31075802e+00],\n",
       "       [-2.08072297e+00,  1.05739357e+00],\n",
       "       [ 1.63818700e+00,  6.46221157e-01],\n",
       "       [-1.32271633e+00,  7.52908217e-01],\n",
       "       [-3.60610815e-01, -7.23790849e-01],\n",
       "       [-1.16968229e+00,  1.43520603e+00],\n",
       "       [ 7.39332265e-01, -7.03688085e-01],\n",
       "       [ 5.65247301e-01, -1.14593103e+00],\n",
       "       [ 7.57721624e-01, -1.41305522e-01],\n",
       "       [-4.61859963e-01, -3.08988408e-01],\n",
       "       [ 6.49309148e-01,  3.51987073e-01],\n",
       "       [ 4.58174446e-01, -1.17525939e-02],\n",
       "       [-1.44394514e-02,  5.30643696e-01],\n",
       "       [ 1.54812792e-01,  6.18689451e-01],\n",
       "       [ 5.17379979e-01, -2.54973533e+00],\n",
       "       [ 3.88267706e-01,  2.00192417e+00],\n",
       "       [ 2.02473768e-01, -2.16086092e-01],\n",
       "       [-7.14501374e-01, -3.59735617e-01],\n",
       "       [-7.65601661e-01, -1.52367185e+00],\n",
       "       [-1.20377388e+00, -1.62751245e+00],\n",
       "       [ 4.60613777e-01, -3.27014327e-01],\n",
       "       [ 5.69225401e-01, -3.64383206e-01],\n",
       "       [ 1.82523329e+00,  1.74742308e+00],\n",
       "       [ 3.53964102e+00, -2.70987284e+00],\n",
       "       [-7.77058902e-01,  1.33302905e+00],\n",
       "       [ 2.46340405e+00,  2.52988963e-01],\n",
       "       [ 9.58036769e-02, -2.94449636e-01],\n",
       "       [ 1.27760030e+00,  6.23074353e-01],\n",
       "       [ 5.08956837e-01, -4.06473129e-01],\n",
       "       [-2.23139953e+00,  8.73037810e-01],\n",
       "       [ 1.00443348e-01,  1.11784664e+00],\n",
       "       [-8.53939772e-01, -7.59550180e-01],\n",
       "       [ 6.38709346e-01,  5.57110589e-01],\n",
       "       [ 1.38556739e-03, -1.54530749e-01],\n",
       "       [ 1.08757772e+00,  2.58499465e-01],\n",
       "       [ 1.80774962e+00,  8.19580703e-01],\n",
       "       [ 2.52939446e+00, -2.26987986e+00],\n",
       "       [ 4.98834326e-01,  2.68470301e-01],\n",
       "       [ 5.13474636e-01,  6.85976079e-01],\n",
       "       [-6.27985973e-01,  6.58269433e-01],\n",
       "       [-1.49992936e+00,  2.77298390e+00],\n",
       "       [-1.35473078e+00, -1.77912873e+00],\n",
       "       [-1.51666444e+00, -2.64274723e-01],\n",
       "       [-2.63619508e+00,  3.39924045e+00],\n",
       "       [ 1.23833317e-01, -1.39146739e+00],\n",
       "       [ 1.66585523e+00, -1.17860633e+00],\n",
       "       [-2.13530965e+00,  8.30526938e-01],\n",
       "       [ 3.73189000e-01, -4.95726936e-01],\n",
       "       [ 1.79900037e+00,  1.41459322e+00],\n",
       "       [ 1.88945548e+00, -7.95323392e-01]])"
      ]
     },
     "execution_count": 130,
     "metadata": {},
     "output_type": "execute_result"
    }
   ],
   "source": [
    "W1"
   ]
  },
  {
   "cell_type": "code",
   "execution_count": 131,
   "id": "92d68c3e",
   "metadata": {
    "scrolled": true
   },
   "outputs": [
    {
     "data": {
      "text/plain": [
       "array([[ 1.77013769,  0.25502099, -3.15615287,  2.75963461, -0.53383399,\n",
       "        -1.94714305, -0.45821747, -1.19094918,  0.43107993,  0.22558471,\n",
       "         0.56237512,  2.93991372, -0.74941468, -1.4675249 , -1.11759307,\n",
       "        -0.79498812, -2.92184356,  1.02223705, -0.27308147,  0.27611985,\n",
       "         0.2020869 , -3.6124225 , -0.66755925,  1.63270364,  0.58350058,\n",
       "        -0.45543441,  2.23795563, -1.40371194,  0.07444912, -0.10135069,\n",
       "        -5.57103556,  1.73562694,  0.28538651, -0.48702747,  4.73592632,\n",
       "         0.96168611,  0.42965361, -0.36822946,  0.01935642, -1.33580723,\n",
       "         0.99156929, -0.30087246,  0.16485403,  1.45694875,  0.43288874,\n",
       "         0.22768543,  0.39705792, -0.71303633,  1.00332777,  2.26060355,\n",
       "         0.53176442,  1.13865546, -0.58083851, -1.78880584, -1.15021664,\n",
       "         1.64303558, -0.83450657,  1.42870072, -1.01805841, -0.43439723,\n",
       "         0.19109218,  3.6357505 ,  0.46406952,  0.48559649,  0.21166534,\n",
       "         0.40662841, -1.24886071, -0.08885785, -0.16723163, -0.16435925,\n",
       "         0.65959219, -0.40581687, -0.08379782, -0.22724226,  0.39829913,\n",
       "         1.02445286, -0.10533415,  0.50206242,  2.05042575, -1.37834162,\n",
       "        -1.03094651, -0.78719546, -0.37385348,  2.28169684, -3.09631782,\n",
       "        -0.85616821,  0.22748626, -0.45801506,  1.05142128,  0.12860635,\n",
       "         2.04204135, -0.48062175,  2.97869821,  0.93182192,  0.63919138,\n",
       "         0.04247063,  0.14347547, -2.51668322, -0.06185532, -0.63298617,\n",
       "         0.40553529, -1.91022212, -0.43765421,  0.99189322, -3.11470052,\n",
       "         1.17436404, -1.19388425,  1.71469446,  0.24991809,  1.74858038,\n",
       "        -1.37901367]])"
      ]
     },
     "execution_count": 131,
     "metadata": {},
     "output_type": "execute_result"
    }
   ],
   "source": [
    "W2"
   ]
  },
  {
   "cell_type": "code",
   "execution_count": 132,
   "id": "43791802",
   "metadata": {},
   "outputs": [
    {
     "data": {
      "text/plain": [
       "array([[-1.10042594],\n",
       "       [ 0.67061699],\n",
       "       [ 1.66361809],\n",
       "       [ 0.42039041],\n",
       "       [ 0.30448178],\n",
       "       [ 1.30332294],\n",
       "       [ 0.16525421],\n",
       "       [ 0.82210096],\n",
       "       [ 0.69808873],\n",
       "       [ 0.1967728 ],\n",
       "       [ 0.34021404],\n",
       "       [-0.06171966],\n",
       "       [ 0.74761632],\n",
       "       [-0.31999955],\n",
       "       [ 0.64272592],\n",
       "       [-0.33604605],\n",
       "       [ 0.22461532],\n",
       "       [-0.12600226],\n",
       "       [ 0.90644752],\n",
       "       [ 0.79236376],\n",
       "       [ 0.62861545],\n",
       "       [ 1.55940526],\n",
       "       [-0.04520535],\n",
       "       [ 0.07540633],\n",
       "       [ 0.02912396],\n",
       "       [ 0.47085226],\n",
       "       [ 1.64397832],\n",
       "       [ 0.98935584],\n",
       "       [ 0.53892491],\n",
       "       [ 0.52714139],\n",
       "       [ 1.97491959],\n",
       "       [ 0.21699591],\n",
       "       [ 0.04472066],\n",
       "       [-0.21732362],\n",
       "       [-1.86215566],\n",
       "       [ 1.05928092],\n",
       "       [ 0.00611795],\n",
       "       [ 0.20229206],\n",
       "       [ 0.61217533],\n",
       "       [ 0.1194781 ],\n",
       "       [ 0.89691862],\n",
       "       [ 0.03964473],\n",
       "       [ 0.32599449],\n",
       "       [-0.13764027],\n",
       "       [ 0.75733314],\n",
       "       [ 0.2206605 ],\n",
       "       [ 0.36627126],\n",
       "       [ 0.30694516],\n",
       "       [ 0.80272855],\n",
       "       [-0.82961376],\n",
       "       [ 0.43463274],\n",
       "       [ 0.79914624],\n",
       "       [-0.21519849],\n",
       "       [ 1.0193008 ],\n",
       "       [ 0.12041547],\n",
       "       [ 0.38612141],\n",
       "       [ 0.69274695],\n",
       "       [ 0.212937  ],\n",
       "       [ 0.02422228],\n",
       "       [ 0.38254289],\n",
       "       [ 0.14839308],\n",
       "       [-0.71620545],\n",
       "       [ 0.23453765],\n",
       "       [ 0.227946  ],\n",
       "       [ 0.3169861 ],\n",
       "       [ 0.7672498 ],\n",
       "       [ 0.98831853],\n",
       "       [ 0.0885185 ],\n",
       "       [ 0.34322578],\n",
       "       [ 0.72466031],\n",
       "       [ 0.76904175],\n",
       "       [ 0.63821954],\n",
       "       [ 0.71049268],\n",
       "       [ 0.01893167],\n",
       "       [-0.05492023],\n",
       "       [ 0.08891563],\n",
       "       [ 0.21646348],\n",
       "       [-0.02805349],\n",
       "       [ 0.70847029],\n",
       "       [-0.09207838],\n",
       "       [ 0.0789267 ],\n",
       "       [ 0.08427189],\n",
       "       [ 0.51294843],\n",
       "       [ 0.2747821 ],\n",
       "       [ 1.4518227 ],\n",
       "       [ 0.57325792],\n",
       "       [-0.04842438],\n",
       "       [ 0.04124841],\n",
       "       [ 0.63210431],\n",
       "       [ 0.26718604],\n",
       "       [-0.25810927],\n",
       "       [-0.11978994],\n",
       "       [ 1.23315681],\n",
       "       [ 0.9010637 ],\n",
       "       [ 0.62860175],\n",
       "       [ 0.40553749],\n",
       "       [ 1.00541859],\n",
       "       [ 1.51445641],\n",
       "       [ 0.37460362],\n",
       "       [-0.43129385],\n",
       "       [-0.19110902],\n",
       "       [ 0.75639996],\n",
       "       [ 0.351792  ],\n",
       "       [ 0.76211231],\n",
       "       [ 1.50611548],\n",
       "       [ 0.13956784],\n",
       "       [ 0.93562818],\n",
       "       [-0.21916313],\n",
       "       [ 0.58789194],\n",
       "       [ 0.46982608],\n",
       "       [ 0.51463128]])"
      ]
     },
     "execution_count": 132,
     "metadata": {},
     "output_type": "execute_result"
    }
   ],
   "source": [
    "B1"
   ]
  },
  {
   "cell_type": "code",
   "execution_count": 133,
   "id": "1ffedad4",
   "metadata": {},
   "outputs": [
    {
     "data": {
      "text/plain": [
       "array([[0.59030953]])"
      ]
     },
     "execution_count": 133,
     "metadata": {},
     "output_type": "execute_result"
    }
   ],
   "source": [
    "B2"
   ]
  },
  {
   "cell_type": "code",
   "execution_count": 134,
   "id": "f6920f59",
   "metadata": {},
   "outputs": [
    {
     "data": {
      "image/png": "[encoded data removed]",
      "text/plain": [
       "<Figure size 432x288 with 1 Axes>"
      ]
     },
     "metadata": {
      "needs_background": "light"
     },
     "output_type": "display_data"
    }
   ],
   "source": [
    "# Assigning the axes to the different elements.\n",
    "plt.plot(range(max_iter), cost)\n",
    "\n",
    "# Labelling the x axis as the iterations axis.\n",
    "plt.xlabel(\"Iterations\")\n",
    "\n",
    "# Labelling the y axis as the cost axis.\n",
    "plt.ylabel(\"Cost\")\n",
    "\n",
    "# Showing the plot.\n",
    "plt.show()"
   ]
  },
  {
   "cell_type": "code",
   "execution_count": 135,
   "id": "811dafba",
   "metadata": {},
   "outputs": [
    {
     "data": {
      "text/plain": [
       "array([[0.00153521]])"
      ]
     },
     "execution_count": 135,
     "metadata": {},
     "output_type": "execute_result"
    }
   ],
   "source": [
    "forward(np.array(\n",
    "   [0,0]\n",
    "),predict=True)"
   ]
  },
  {
   "cell_type": "code",
   "execution_count": 136,
   "id": "dcda1b20",
   "metadata": {},
   "outputs": [
    {
     "data": {
      "text/plain": [
       "array([[0.99817763]])"
      ]
     },
     "execution_count": 136,
     "metadata": {},
     "output_type": "execute_result"
    }
   ],
   "source": [
    "forward(np.array(\n",
    "   [1,0]\n",
    "),predict=True)"
   ]
  },
  {
   "cell_type": "code",
   "execution_count": 137,
   "id": "a8b9f88c",
   "metadata": {},
   "outputs": [
    {
     "data": {
      "text/plain": [
       "array([[0.99807572]])"
      ]
     },
     "execution_count": 137,
     "metadata": {},
     "output_type": "execute_result"
    }
   ],
   "source": [
    "forward(np.array(\n",
    "   [0,1]\n",
    "),predict=True)"
   ]
  },
  {
   "cell_type": "code",
   "execution_count": 138,
   "id": "de21bda4",
   "metadata": {},
   "outputs": [
    {
     "data": {
      "text/plain": [
       "array([[0.00212543]])"
      ]
     },
     "execution_count": 138,
     "metadata": {},
     "output_type": "execute_result"
    }
   ],
   "source": [
    "forward(np.array(\n",
    "   [1,1]\n",
    "),predict=True)"
   ]
  }
 ],
 "metadata": {
  "kernelspec": {
   "display_name": "Python 3",
   "language": "python",
   "name": "python3"
  },
  "language_info": {
   "codemirror_mode": {
    "name": "ipython",
    "version": 3
   },
   "file_extension": ".py",
   "mimetype": "text/x-python",
   "name": "python",
   "nbconvert_exporter": "python",
   "pygments_lexer": "ipython3",
   "version": "3.8.8"
  }
 },
 "nbformat": 4,
 "nbformat_minor": 5
}
