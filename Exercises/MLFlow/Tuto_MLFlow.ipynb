{
  "nbformat": 4,
  "nbformat_minor": 0,
  "metadata": {
    "colab": {
      "provenance": []
    },
    "kernelspec": {
      "name": "python3",
      "display_name": "Python 3"
    },
    "language_info": {
      "name": "python"
    }
  },
  "cells": [
    {
      "cell_type": "code",
      "execution_count": 1,
      "metadata": {
        "colab": {
          "base_uri": "https://localhost:8080/"
        },
        "id": "4Ha6E82mGY6f",
        "outputId": "0c0f06b1-06be-4920-8e3c-3b0814d1bc28"
      },
      "outputs": [
        {
          "output_type": "stream",
          "name": "stdout",
          "text": [
            "Looking in indexes: https://pypi.org/simple, https://us-python.pkg.dev/colab-wheels/public/simple/\n",
            "Collecting mlflow\n",
            "  Downloading mlflow-2.1.1-py3-none-any.whl (16.7 MB)\n",
            "\u001b[2K     \u001b[90m━━━━━━━━━━━━━━━━━━━━━━━━━━━━━━━━━━━━━━━━\u001b[0m \u001b[32m16.7/16.7 MB\u001b[0m \u001b[31m35.8 MB/s\u001b[0m eta \u001b[36m0:00:00\u001b[0m\n",
            "\u001b[?25hCollecting querystring-parser<2\n",
            "  Downloading querystring_parser-1.2.4-py2.py3-none-any.whl (7.9 kB)\n",
            "Collecting importlib-metadata!=4.7.0,<6,>=3.7.0\n",
            "  Downloading importlib_metadata-5.2.0-py3-none-any.whl (21 kB)\n",
            "Requirement already satisfied: scipy<2 in /usr/local/lib/python3.8/dist-packages (from mlflow) (1.7.3)\n",
            "Requirement already satisfied: scikit-learn<2 in /usr/local/lib/python3.8/dist-packages (from mlflow) (1.0.2)\n",
            "Requirement already satisfied: requests<3,>=2.17.3 in /usr/local/lib/python3.8/dist-packages (from mlflow) (2.25.1)\n",
            "Requirement already satisfied: Jinja2<4,>=2.11 in /usr/local/lib/python3.8/dist-packages (from mlflow) (2.11.3)\n",
            "Requirement already satisfied: matplotlib<4 in /usr/local/lib/python3.8/dist-packages (from mlflow) (3.2.2)\n",
            "Requirement already satisfied: entrypoints<1 in /usr/local/lib/python3.8/dist-packages (from mlflow) (0.4)\n",
            "Requirement already satisfied: cloudpickle<3 in /usr/local/lib/python3.8/dist-packages (from mlflow) (2.2.0)\n",
            "Requirement already satisfied: protobuf<5,>=3.12.0 in /usr/local/lib/python3.8/dist-packages (from mlflow) (3.19.6)\n",
            "Requirement already satisfied: pyarrow<11,>=4.0.0 in /usr/local/lib/python3.8/dist-packages (from mlflow) (9.0.0)\n",
            "Requirement already satisfied: packaging<23 in /usr/local/lib/python3.8/dist-packages (from mlflow) (21.3)\n",
            "Requirement already satisfied: sqlparse<1,>=0.4.0 in /usr/local/lib/python3.8/dist-packages (from mlflow) (0.4.3)\n",
            "Requirement already satisfied: markdown<4,>=3.3 in /usr/local/lib/python3.8/dist-packages (from mlflow) (3.4.1)\n",
            "Collecting alembic<2\n",
            "  Downloading alembic-1.9.2-py3-none-any.whl (210 kB)\n",
            "\u001b[2K     \u001b[90m━━━━━━━━━━━━━━━━━━━━━━━━━━━━━━━━━━━━━━\u001b[0m \u001b[32m210.6/210.6 KB\u001b[0m \u001b[31m11.1 MB/s\u001b[0m eta \u001b[36m0:00:00\u001b[0m\n",
            "\u001b[?25hCollecting databricks-cli<1,>=0.8.7\n",
            "  Downloading databricks-cli-0.17.4.tar.gz (82 kB)\n",
            "\u001b[2K     \u001b[90m━━━━━━━━━━━━━━━━━━━━━━━━━━━━━━━━━━━━━━━━\u001b[0m \u001b[32m82.3/82.3 KB\u001b[0m \u001b[31m6.3 MB/s\u001b[0m eta \u001b[36m0:00:00\u001b[0m\n",
            "\u001b[?25h  Preparing metadata (setup.py) ... \u001b[?25l\u001b[?25hdone\n",
            "Requirement already satisfied: numpy<2 in /usr/local/lib/python3.8/dist-packages (from mlflow) (1.21.6)\n",
            "Collecting shap<1,>=0.40\n",
            "  Downloading shap-0.41.0-cp38-cp38-manylinux_2_12_x86_64.manylinux2010_x86_64.whl (575 kB)\n",
            "\u001b[2K     \u001b[90m━━━━━━━━━━━━━━━━━━━━━━━━━━━━━━━━━━━━━━\u001b[0m \u001b[32m575.9/575.9 KB\u001b[0m \u001b[31m24.9 MB/s\u001b[0m eta \u001b[36m0:00:00\u001b[0m\n",
            "\u001b[?25hRequirement already satisfied: Flask<3 in /usr/local/lib/python3.8/dist-packages (from mlflow) (1.1.4)\n",
            "Requirement already satisfied: pandas<2 in /usr/local/lib/python3.8/dist-packages (from mlflow) (1.3.5)\n",
            "Collecting gunicorn<21\n",
            "  Downloading gunicorn-20.1.0-py3-none-any.whl (79 kB)\n",
            "\u001b[2K     \u001b[90m━━━━━━━━━━━━━━━━━━━━━━━━━━━━━━━━━━━━━━━━\u001b[0m \u001b[32m79.5/79.5 KB\u001b[0m \u001b[31m3.0 MB/s\u001b[0m eta \u001b[36m0:00:00\u001b[0m\n",
            "\u001b[?25hRequirement already satisfied: click<9,>=7.0 in /usr/local/lib/python3.8/dist-packages (from mlflow) (7.1.2)\n",
            "Requirement already satisfied: pytz<2023 in /usr/local/lib/python3.8/dist-packages (from mlflow) (2022.7)\n",
            "Requirement already satisfied: sqlalchemy<2,>=1.4.0 in /usr/local/lib/python3.8/dist-packages (from mlflow) (1.4.46)\n",
            "Collecting gitpython<4,>=2.1.0\n",
            "  Downloading GitPython-3.1.30-py3-none-any.whl (184 kB)\n",
            "\u001b[2K     \u001b[90m━━━━━━━━━━━━━━━━━━━━━━━━━━━━━━━━━━━━━━\u001b[0m \u001b[32m184.0/184.0 KB\u001b[0m \u001b[31m10.5 MB/s\u001b[0m eta \u001b[36m0:00:00\u001b[0m\n",
            "\u001b[?25hCollecting docker<7,>=4.0.0\n",
            "  Downloading docker-6.0.1-py3-none-any.whl (147 kB)\n",
            "\u001b[2K     \u001b[90m━━━━━━━━━━━━━━━━━━━━━━━━━━━━━━━━━━━━━━━\u001b[0m \u001b[32m147.5/147.5 KB\u001b[0m \u001b[31m9.3 MB/s\u001b[0m eta \u001b[36m0:00:00\u001b[0m\n",
            "\u001b[?25hRequirement already satisfied: pyyaml<7,>=5.1 in /usr/local/lib/python3.8/dist-packages (from mlflow) (6.0)\n",
            "Collecting Mako\n",
            "  Downloading Mako-1.2.4-py3-none-any.whl (78 kB)\n",
            "\u001b[2K     \u001b[90m━━━━━━━━━━━━━━━━━━━━━━━━━━━━━━━━━━━━━━━━\u001b[0m \u001b[32m78.7/78.7 KB\u001b[0m \u001b[31m5.0 MB/s\u001b[0m eta \u001b[36m0:00:00\u001b[0m\n",
            "\u001b[?25hRequirement already satisfied: importlib-resources in /usr/local/lib/python3.8/dist-packages (from alembic<2->mlflow) (5.10.2)\n",
            "Collecting pyjwt>=1.7.0\n",
            "  Downloading PyJWT-2.6.0-py3-none-any.whl (20 kB)\n",
            "Requirement already satisfied: oauthlib>=3.1.0 in /usr/local/lib/python3.8/dist-packages (from databricks-cli<1,>=0.8.7->mlflow) (3.2.2)\n",
            "Requirement already satisfied: tabulate>=0.7.7 in /usr/local/lib/python3.8/dist-packages (from databricks-cli<1,>=0.8.7->mlflow) (0.8.10)\n",
            "Requirement already satisfied: six>=1.10.0 in /usr/local/lib/python3.8/dist-packages (from databricks-cli<1,>=0.8.7->mlflow) (1.15.0)\n",
            "Collecting websocket-client>=0.32.0\n",
            "  Downloading websocket_client-1.4.2-py3-none-any.whl (55 kB)\n",
            "\u001b[2K     \u001b[90m━━━━━━━━━━━━━━━━━━━━━━━━━━━━━━━━━━━━━━━━\u001b[0m \u001b[32m55.3/55.3 KB\u001b[0m \u001b[31m2.2 MB/s\u001b[0m eta \u001b[36m0:00:00\u001b[0m\n",
            "\u001b[?25hCollecting requests<3,>=2.17.3\n",
            "  Downloading requests-2.28.2-py3-none-any.whl (62 kB)\n",
            "\u001b[2K     \u001b[90m━━━━━━━━━━━━━━━━━━━━━━━━━━━━━━━━━━━━━━━━\u001b[0m \u001b[32m62.8/62.8 KB\u001b[0m \u001b[31m3.1 MB/s\u001b[0m eta \u001b[36m0:00:00\u001b[0m\n",
            "\u001b[?25hCollecting urllib3>=1.26.0\n",
            "  Downloading urllib3-1.26.14-py2.py3-none-any.whl (140 kB)\n",
            "\u001b[2K     \u001b[90m━━━━━━━━━━━━━━━━━━━━━━━━━━━━━━━━━━━━━━━\u001b[0m \u001b[32m140.6/140.6 KB\u001b[0m \u001b[31m8.1 MB/s\u001b[0m eta \u001b[36m0:00:00\u001b[0m\n",
            "\u001b[?25hRequirement already satisfied: Werkzeug<2.0,>=0.15 in /usr/local/lib/python3.8/dist-packages (from Flask<3->mlflow) (1.0.1)\n",
            "Requirement already satisfied: itsdangerous<2.0,>=0.24 in /usr/local/lib/python3.8/dist-packages (from Flask<3->mlflow) (1.1.0)\n",
            "Collecting gitdb<5,>=4.0.1\n",
            "  Downloading gitdb-4.0.10-py3-none-any.whl (62 kB)\n",
            "\u001b[2K     \u001b[90m━━━━━━━━━━━━━━━━━━━━━━━━━━━━━━━━━━━━━━━━\u001b[0m \u001b[32m62.7/62.7 KB\u001b[0m \u001b[31m3.4 MB/s\u001b[0m eta \u001b[36m0:00:00\u001b[0m\n",
            "\u001b[?25hRequirement already satisfied: setuptools>=3.0 in /usr/local/lib/python3.8/dist-packages (from gunicorn<21->mlflow) (57.4.0)\n",
            "Requirement already satisfied: zipp>=0.5 in /usr/local/lib/python3.8/dist-packages (from importlib-metadata!=4.7.0,<6,>=3.7.0->mlflow) (3.11.0)\n",
            "Requirement already satisfied: MarkupSafe>=0.23 in /usr/local/lib/python3.8/dist-packages (from Jinja2<4,>=2.11->mlflow) (2.0.1)\n",
            "Requirement already satisfied: cycler>=0.10 in /usr/local/lib/python3.8/dist-packages (from matplotlib<4->mlflow) (0.11.0)\n",
            "Requirement already satisfied: kiwisolver>=1.0.1 in /usr/local/lib/python3.8/dist-packages (from matplotlib<4->mlflow) (1.4.4)\n",
            "Requirement already satisfied: pyparsing!=2.0.4,!=2.1.2,!=2.1.6,>=2.0.1 in /usr/local/lib/python3.8/dist-packages (from matplotlib<4->mlflow) (3.0.9)\n",
            "Requirement already satisfied: python-dateutil>=2.1 in /usr/local/lib/python3.8/dist-packages (from matplotlib<4->mlflow) (2.8.2)\n",
            "Requirement already satisfied: charset-normalizer<4,>=2 in /usr/local/lib/python3.8/dist-packages (from requests<3,>=2.17.3->mlflow) (2.1.1)\n",
            "Requirement already satisfied: certifi>=2017.4.17 in /usr/local/lib/python3.8/dist-packages (from requests<3,>=2.17.3->mlflow) (2022.12.7)\n",
            "Requirement already satisfied: idna<4,>=2.5 in /usr/local/lib/python3.8/dist-packages (from requests<3,>=2.17.3->mlflow) (2.10)\n",
            "Requirement already satisfied: threadpoolctl>=2.0.0 in /usr/local/lib/python3.8/dist-packages (from scikit-learn<2->mlflow) (3.1.0)\n",
            "Requirement already satisfied: joblib>=0.11 in /usr/local/lib/python3.8/dist-packages (from scikit-learn<2->mlflow) (1.2.0)\n",
            "Requirement already satisfied: tqdm>4.25.0 in /usr/local/lib/python3.8/dist-packages (from shap<1,>=0.40->mlflow) (4.64.1)\n",
            "Requirement already satisfied: numba in /usr/local/lib/python3.8/dist-packages (from shap<1,>=0.40->mlflow) (0.56.4)\n",
            "Collecting slicer==0.0.7\n",
            "  Downloading slicer-0.0.7-py3-none-any.whl (14 kB)\n",
            "Requirement already satisfied: greenlet!=0.4.17 in /usr/local/lib/python3.8/dist-packages (from sqlalchemy<2,>=1.4.0->mlflow) (2.0.1)\n",
            "Collecting smmap<6,>=3.0.1\n",
            "  Downloading smmap-5.0.0-py3-none-any.whl (24 kB)\n",
            "Requirement already satisfied: llvmlite<0.40,>=0.39.0dev0 in /usr/local/lib/python3.8/dist-packages (from numba->shap<1,>=0.40->mlflow) (0.39.1)\n",
            "Building wheels for collected packages: databricks-cli\n",
            "  Building wheel for databricks-cli (setup.py) ... \u001b[?25l\u001b[?25hdone\n",
            "  Created wheel for databricks-cli: filename=databricks_cli-0.17.4-py3-none-any.whl size=142894 sha256=ccdcb1080180ea282daf99a54c2b2bb0d8078af8c175dc8f35cc2a52a6179da0\n",
            "  Stored in directory: /root/.cache/pip/wheels/48/7c/6e/4bf2c1748c7ecf994ca951591de81674ed6bf633e1e337d873\n",
            "Successfully built databricks-cli\n",
            "Installing collected packages: websocket-client, urllib3, smmap, slicer, querystring-parser, pyjwt, Mako, importlib-metadata, gunicorn, requests, gitdb, alembic, shap, gitpython, docker, databricks-cli, mlflow\n",
            "  Attempting uninstall: urllib3\n",
            "    Found existing installation: urllib3 1.24.3\n",
            "    Uninstalling urllib3-1.24.3:\n",
            "      Successfully uninstalled urllib3-1.24.3\n",
            "  Attempting uninstall: importlib-metadata\n",
            "    Found existing installation: importlib-metadata 6.0.0\n",
            "    Uninstalling importlib-metadata-6.0.0:\n",
            "      Successfully uninstalled importlib-metadata-6.0.0\n",
            "  Attempting uninstall: requests\n",
            "    Found existing installation: requests 2.25.1\n",
            "    Uninstalling requests-2.25.1:\n",
            "      Successfully uninstalled requests-2.25.1\n",
            "Successfully installed Mako-1.2.4 alembic-1.9.2 databricks-cli-0.17.4 docker-6.0.1 gitdb-4.0.10 gitpython-3.1.30 gunicorn-20.1.0 importlib-metadata-5.2.0 mlflow-2.1.1 pyjwt-2.6.0 querystring-parser-1.2.4 requests-2.28.2 shap-0.41.0 slicer-0.0.7 smmap-5.0.0 urllib3-1.26.14 websocket-client-1.4.2\n"
          ]
        }
      ],
      "source": [
        "pip install mlflow"
      ]
    },
    {
      "cell_type": "code",
      "source": [
        "from sklearn import datasets\n",
        "from sklearn.model_selection import train_test_split"
      ],
      "metadata": {
        "id": "USGjODSTHDWC"
      },
      "execution_count": 2,
      "outputs": []
    },
    {
      "cell_type": "code",
      "source": [
        "dataset = datasets.load_iris()\n",
        "dataset"
      ],
      "metadata": {
        "colab": {
          "base_uri": "https://localhost:8080/"
        },
        "id": "uXesyPTCIlj2",
        "outputId": "c9474c80-ad25-4695-9f43-bdd3b103e8a1"
      },
      "execution_count": 3,
      "outputs": [
        {
          "output_type": "execute_result",
          "data": {
            "text/plain": [
              "{'data': array([[5.1, 3.5, 1.4, 0.2],\n",
              "        [4.9, 3. , 1.4, 0.2],\n",
              "        [4.7, 3.2, 1.3, 0.2],\n",
              "        [4.6, 3.1, 1.5, 0.2],\n",
              "        [5. , 3.6, 1.4, 0.2],\n",
              "        [5.4, 3.9, 1.7, 0.4],\n",
              "        [4.6, 3.4, 1.4, 0.3],\n",
              "        [5. , 3.4, 1.5, 0.2],\n",
              "        [4.4, 2.9, 1.4, 0.2],\n",
              "        [4.9, 3.1, 1.5, 0.1],\n",
              "        [5.4, 3.7, 1.5, 0.2],\n",
              "        [4.8, 3.4, 1.6, 0.2],\n",
              "        [4.8, 3. , 1.4, 0.1],\n",
              "        [4.3, 3. , 1.1, 0.1],\n",
              "        [5.8, 4. , 1.2, 0.2],\n",
              "        [5.7, 4.4, 1.5, 0.4],\n",
              "        [5.4, 3.9, 1.3, 0.4],\n",
              "        [5.1, 3.5, 1.4, 0.3],\n",
              "        [5.7, 3.8, 1.7, 0.3],\n",
              "        [5.1, 3.8, 1.5, 0.3],\n",
              "        [5.4, 3.4, 1.7, 0.2],\n",
              "        [5.1, 3.7, 1.5, 0.4],\n",
              "        [4.6, 3.6, 1. , 0.2],\n",
              "        [5.1, 3.3, 1.7, 0.5],\n",
              "        [4.8, 3.4, 1.9, 0.2],\n",
              "        [5. , 3. , 1.6, 0.2],\n",
              "        [5. , 3.4, 1.6, 0.4],\n",
              "        [5.2, 3.5, 1.5, 0.2],\n",
              "        [5.2, 3.4, 1.4, 0.2],\n",
              "        [4.7, 3.2, 1.6, 0.2],\n",
              "        [4.8, 3.1, 1.6, 0.2],\n",
              "        [5.4, 3.4, 1.5, 0.4],\n",
              "        [5.2, 4.1, 1.5, 0.1],\n",
              "        [5.5, 4.2, 1.4, 0.2],\n",
              "        [4.9, 3.1, 1.5, 0.2],\n",
              "        [5. , 3.2, 1.2, 0.2],\n",
              "        [5.5, 3.5, 1.3, 0.2],\n",
              "        [4.9, 3.6, 1.4, 0.1],\n",
              "        [4.4, 3. , 1.3, 0.2],\n",
              "        [5.1, 3.4, 1.5, 0.2],\n",
              "        [5. , 3.5, 1.3, 0.3],\n",
              "        [4.5, 2.3, 1.3, 0.3],\n",
              "        [4.4, 3.2, 1.3, 0.2],\n",
              "        [5. , 3.5, 1.6, 0.6],\n",
              "        [5.1, 3.8, 1.9, 0.4],\n",
              "        [4.8, 3. , 1.4, 0.3],\n",
              "        [5.1, 3.8, 1.6, 0.2],\n",
              "        [4.6, 3.2, 1.4, 0.2],\n",
              "        [5.3, 3.7, 1.5, 0.2],\n",
              "        [5. , 3.3, 1.4, 0.2],\n",
              "        [7. , 3.2, 4.7, 1.4],\n",
              "        [6.4, 3.2, 4.5, 1.5],\n",
              "        [6.9, 3.1, 4.9, 1.5],\n",
              "        [5.5, 2.3, 4. , 1.3],\n",
              "        [6.5, 2.8, 4.6, 1.5],\n",
              "        [5.7, 2.8, 4.5, 1.3],\n",
              "        [6.3, 3.3, 4.7, 1.6],\n",
              "        [4.9, 2.4, 3.3, 1. ],\n",
              "        [6.6, 2.9, 4.6, 1.3],\n",
              "        [5.2, 2.7, 3.9, 1.4],\n",
              "        [5. , 2. , 3.5, 1. ],\n",
              "        [5.9, 3. , 4.2, 1.5],\n",
              "        [6. , 2.2, 4. , 1. ],\n",
              "        [6.1, 2.9, 4.7, 1.4],\n",
              "        [5.6, 2.9, 3.6, 1.3],\n",
              "        [6.7, 3.1, 4.4, 1.4],\n",
              "        [5.6, 3. , 4.5, 1.5],\n",
              "        [5.8, 2.7, 4.1, 1. ],\n",
              "        [6.2, 2.2, 4.5, 1.5],\n",
              "        [5.6, 2.5, 3.9, 1.1],\n",
              "        [5.9, 3.2, 4.8, 1.8],\n",
              "        [6.1, 2.8, 4. , 1.3],\n",
              "        [6.3, 2.5, 4.9, 1.5],\n",
              "        [6.1, 2.8, 4.7, 1.2],\n",
              "        [6.4, 2.9, 4.3, 1.3],\n",
              "        [6.6, 3. , 4.4, 1.4],\n",
              "        [6.8, 2.8, 4.8, 1.4],\n",
              "        [6.7, 3. , 5. , 1.7],\n",
              "        [6. , 2.9, 4.5, 1.5],\n",
              "        [5.7, 2.6, 3.5, 1. ],\n",
              "        [5.5, 2.4, 3.8, 1.1],\n",
              "        [5.5, 2.4, 3.7, 1. ],\n",
              "        [5.8, 2.7, 3.9, 1.2],\n",
              "        [6. , 2.7, 5.1, 1.6],\n",
              "        [5.4, 3. , 4.5, 1.5],\n",
              "        [6. , 3.4, 4.5, 1.6],\n",
              "        [6.7, 3.1, 4.7, 1.5],\n",
              "        [6.3, 2.3, 4.4, 1.3],\n",
              "        [5.6, 3. , 4.1, 1.3],\n",
              "        [5.5, 2.5, 4. , 1.3],\n",
              "        [5.5, 2.6, 4.4, 1.2],\n",
              "        [6.1, 3. , 4.6, 1.4],\n",
              "        [5.8, 2.6, 4. , 1.2],\n",
              "        [5. , 2.3, 3.3, 1. ],\n",
              "        [5.6, 2.7, 4.2, 1.3],\n",
              "        [5.7, 3. , 4.2, 1.2],\n",
              "        [5.7, 2.9, 4.2, 1.3],\n",
              "        [6.2, 2.9, 4.3, 1.3],\n",
              "        [5.1, 2.5, 3. , 1.1],\n",
              "        [5.7, 2.8, 4.1, 1.3],\n",
              "        [6.3, 3.3, 6. , 2.5],\n",
              "        [5.8, 2.7, 5.1, 1.9],\n",
              "        [7.1, 3. , 5.9, 2.1],\n",
              "        [6.3, 2.9, 5.6, 1.8],\n",
              "        [6.5, 3. , 5.8, 2.2],\n",
              "        [7.6, 3. , 6.6, 2.1],\n",
              "        [4.9, 2.5, 4.5, 1.7],\n",
              "        [7.3, 2.9, 6.3, 1.8],\n",
              "        [6.7, 2.5, 5.8, 1.8],\n",
              "        [7.2, 3.6, 6.1, 2.5],\n",
              "        [6.5, 3.2, 5.1, 2. ],\n",
              "        [6.4, 2.7, 5.3, 1.9],\n",
              "        [6.8, 3. , 5.5, 2.1],\n",
              "        [5.7, 2.5, 5. , 2. ],\n",
              "        [5.8, 2.8, 5.1, 2.4],\n",
              "        [6.4, 3.2, 5.3, 2.3],\n",
              "        [6.5, 3. , 5.5, 1.8],\n",
              "        [7.7, 3.8, 6.7, 2.2],\n",
              "        [7.7, 2.6, 6.9, 2.3],\n",
              "        [6. , 2.2, 5. , 1.5],\n",
              "        [6.9, 3.2, 5.7, 2.3],\n",
              "        [5.6, 2.8, 4.9, 2. ],\n",
              "        [7.7, 2.8, 6.7, 2. ],\n",
              "        [6.3, 2.7, 4.9, 1.8],\n",
              "        [6.7, 3.3, 5.7, 2.1],\n",
              "        [7.2, 3.2, 6. , 1.8],\n",
              "        [6.2, 2.8, 4.8, 1.8],\n",
              "        [6.1, 3. , 4.9, 1.8],\n",
              "        [6.4, 2.8, 5.6, 2.1],\n",
              "        [7.2, 3. , 5.8, 1.6],\n",
              "        [7.4, 2.8, 6.1, 1.9],\n",
              "        [7.9, 3.8, 6.4, 2. ],\n",
              "        [6.4, 2.8, 5.6, 2.2],\n",
              "        [6.3, 2.8, 5.1, 1.5],\n",
              "        [6.1, 2.6, 5.6, 1.4],\n",
              "        [7.7, 3. , 6.1, 2.3],\n",
              "        [6.3, 3.4, 5.6, 2.4],\n",
              "        [6.4, 3.1, 5.5, 1.8],\n",
              "        [6. , 3. , 4.8, 1.8],\n",
              "        [6.9, 3.1, 5.4, 2.1],\n",
              "        [6.7, 3.1, 5.6, 2.4],\n",
              "        [6.9, 3.1, 5.1, 2.3],\n",
              "        [5.8, 2.7, 5.1, 1.9],\n",
              "        [6.8, 3.2, 5.9, 2.3],\n",
              "        [6.7, 3.3, 5.7, 2.5],\n",
              "        [6.7, 3. , 5.2, 2.3],\n",
              "        [6.3, 2.5, 5. , 1.9],\n",
              "        [6.5, 3. , 5.2, 2. ],\n",
              "        [6.2, 3.4, 5.4, 2.3],\n",
              "        [5.9, 3. , 5.1, 1.8]]),\n",
              " 'target': array([0, 0, 0, 0, 0, 0, 0, 0, 0, 0, 0, 0, 0, 0, 0, 0, 0, 0, 0, 0, 0, 0,\n",
              "        0, 0, 0, 0, 0, 0, 0, 0, 0, 0, 0, 0, 0, 0, 0, 0, 0, 0, 0, 0, 0, 0,\n",
              "        0, 0, 0, 0, 0, 0, 1, 1, 1, 1, 1, 1, 1, 1, 1, 1, 1, 1, 1, 1, 1, 1,\n",
              "        1, 1, 1, 1, 1, 1, 1, 1, 1, 1, 1, 1, 1, 1, 1, 1, 1, 1, 1, 1, 1, 1,\n",
              "        1, 1, 1, 1, 1, 1, 1, 1, 1, 1, 1, 1, 2, 2, 2, 2, 2, 2, 2, 2, 2, 2,\n",
              "        2, 2, 2, 2, 2, 2, 2, 2, 2, 2, 2, 2, 2, 2, 2, 2, 2, 2, 2, 2, 2, 2,\n",
              "        2, 2, 2, 2, 2, 2, 2, 2, 2, 2, 2, 2, 2, 2, 2, 2, 2, 2]),\n",
              " 'frame': None,\n",
              " 'target_names': array(['setosa', 'versicolor', 'virginica'], dtype='<U10'),\n",
              " 'DESCR': '.. _iris_dataset:\\n\\nIris plants dataset\\n--------------------\\n\\n**Data Set Characteristics:**\\n\\n    :Number of Instances: 150 (50 in each of three classes)\\n    :Number of Attributes: 4 numeric, predictive attributes and the class\\n    :Attribute Information:\\n        - sepal length in cm\\n        - sepal width in cm\\n        - petal length in cm\\n        - petal width in cm\\n        - class:\\n                - Iris-Setosa\\n                - Iris-Versicolour\\n                - Iris-Virginica\\n                \\n    :Summary Statistics:\\n\\n    ============== ==== ==== ======= ===== ====================\\n                    Min  Max   Mean    SD   Class Correlation\\n    ============== ==== ==== ======= ===== ====================\\n    sepal length:   4.3  7.9   5.84   0.83    0.7826\\n    sepal width:    2.0  4.4   3.05   0.43   -0.4194\\n    petal length:   1.0  6.9   3.76   1.76    0.9490  (high!)\\n    petal width:    0.1  2.5   1.20   0.76    0.9565  (high!)\\n    ============== ==== ==== ======= ===== ====================\\n\\n    :Missing Attribute Values: None\\n    :Class Distribution: 33.3% for each of 3 classes.\\n    :Creator: R.A. Fisher\\n    :Donor: Michael Marshall (MARSHALL%PLU@io.arc.nasa.gov)\\n    :Date: July, 1988\\n\\nThe famous Iris database, first used by Sir R.A. Fisher. The dataset is taken\\nfrom Fisher\\'s paper. Note that it\\'s the same as in R, but not as in the UCI\\nMachine Learning Repository, which has two wrong data points.\\n\\nThis is perhaps the best known database to be found in the\\npattern recognition literature.  Fisher\\'s paper is a classic in the field and\\nis referenced frequently to this day.  (See Duda & Hart, for example.)  The\\ndata set contains 3 classes of 50 instances each, where each class refers to a\\ntype of iris plant.  One class is linearly separable from the other 2; the\\nlatter are NOT linearly separable from each other.\\n\\n.. topic:: References\\n\\n   - Fisher, R.A. \"The use of multiple measurements in taxonomic problems\"\\n     Annual Eugenics, 7, Part II, 179-188 (1936); also in \"Contributions to\\n     Mathematical Statistics\" (John Wiley, NY, 1950).\\n   - Duda, R.O., & Hart, P.E. (1973) Pattern Classification and Scene Analysis.\\n     (Q327.D83) John Wiley & Sons.  ISBN 0-471-22361-1.  See page 218.\\n   - Dasarathy, B.V. (1980) \"Nosing Around the Neighborhood: A New System\\n     Structure and Classification Rule for Recognition in Partially Exposed\\n     Environments\".  IEEE Transactions on Pattern Analysis and Machine\\n     Intelligence, Vol. PAMI-2, No. 1, 67-71.\\n   - Gates, G.W. (1972) \"The Reduced Nearest Neighbor Rule\".  IEEE Transactions\\n     on Information Theory, May 1972, 431-433.\\n   - See also: 1988 MLC Proceedings, 54-64.  Cheeseman et al\"s AUTOCLASS II\\n     conceptual clustering system finds 3 classes in the data.\\n   - Many, many more ...',\n",
              " 'feature_names': ['sepal length (cm)',\n",
              "  'sepal width (cm)',\n",
              "  'petal length (cm)',\n",
              "  'petal width (cm)'],\n",
              " 'filename': 'iris.csv',\n",
              " 'data_module': 'sklearn.datasets.data'}"
            ]
          },
          "metadata": {},
          "execution_count": 3
        }
      ]
    },
    {
      "cell_type": "code",
      "source": [
        "seed = 123\n",
        "X_train, X_test, y_train, y_test = train_test_split(\n",
        "    dataset.data,\n",
        "    dataset.target,\n",
        "    test_size = 0.2,\n",
        "    random_state = seed\n",
        ")\n",
        "X_train.shape"
      ],
      "metadata": {
        "colab": {
          "base_uri": "https://localhost:8080/"
        },
        "id": "3O9cbEt6IxCp",
        "outputId": "11e977d7-507d-407b-f39c-a435b8bec626"
      },
      "execution_count": 5,
      "outputs": [
        {
          "output_type": "execute_result",
          "data": {
            "text/plain": [
              "(120, 4)"
            ]
          },
          "metadata": {},
          "execution_count": 5
        }
      ]
    },
    {
      "cell_type": "code",
      "source": [
        "y_train.shape"
      ],
      "metadata": {
        "colab": {
          "base_uri": "https://localhost:8080/"
        },
        "id": "YYpzZz-AJmFC",
        "outputId": "5edaa033-1180-4301-ef40-8fa70aaf144b"
      },
      "execution_count": 6,
      "outputs": [
        {
          "output_type": "execute_result",
          "data": {
            "text/plain": [
              "(120,)"
            ]
          },
          "metadata": {},
          "execution_count": 6
        }
      ]
    },
    {
      "cell_type": "code",
      "source": [
        "X_test.shape"
      ],
      "metadata": {
        "colab": {
          "base_uri": "https://localhost:8080/"
        },
        "id": "kzyQBhrQJvJj",
        "outputId": "33d59260-b3ff-46b9-be93-dc0019df4a7c"
      },
      "execution_count": 7,
      "outputs": [
        {
          "output_type": "execute_result",
          "data": {
            "text/plain": [
              "(30, 4)"
            ]
          },
          "metadata": {},
          "execution_count": 7
        }
      ]
    },
    {
      "cell_type": "code",
      "source": [
        "y_test.shape"
      ],
      "metadata": {
        "colab": {
          "base_uri": "https://localhost:8080/"
        },
        "id": "BSN3cyphJxl3",
        "outputId": "520dc96d-22ca-476c-8950-2ff4b4d88cf3"
      },
      "execution_count": 8,
      "outputs": [
        {
          "output_type": "execute_result",
          "data": {
            "text/plain": [
              "(30,)"
            ]
          },
          "metadata": {},
          "execution_count": 8
        }
      ]
    },
    {
      "cell_type": "code",
      "source": [
        "# Premier Run\n",
        "from sklearn.linear_model import LogisticRegression\n",
        "import mlflow\n",
        "\n",
        "mlflow.set_experiment(\"Reg_Logistic_Models\")\n",
        "mlflow.sklearn.autolog()\n",
        "\n",
        "with mlflow.start_run(run_name = 'reg_logistic_defaut'):\n",
        "  clf = LogisticRegression()\n",
        "  clf.fit(X_train, y_train)"
      ],
      "metadata": {
        "colab": {
          "base_uri": "https://localhost:8080/"
        },
        "id": "0NtVY82WJ0ET",
        "outputId": "c3c38881-4b79-4011-edb0-e906566df21c"
      },
      "execution_count": 15,
      "outputs": [
        {
          "output_type": "stream",
          "name": "stderr",
          "text": [
            "2023/01/18 09:30:35 INFO mlflow.tracking.fluent: Experiment with name 'Reg_Logistic_Models' does not exist. Creating a new experiment.\n",
            "/usr/local/lib/python3.8/dist-packages/sklearn/linear_model/_logistic.py:814: ConvergenceWarning: lbfgs failed to converge (status=1):\n",
            "STOP: TOTAL NO. of ITERATIONS REACHED LIMIT.\n",
            "\n",
            "Increase the number of iterations (max_iter) or scale the data as shown in:\n",
            "    https://scikit-learn.org/stable/modules/preprocessing.html\n",
            "Please also refer to the documentation for alternative solver options:\n",
            "    https://scikit-learn.org/stable/modules/linear_model.html#logistic-regression\n",
            "  n_iter_i = _check_optimize_result(\n"
          ]
        }
      ]
    },
    {
      "cell_type": "code",
      "source": [
        "# Deuxième Run\n",
        "with mlflow.start_run(run_name = 'reg_logistic_max_iter200'):\n",
        "  clf2 = LogisticRegression(max_iter = 200)\n",
        "  clf2.fit(X_train, y_train)"
      ],
      "metadata": {
        "id": "6hFd79S7LSCx"
      },
      "execution_count": 16,
      "outputs": []
    },
    {
      "cell_type": "code",
      "source": [
        "# Premier run\n",
        "mlflow.set_experiment(\"Decision_Tree_Models\")\n",
        "mlflow.sklearn.autolog()\n",
        "\n",
        "from sklearn.tree import DecisionTreeClassifier\n",
        "with mlflow.start_run(run_name='decision_tree_defaut'):\n",
        "  dt = DecisionTreeClassifier(random_state = seed)\n",
        "  dt.fit(X_train, y_train)"
      ],
      "metadata": {
        "colab": {
          "base_uri": "https://localhost:8080/"
        },
        "id": "buI2GrUTUAgp",
        "outputId": "b4e90df0-5411-481a-c5d7-1d38806e7a5d"
      },
      "execution_count": 22,
      "outputs": [
        {
          "output_type": "stream",
          "name": "stderr",
          "text": [
            "2023/01/18 10:00:38 INFO mlflow.tracking.fluent: Experiment with name 'Decision_Tree_Models' does not exist. Creating a new experiment.\n"
          ]
        }
      ]
    },
    {
      "cell_type": "code",
      "source": [
        "# Deuxième run\n",
        "with mlflow.start_run(run_name='decision_tree_max_depth3'):\n",
        "  dt2 = DecisionTreeClassifier(random_state = seed, max_depth=3)\n",
        "  dt2.fit(X_train, y_train)"
      ],
      "metadata": {
        "id": "xwkD0KWeUvPh"
      },
      "execution_count": 24,
      "outputs": []
    },
    {
      "cell_type": "code",
      "source": [
        "pip install pyngrok"
      ],
      "metadata": {
        "colab": {
          "base_uri": "https://localhost:8080/"
        },
        "id": "HHmX5ANxOUXl",
        "outputId": "ca40138d-9993-4ca2-912d-13ed08ffd078"
      },
      "execution_count": 17,
      "outputs": [
        {
          "output_type": "stream",
          "name": "stdout",
          "text": [
            "Looking in indexes: https://pypi.org/simple, https://us-python.pkg.dev/colab-wheels/public/simple/\n",
            "Collecting pyngrok\n",
            "  Downloading pyngrok-5.2.1.tar.gz (761 kB)\n",
            "\u001b[2K     \u001b[90m━━━━━━━━━━━━━━━━━━━━━━━━━━━━━━━━━━━━━━\u001b[0m \u001b[32m761.3/761.3 KB\u001b[0m \u001b[31m15.5 MB/s\u001b[0m eta \u001b[36m0:00:00\u001b[0m\n",
            "\u001b[?25h  Preparing metadata (setup.py) ... \u001b[?25l\u001b[?25hdone\n",
            "Requirement already satisfied: PyYAML in /usr/local/lib/python3.8/dist-packages (from pyngrok) (6.0)\n",
            "Building wheels for collected packages: pyngrok\n",
            "  Building wheel for pyngrok (setup.py) ... \u001b[?25l\u001b[?25hdone\n",
            "  Created wheel for pyngrok: filename=pyngrok-5.2.1-py3-none-any.whl size=19792 sha256=cd0d077a19b88b22fc105355415f0de1d61ea1bcfd687f26418e49bf0e70e4e0\n",
            "  Stored in directory: /root/.cache/pip/wheels/5d/f2/70/526da675d32f17577ec47ac4c663084efe39d47c826b6c3bb1\n",
            "Successfully built pyngrok\n",
            "Installing collected packages: pyngrok\n",
            "Successfully installed pyngrok-5.2.1\n"
          ]
        }
      ]
    },
    {
      "cell_type": "code",
      "source": [
        "from pyngrok import ngrok\n",
        "\n",
        "# terminate open tunnels if exist\n",
        "ngrok.kill()\n",
        "\n",
        "# Setting the authtoken (optionnal)\n",
        "# Get your authtoken from https://dashboard.ngrok.com/get-started/your-authtoken\n",
        "NGROK_AUTH_TOKEN = \"2KUcNLEZkaUJnxbSKKkDXLnprFX_6JH8Re6QnGXJUU2VGzpgC\"\n",
        "ngrok.set_auth_token(NGROK_AUTH_TOKEN)\n",
        "\n",
        "# Open an HTTPs tunnel on port 5000 for https://localhost:5000\n",
        "ngrok_tunnel = ngrok.connect(addr=\"5000\", proto=\"http\", bind_tls=True)\n",
        "print(\"MLFlow Tracking UI:\", ngrok_tunnel.public_url)"
      ],
      "metadata": {
        "colab": {
          "base_uri": "https://localhost:8080/"
        },
        "id": "aPLC-YmHOhCv",
        "outputId": "c6dbb2b8-9ab5-4ec4-d370-1e69e5adc59a"
      },
      "execution_count": 25,
      "outputs": [
        {
          "output_type": "stream",
          "name": "stdout",
          "text": [
            "MLFlow Tracking UI: https://6329-35-247-68-115.ngrok.io\n"
          ]
        }
      ]
    },
    {
      "cell_type": "code",
      "source": [
        "!mlflow ui"
      ],
      "metadata": {
        "colab": {
          "base_uri": "https://localhost:8080/"
        },
        "id": "sV8OH8mTP9zN",
        "outputId": "25b76fc2-2505-4203-b366-4bdd9dfd100c"
      },
      "execution_count": 26,
      "outputs": [
        {
          "output_type": "stream",
          "name": "stdout",
          "text": [
            "[2023-01-18 10:02:40 +0000] [15595] [INFO] Starting gunicorn 20.1.0\n",
            "[2023-01-18 10:02:40 +0000] [15595] [INFO] Listening at: http://127.0.0.1:5000 (15595)\n",
            "[2023-01-18 10:02:40 +0000] [15595] [INFO] Using worker: sync\n",
            "[2023-01-18 10:02:40 +0000] [15599] [INFO] Booting worker with pid: 15599\n",
            "[2023-01-18 10:02:40 +0000] [15604] [INFO] Booting worker with pid: 15604\n",
            "[2023-01-18 10:02:40 +0000] [15605] [INFO] Booting worker with pid: 15605\n",
            "[2023-01-18 10:02:40 +0000] [15606] [INFO] Booting worker with pid: 15606\n",
            "[2023-01-18 10:08:20 +0000] [15595] [INFO] Handling signal: int\n",
            "\n",
            "Aborted!\n",
            "[2023-01-18 10:08:20 +0000] [15604] [INFO] Worker exiting (pid: 15604)\n",
            "[2023-01-18 10:08:20 +0000] [15599] [INFO] Worker exiting (pid: 15599)\n",
            "[2023-01-18 10:08:20 +0000] [15605] [INFO] Worker exiting (pid: 15605)\n",
            "[2023-01-18 10:08:20 +0000] [15606] [INFO] Worker exiting (pid: 15606)\n",
            "[2023-01-18 10:08:21 +0000] [15595] [INFO] Shutting down: Master\n"
          ]
        }
      ]
    },
    {
      "cell_type": "code",
      "source": [
        "import numpy as np\n",
        "new_data = np.array([[5.5, 3.8, 4.6, 1.9]])\n",
        "new_data"
      ],
      "metadata": {
        "colab": {
          "base_uri": "https://localhost:8080/"
        },
        "id": "d5jeKD-QS-03",
        "outputId": "3f2ac232-0535-4f77-a24a-4630fe0816e4"
      },
      "execution_count": 20,
      "outputs": [
        {
          "output_type": "execute_result",
          "data": {
            "text/plain": [
              "array([[5.5, 3.8, 4.6, 1.9]])"
            ]
          },
          "metadata": {},
          "execution_count": 20
        }
      ]
    },
    {
      "cell_type": "code",
      "source": [
        "import mlflow\n",
        "logged_model = 'runs:/6d80da8230b24b059f9cf1f2ef9b3207/model'\n",
        "\n",
        "# Load model as a PyFuncModel.\n",
        "loaded_model = mlflow.pyfunc.load_model(logged_model)\n",
        "\n",
        "# Predict on a Pandas DataFrame.\n",
        "import pandas as pd\n",
        "prediction = loaded_model.predict(pd.DataFrame(new_data))\n",
        "prediction"
      ],
      "metadata": {
        "colab": {
          "base_uri": "https://localhost:8080/"
        },
        "id": "dGz68_3nQN6d",
        "outputId": "be78d381-e71e-448e-e475-6ff9382332b3"
      },
      "execution_count": 27,
      "outputs": [
        {
          "output_type": "execute_result",
          "data": {
            "text/plain": [
              "array([1])"
            ]
          },
          "metadata": {},
          "execution_count": 27
        }
      ]
    },
    {
      "cell_type": "code",
      "source": [],
      "metadata": {
        "id": "BKICJ8vXToU8"
      },
      "execution_count": null,
      "outputs": []
    },
    {
      "cell_type": "markdown",
      "source": [
        "![image.png](data:image/png;base64,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)"
      ],
      "metadata": {
        "id": "XsdNaEx3WrWz"
      }
    },
    {
      "cell_type": "code",
      "source": [],
      "metadata": {
        "id": "-QGtpt26Wtjv"
      },
      "execution_count": null,
      "outputs": []
    }
  ]
}