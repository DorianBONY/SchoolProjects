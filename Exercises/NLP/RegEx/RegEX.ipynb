{
 "cells": [
  {
   "cell_type": "code",
   "execution_count": 13,
   "id": "797df63a",
   "metadata": {},
   "outputs": [
    {
     "name": "stdout",
     "output_type": "stream",
     "text": [
      "OK\n"
     ]
    }
   ],
   "source": [
    "import re\n",
    "animaux = \"girafe tigre singe\"\n",
    "re.search(\"tigre\", animaux)\n",
    "if re.search(\"tigre\", animaux):\n",
    "     print(\"OK\")"
   ]
  },
  {
   "cell_type": "code",
   "execution_count": 7,
   "id": "76133773",
   "metadata": {},
   "outputs": [
    {
     "data": {
      "text/plain": [
       "<re.Match object; span=(0, 5), match='tigre'>"
      ]
     },
     "execution_count": 7,
     "metadata": {},
     "output_type": "execute_result"
    }
   ],
   "source": [
    "animaux = \"tigre singe\"\n",
    "re.match(\"tigre\", animaux)"
   ]
  },
  {
   "cell_type": "code",
   "execution_count": 9,
   "id": "fbce6ffd",
   "metadata": {},
   "outputs": [
    {
     "data": {
      "text/plain": [
       "<re.Match object; span=(0, 5), match='tigre'>"
      ]
     },
     "execution_count": 9,
     "metadata": {},
     "output_type": "execute_result"
    }
   ],
   "source": [
    "animaux = \"tigre\"\n",
    "re.fullmatch(\"tigre\", animaux)"
   ]
  },
  {
   "cell_type": "code",
   "execution_count": 14,
   "id": "8ee68149",
   "metadata": {},
   "outputs": [
    {
     "data": {
      "text/plain": [
       "re.compile(r'^tigre', re.UNICODE)"
      ]
     },
     "execution_count": 14,
     "metadata": {},
     "output_type": "execute_result"
    }
   ],
   "source": [
    "regex = re.compile(\"^tigre\")\n",
    "regex"
   ]
  },
  {
   "cell_type": "code",
   "execution_count": 15,
   "id": "5f27e58a",
   "metadata": {},
   "outputs": [
    {
     "data": {
      "text/plain": [
       "<re.Match object; span=(0, 5), match='tigre'>"
      ]
     },
     "execution_count": 15,
     "metadata": {},
     "output_type": "execute_result"
    }
   ],
   "source": [
    "animaux = \"girafe tigre singe\"\n",
    "regex.search(animaux)\n",
    "animaux = \"tigre singe\"\n",
    "regex.search(animaux)"
   ]
  },
  {
   "cell_type": "code",
   "execution_count": 16,
   "id": "74bf40fb",
   "metadata": {},
   "outputs": [],
   "source": [
    "animaux = \"singe tigre\"\n",
    "regex.search(animaux)"
   ]
  },
  {
   "cell_type": "code",
   "execution_count": 17,
   "id": "65e9735a",
   "metadata": {},
   "outputs": [],
   "source": [
    "regex = re.compile(\"([0-9]+)\\.([0-9]+)\")"
   ]
  },
  {
   "cell_type": "code",
   "execution_count": 18,
   "id": "0139d8a5",
   "metadata": {},
   "outputs": [
    {
     "data": {
      "text/plain": [
       "'3.14'"
      ]
     },
     "execution_count": 18,
     "metadata": {},
     "output_type": "execute_result"
    }
   ],
   "source": [
    "resultat = regex.search(\"pi vaut 3.14\")\n",
    "resultat.group(0)"
   ]
  },
  {
   "cell_type": "code",
   "execution_count": 19,
   "id": "d60d4e9c",
   "metadata": {},
   "outputs": [
    {
     "data": {
      "text/plain": [
       "'3'"
      ]
     },
     "execution_count": 19,
     "metadata": {},
     "output_type": "execute_result"
    }
   ],
   "source": [
    "resultat.group(1)"
   ]
  },
  {
   "cell_type": "code",
   "execution_count": 20,
   "id": "a33925be",
   "metadata": {},
   "outputs": [
    {
     "data": {
      "text/plain": [
       "'14'"
      ]
     },
     "execution_count": 20,
     "metadata": {},
     "output_type": "execute_result"
    }
   ],
   "source": [
    "resultat.group(2)"
   ]
  },
  {
   "cell_type": "code",
   "execution_count": 21,
   "id": "4a378792",
   "metadata": {},
   "outputs": [
    {
     "data": {
      "text/plain": [
       "8"
      ]
     },
     "execution_count": 21,
     "metadata": {},
     "output_type": "execute_result"
    }
   ],
   "source": [
    "resultat.start()"
   ]
  },
  {
   "cell_type": "code",
   "execution_count": 22,
   "id": "ba3d3c38",
   "metadata": {},
   "outputs": [
    {
     "data": {
      "text/plain": [
       "12"
      ]
     },
     "execution_count": 22,
     "metadata": {},
     "output_type": "execute_result"
    }
   ],
   "source": [
    "resultat.end()"
   ]
  },
  {
   "cell_type": "code",
   "execution_count": 24,
   "id": "9b15d43f",
   "metadata": {},
   "outputs": [
    {
     "data": {
      "text/plain": [
       "'3.14'"
      ]
     },
     "execution_count": 24,
     "metadata": {},
     "output_type": "execute_result"
    }
   ],
   "source": [
    "resultat = regex.search(\"pi vaut 3.14 et e vaut 2.72\")\n",
    "resultat.group(0)"
   ]
  },
  {
   "cell_type": "code",
   "execution_count": 26,
   "id": "85e5726d",
   "metadata": {},
   "outputs": [
    {
     "data": {
      "text/plain": [
       "[('3', '14'), ('2', '72')]"
      ]
     },
     "execution_count": 26,
     "metadata": {},
     "output_type": "execute_result"
    }
   ],
   "source": [
    "resultat = regex.findall(\"pi vaut 3.14 et e vaut 2.72\")\n",
    "resultat"
   ]
  },
  {
   "cell_type": "code",
   "execution_count": 29,
   "id": "71b18e28",
   "metadata": {},
   "outputs": [
    {
     "data": {
      "text/plain": [
       "'pi vaut quelque chose et e vaut quelque chose'"
      ]
     },
     "execution_count": 29,
     "metadata": {},
     "output_type": "execute_result"
    }
   ],
   "source": [
    "regex = re.compile(\"[0-9]+\\.[0-9]+\")\n",
    "regex.sub(\"quelque chose\", \"pi vaut 3.14 et e vaut 2.72\")"
   ]
  },
  {
   "cell_type": "code",
   "execution_count": 30,
   "id": "a606770b",
   "metadata": {},
   "outputs": [
    {
     "data": {
      "text/plain": [
       "'pi vaut quelque chose et e vaut 2.72'"
      ]
     },
     "execution_count": 30,
     "metadata": {},
     "output_type": "execute_result"
    }
   ],
   "source": [
    "regex.sub(\"quelque chose\", \"pi vaut 3.14 et e vaut 2.72\", count=1)"
   ]
  },
  {
   "cell_type": "code",
   "execution_count": 33,
   "id": "66626090",
   "metadata": {},
   "outputs": [
    {
     "data": {
      "text/plain": [
       "'pi vaut approximativement 3 et e vaut approximativement 2'"
      ]
     },
     "execution_count": 33,
     "metadata": {},
     "output_type": "execute_result"
    }
   ],
   "source": [
    "regex = re.compile(\"([0-9]+)\\.([0-9]+)\")\n",
    "phrase = \"pi vaut 3.14 et e vaut 2.72\"\n",
    "regex.sub(\"approximativement \\\\1\", phrase)"
   ]
  },
  {
   "cell_type": "code",
   "execution_count": 34,
   "id": "04a1cfd8",
   "metadata": {},
   "outputs": [
    {
     "data": {
      "text/plain": [
       "'pi vaut approximativement 3 (puis .14) et e vaut approximativement 2 (puis .72)'"
      ]
     },
     "execution_count": 34,
     "metadata": {},
     "output_type": "execute_result"
    }
   ],
   "source": [
    "regex.sub(\"approximativement \\\\1 (puis .\\\\2)\",phrase)"
   ]
  },
  {
   "cell_type": "code",
   "execution_count": 35,
   "id": "81565056",
   "metadata": {},
   "outputs": [
    {
     "data": {
      "text/plain": [
       "<re.Match object; span=(9, 15), match='panpan'>"
      ]
     },
     "execution_count": 35,
     "metadata": {},
     "output_type": "execute_result"
    }
   ],
   "source": [
    "re.search(\"(pan)\\\\1\", \"bambi et panpan\")"
   ]
  },
  {
   "cell_type": "code",
   "execution_count": 36,
   "id": "2405a822",
   "metadata": {},
   "outputs": [],
   "source": [
    "re.search(\"(pan)\\\\1\", \"le pistolet a fait pan !\")"
   ]
  }
 ],
 "metadata": {
  "kernelspec": {
   "display_name": "Python 3",
   "language": "python",
   "name": "python3"
  },
  "language_info": {
   "codemirror_mode": {
    "name": "ipython",
    "version": 3
   },
   "file_extension": ".py",
   "mimetype": "text/x-python",
   "name": "python",
   "nbconvert_exporter": "python",
   "pygments_lexer": "ipython3",
   "version": "3.8.8"
  }
 },
 "nbformat": 4,
 "nbformat_minor": 5
}
