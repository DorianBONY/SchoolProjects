{
 "cells": [
  {
   "cell_type": "code",
   "execution_count": 1,
   "id": "6bd25b2d",
   "metadata": {},
   "outputs": [
    {
     "name": "stderr",
     "output_type": "stream",
     "text": [
      "[nltk_data] Downloading package punkt to\n",
      "[nltk_data]     C:\\Users\\utilisateur\\AppData\\Roaming\\nltk_data...\n",
      "[nltk_data]   Package punkt is already up-to-date!\n"
     ]
    }
   ],
   "source": [
    "import nltk\n",
    "import re\n",
    "nltk.download('punkt')\n",
    "from nltk.tokenize import word_tokenize\n",
    "from gensim.models import Word2Vec\n",
    "from sklearn.decomposition import PCA\n",
    "import matplotlib.pyplot as plt"
   ]
  },
  {
   "cell_type": "code",
   "execution_count": 2,
   "id": "50043b39",
   "metadata": {},
   "outputs": [
    {
     "name": "stdout",
     "output_type": "stream",
     "text": [
      "Number of sentences 2\n",
      "First sentence from text file \n",
      " Le Chien (Canis lupus familiaris) est la sous-espèce domestique de Canis lupus (Loup gris), un mammifère de la famille des Canidés (Canidae), laquelle comprend également le dingo, chien domestique retourné à l'état sauvage.\n",
      "\n"
     ]
    }
   ],
   "source": [
    "with open(\"text.txt\",'r', encoding='utf-8') as txt:\n",
    "    sentences = txt.readlines()\n",
    "    \n",
    "\n",
    "\n",
    "print(f\"Number of sentences {len(sentences)}\")\n",
    "\n",
    "print(f\"First sentence from text file \\n {sentences[0]}\")"
   ]
  },
  {
   "cell_type": "code",
   "execution_count": 3,
   "id": "574144c4",
   "metadata": {},
   "outputs": [
    {
     "name": "stdout",
     "output_type": "stream",
     "text": [
      "Second \n",
      " Le Chien (Canis lupus familiaris) est la sous-espèce domestique de Canis lupus (Loup gris), un mammifère de la famille des Canidés (Canidae), laquelle comprend également le dingo, chien domestique retourné à l'état sauvage.\n",
      "\n",
      "Second sentence from text file \n",
      " Le Chien  Canis lupus familiaris  est la sous esp ce domestique de Canis lupus  Loup gris   un mammif re de la famille des Canid s  Canidae   laquelle comprend  galement le dingo  chien domestique retourn    l  tat sauvage  \n"
     ]
    }
   ],
   "source": [
    "print(f\"Second \\n {sentences[0]}\")\n",
    "\n",
    "for index in range(len(sentences)):\n",
    "    sentences[index] = re.sub(\"[^a-zA-Z]\",\" \", str(sentences[index]))\n",
    "    \n",
    "print(f\"Second sentence from text file \\n {sentences[0]}\")"
   ]
  },
  {
   "cell_type": "code",
   "execution_count": 4,
   "id": "fd0d4a44",
   "metadata": {},
   "outputs": [
    {
     "name": "stdout",
     "output_type": "stream",
     "text": [
      "First sentence from text file \n",
      " ['Le', 'Chien', 'Canis', 'lupus', 'familiaris', 'est', 'la', 'sous', 'esp', 'ce', 'domestique', 'de', 'Canis', 'lupus', 'Loup', 'gris', 'un', 'mammif', 're', 'de', 'la', 'famille', 'des', 'Canid', 's', 'Canidae', 'laquelle', 'comprend', 'galement', 'le', 'dingo', 'chien', 'domestique', 'retourn', 'l', 'tat', 'sauvage']\n"
     ]
    }
   ],
   "source": [
    "word_tokenizer = []\n",
    "for sent in sentences:\n",
    "    word_tokens = word_tokenize(sent)\n",
    "    word_tokenizer.append(word_tokens)\n",
    "    \n",
    "print(f\"First sentence from text file \\n {word_tokenizer[0]}\")"
   ]
  },
  {
   "cell_type": "code",
   "execution_count": 5,
   "id": "28614d20",
   "metadata": {},
   "outputs": [
    {
     "name": "stdout",
     "output_type": "stream",
     "text": [
      "Total number of words 43\n",
      "['de', 'l', 'la', 'et', 'e', 'est', 'ce', 's', 'le', 'chien', 'esp', 'Loup', 'des', 'Le', 'a', 'ans', 'd', 'les', 'Canis', 'lupus', 'fonctions', 'sous', 'apparition', 'sa', 'domestique', 'sont', 'gris', 're', 'du', 'lign', 'il', 'n', 'diff', 'premi', 't', 'domestiqu', 'comme', 'par', 'Homme', 'une', 'qui', 'ni', 'animal']\n"
     ]
    },
    {
     "data": {
      "text/plain": [
       "array([[-0.03036723,  0.01470195],\n",
       "       [ 0.25341743,  0.4540549 ],\n",
       "       [-0.4653893 , -0.3552865 ],\n",
       "       [ 0.32265568,  0.44939154],\n",
       "       [-0.25310567, -0.1851188 ],\n",
       "       [ 0.3700329 , -0.07580333],\n",
       "       [-0.22829503,  0.32858574],\n",
       "       [-0.24416865, -0.08981559],\n",
       "       [ 0.14209518,  0.05051661],\n",
       "       [-0.41483214, -0.4702808 ],\n",
       "       [ 0.36426455,  0.2545173 ],\n",
       "       [ 0.337355  ,  0.03908183],\n",
       "       [ 0.31720382, -0.16911496],\n",
       "       [-0.04830081,  0.2888399 ],\n",
       "       [-0.3771962 , -0.19555789],\n",
       "       [-0.37633532, -0.04571957],\n",
       "       [ 0.47638285, -0.3654669 ],\n",
       "       [-0.11758071, -0.0962549 ],\n",
       "       [ 0.40381575, -0.29651374],\n",
       "       [ 0.00156825, -0.23741327],\n",
       "       [-0.48085806,  0.25134635],\n",
       "       [-0.43925318, -0.21847129],\n",
       "       [-0.00142893, -0.01429444],\n",
       "       [-0.38329878,  0.4813987 ],\n",
       "       [ 0.24803069,  0.46222085],\n",
       "       [-0.40861404,  0.22599623],\n",
       "       [-0.20840198,  0.04362491],\n",
       "       [ 0.42487952, -0.2224666 ],\n",
       "       [ 0.22681211, -0.33796635],\n",
       "       [-0.17814107,  0.47095567],\n",
       "       [-0.07977531,  0.01693224],\n",
       "       [-0.20787153, -0.38303337],\n",
       "       [-0.07629059,  0.12446554],\n",
       "       [-0.04440141,  0.2766831 ],\n",
       "       [-0.13949594,  0.11543808],\n",
       "       [ 0.27235758,  0.41752043],\n",
       "       [-0.07227349, -0.45993733],\n",
       "       [ 0.21738309,  0.02941046],\n",
       "       [ 0.37167287, -0.04024001],\n",
       "       [-0.13208207, -0.43735588],\n",
       "       [-0.04427503,  0.1425102 ],\n",
       "       [ 0.26916078,  0.35452095],\n",
       "       [-0.28583023,  0.0936495 ]], dtype=float32)"
      ]
     },
     "execution_count": 5,
     "metadata": {},
     "output_type": "execute_result"
    }
   ],
   "source": [
    "from gensim.models import Word2Vec\n",
    "model_cbow = Word2Vec(sentences=word_tokenizer,\n",
    "                     vector_size=2,#number dimension default 100\n",
    "                     window=2, #default 5\n",
    "                     min_count=2, #mini count words to be consider default 5\n",
    "                     workers=1, #default 3\n",
    "                     sg=0 #0 for CBOW, 1 SKIP-Gram\n",
    "                     )\n",
    "\n",
    "words_cbow = list(model_cbow.wv.index_to_key)\n",
    "print(f\"Total number of words {len(words_cbow)}\")\n",
    "print(words_cbow)\n",
    "\n",
    "model_cbow.wv.__getitem__(model_cbow.wv.index_to_key)"
   ]
  },
  {
   "cell_type": "code",
   "execution_count": 6,
   "id": "fc943b14",
   "metadata": {
    "scrolled": true
   },
   "outputs": [
    {
     "data": {
      "image/png": "[encoded data removed]",
      "text/plain": [
       "<Figure size 432x288 with 1 Axes>"
      ]
     },
     "metadata": {
      "needs_background": "light"
     },
     "output_type": "display_data"
    }
   ],
   "source": [
    "X = model_cbow.wv.__getitem__(model_cbow.wv.index_to_key)\n",
    "\n",
    "pca_model = PCA(n_components=2)\n",
    "result = pca_model.fit_transform(X)\n",
    "plt.scatter(result[:,0], result[:,1])\n",
    "words_cbow = list(model_cbow.wv.index_to_key)\n",
    "for i, word in enumerate(words_cbow[:100]):\n",
    "    plt.annotate(word,xy=(result[i,0], result[i,1]))\n",
    "plt.show()"
   ]
  },
  {
   "cell_type": "code",
   "execution_count": 7,
   "id": "1c6a7334",
   "metadata": {},
   "outputs": [
    {
     "name": "stdout",
     "output_type": "stream",
     "text": [
      "Total number of words 43\n",
      "[ 0.37069848 -0.03876792]\n"
     ]
    }
   ],
   "source": [
    "from gensim.models import Word2Vec\n",
    "model_skip = Word2Vec(sentences=word_tokenizer,\n",
    "                     vector_size=2,\n",
    "                     window=2,\n",
    "                     min_count=2,\n",
    "                     workers=1,\n",
    "                     sg=1\n",
    "                     )\n",
    "\n",
    "words = list(model_skip.wv.key_to_index)\n",
    "print(f\"Total number of words {len(words)}\")\n",
    "\n",
    "print(model_skip.wv.__getitem__('Homme'))"
   ]
  },
  {
   "cell_type": "code",
   "execution_count": 8,
   "id": "60ca0c41",
   "metadata": {},
   "outputs": [],
   "source": [
    "from gensim.models import Word2Vec"
   ]
  },
  {
   "cell_type": "code",
   "execution_count": 9,
   "id": "447a38bb",
   "metadata": {},
   "outputs": [
    {
     "name": "stdout",
     "output_type": "stream",
     "text": [
      "Total number of words 10\n",
      "[-0.46495622 -0.35435194]\n"
     ]
    }
   ],
   "source": [
    "model_skip = Word2Vec(sentences=word_tokenizer,\n",
    "                     vector_size=2,#number dimension default 100\n",
    "                     window=2, #default 5\n",
    "                     min_count=4, #mini count words to be consider default 5\n",
    "                     workers=1, #default 3\n",
    "                     sg=1 #0 for CBOW, 1 SKIP-Gram\n",
    "                     )\n",
    "\n",
    "words = list(model_skip.wv.key_to_index)\n",
    "print(f\"Total number of words {len(words)}\")\n",
    "\n",
    "wordembedding=model_skip.wv.__getitem__('la')\n",
    "print(wordembedding)"
   ]
  },
  {
   "cell_type": "code",
   "execution_count": 10,
   "id": "46704284",
   "metadata": {},
   "outputs": [
    {
     "data": {
      "image/png": "[encoded data removed]",
      "text/plain": [
       "<Figure size 432x288 with 1 Axes>"
      ]
     },
     "metadata": {
      "needs_background": "light"
     },
     "output_type": "display_data"
    }
   ],
   "source": [
    "X = model_skip.wv.__getitem__(model_skip.wv.index_to_key)\n",
    "\n",
    "pca_model = PCA(n_components=2)\n",
    "result = pca_model.fit_transform(X)\n",
    "plt.scatter(result[:,0], result[:,1])\n",
    "words_skip = list(model_skip.wv.index_to_key)\n",
    "for i, word in enumerate(words_skip[:100]):\n",
    "    plt.annotate(word,xy=(result[i,0], result[i,1]))\n",
    "plt.show()"
   ]
  }
 ],
 "metadata": {
  "kernelspec": {
   "display_name": "Python 3",
   "language": "python",
   "name": "python3"
  },
  "language_info": {
   "codemirror_mode": {
    "name": "ipython",
    "version": 3
   },
   "file_extension": ".py",
   "mimetype": "text/x-python",
   "name": "python",
   "nbconvert_exporter": "python",
   "pygments_lexer": "ipython3",
   "version": "3.8.8"
  }
 },
 "nbformat": 4,
 "nbformat_minor": 5
}
