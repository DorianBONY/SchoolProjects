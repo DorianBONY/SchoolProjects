{
 "cells": [
  {
   "cell_type": "markdown",
   "id": "43d7a45c",
   "metadata": {},
   "source": [
    "# Traitement des données"
   ]
  },
  {
   "cell_type": "code",
   "execution_count": 51,
   "id": "21376a23",
   "metadata": {},
   "outputs": [
    {
     "data": {
      "text/html": [
       "<div>\n",
       "<style scoped>\n",
       "    .dataframe tbody tr th:only-of-type {\n",
       "        vertical-align: middle;\n",
       "    }\n",
       "\n",
       "    .dataframe tbody tr th {\n",
       "        vertical-align: top;\n",
       "    }\n",
       "\n",
       "    .dataframe thead th {\n",
       "        text-align: right;\n",
       "    }\n",
       "</style>\n",
       "<table border=\"1\" class=\"dataframe\">\n",
       "  <thead>\n",
       "    <tr style=\"text-align: right;\">\n",
       "      <th></th>\n",
       "      <th>transactionId</th>\n",
       "      <th>step</th>\n",
       "      <th>type</th>\n",
       "      <th>amount</th>\n",
       "      <th>nameOrig</th>\n",
       "      <th>oldbalanceOrg</th>\n",
       "      <th>newbalanceOrig</th>\n",
       "      <th>nameDest</th>\n",
       "      <th>oldbalanceDest</th>\n",
       "      <th>newbalanceDest</th>\n",
       "      <th>isFraud</th>\n",
       "    </tr>\n",
       "  </thead>\n",
       "  <tbody>\n",
       "    <tr>\n",
       "      <th>0</th>\n",
       "      <td>0</td>\n",
       "      <td>1</td>\n",
       "      <td>PAYMENT</td>\n",
       "      <td>9839.64</td>\n",
       "      <td>C1231006815</td>\n",
       "      <td>170136.00</td>\n",
       "      <td>160296.36</td>\n",
       "      <td>M1979787155</td>\n",
       "      <td>0.00</td>\n",
       "      <td>0.00</td>\n",
       "      <td>0</td>\n",
       "    </tr>\n",
       "    <tr>\n",
       "      <th>1</th>\n",
       "      <td>1</td>\n",
       "      <td>1</td>\n",
       "      <td>PAYMENT</td>\n",
       "      <td>1864.28</td>\n",
       "      <td>C1666544295</td>\n",
       "      <td>21249.00</td>\n",
       "      <td>19384.72</td>\n",
       "      <td>M2044282225</td>\n",
       "      <td>0.00</td>\n",
       "      <td>0.00</td>\n",
       "      <td>0</td>\n",
       "    </tr>\n",
       "    <tr>\n",
       "      <th>2</th>\n",
       "      <td>2</td>\n",
       "      <td>1</td>\n",
       "      <td>TRANSFER</td>\n",
       "      <td>181.00</td>\n",
       "      <td>C1305486145</td>\n",
       "      <td>181.00</td>\n",
       "      <td>0.00</td>\n",
       "      <td>C553264065</td>\n",
       "      <td>0.00</td>\n",
       "      <td>0.00</td>\n",
       "      <td>1</td>\n",
       "    </tr>\n",
       "    <tr>\n",
       "      <th>3</th>\n",
       "      <td>3</td>\n",
       "      <td>1</td>\n",
       "      <td>CASH_OUT</td>\n",
       "      <td>181.00</td>\n",
       "      <td>C840083671</td>\n",
       "      <td>181.00</td>\n",
       "      <td>0.00</td>\n",
       "      <td>C38997010</td>\n",
       "      <td>21182.00</td>\n",
       "      <td>0.00</td>\n",
       "      <td>1</td>\n",
       "    </tr>\n",
       "    <tr>\n",
       "      <th>4</th>\n",
       "      <td>4</td>\n",
       "      <td>1</td>\n",
       "      <td>PAYMENT</td>\n",
       "      <td>11668.14</td>\n",
       "      <td>C2048537720</td>\n",
       "      <td>41554.00</td>\n",
       "      <td>29885.86</td>\n",
       "      <td>M1230701703</td>\n",
       "      <td>0.00</td>\n",
       "      <td>0.00</td>\n",
       "      <td>0</td>\n",
       "    </tr>\n",
       "    <tr>\n",
       "      <th>...</th>\n",
       "      <td>...</td>\n",
       "      <td>...</td>\n",
       "      <td>...</td>\n",
       "      <td>...</td>\n",
       "      <td>...</td>\n",
       "      <td>...</td>\n",
       "      <td>...</td>\n",
       "      <td>...</td>\n",
       "      <td>...</td>\n",
       "      <td>...</td>\n",
       "      <td>...</td>\n",
       "    </tr>\n",
       "    <tr>\n",
       "      <th>1008208</th>\n",
       "      <td>6362615</td>\n",
       "      <td>743</td>\n",
       "      <td>CASH_OUT</td>\n",
       "      <td>339682.13</td>\n",
       "      <td>C786484425</td>\n",
       "      <td>339682.13</td>\n",
       "      <td>0.00</td>\n",
       "      <td>C776919290</td>\n",
       "      <td>0.00</td>\n",
       "      <td>339682.13</td>\n",
       "      <td>1</td>\n",
       "    </tr>\n",
       "    <tr>\n",
       "      <th>1008209</th>\n",
       "      <td>6362616</td>\n",
       "      <td>743</td>\n",
       "      <td>TRANSFER</td>\n",
       "      <td>6311409.28</td>\n",
       "      <td>C1529008245</td>\n",
       "      <td>6311409.28</td>\n",
       "      <td>0.00</td>\n",
       "      <td>C1881841831</td>\n",
       "      <td>0.00</td>\n",
       "      <td>0.00</td>\n",
       "      <td>1</td>\n",
       "    </tr>\n",
       "    <tr>\n",
       "      <th>1008210</th>\n",
       "      <td>6362617</td>\n",
       "      <td>743</td>\n",
       "      <td>CASH_OUT</td>\n",
       "      <td>6311409.28</td>\n",
       "      <td>C1162922333</td>\n",
       "      <td>6311409.28</td>\n",
       "      <td>0.00</td>\n",
       "      <td>C1365125890</td>\n",
       "      <td>68488.84</td>\n",
       "      <td>6379898.11</td>\n",
       "      <td>1</td>\n",
       "    </tr>\n",
       "    <tr>\n",
       "      <th>1008211</th>\n",
       "      <td>6362618</td>\n",
       "      <td>743</td>\n",
       "      <td>TRANSFER</td>\n",
       "      <td>850002.52</td>\n",
       "      <td>C1685995037</td>\n",
       "      <td>850002.52</td>\n",
       "      <td>0.00</td>\n",
       "      <td>C2080388513</td>\n",
       "      <td>0.00</td>\n",
       "      <td>0.00</td>\n",
       "      <td>1</td>\n",
       "    </tr>\n",
       "    <tr>\n",
       "      <th>1008212</th>\n",
       "      <td>6362619</td>\n",
       "      <td>743</td>\n",
       "      <td>CASH_OUT</td>\n",
       "      <td>850002.52</td>\n",
       "      <td>C1280323807</td>\n",
       "      <td>850002.52</td>\n",
       "      <td>0.00</td>\n",
       "      <td>C873221189</td>\n",
       "      <td>6510099.11</td>\n",
       "      <td>7360101.63</td>\n",
       "      <td>1</td>\n",
       "    </tr>\n",
       "  </tbody>\n",
       "</table>\n",
       "<p>1008213 rows × 11 columns</p>\n",
       "</div>"
      ],
      "text/plain": [
       "         transactionId  step      type      amount     nameOrig  \\\n",
       "0                    0     1   PAYMENT     9839.64  C1231006815   \n",
       "1                    1     1   PAYMENT     1864.28  C1666544295   \n",
       "2                    2     1  TRANSFER      181.00  C1305486145   \n",
       "3                    3     1  CASH_OUT      181.00   C840083671   \n",
       "4                    4     1   PAYMENT    11668.14  C2048537720   \n",
       "...                ...   ...       ...         ...          ...   \n",
       "1008208        6362615   743  CASH_OUT   339682.13   C786484425   \n",
       "1008209        6362616   743  TRANSFER  6311409.28  C1529008245   \n",
       "1008210        6362617   743  CASH_OUT  6311409.28  C1162922333   \n",
       "1008211        6362618   743  TRANSFER   850002.52  C1685995037   \n",
       "1008212        6362619   743  CASH_OUT   850002.52  C1280323807   \n",
       "\n",
       "         oldbalanceOrg  newbalanceOrig     nameDest  oldbalanceDest  \\\n",
       "0            170136.00       160296.36  M1979787155            0.00   \n",
       "1             21249.00        19384.72  M2044282225            0.00   \n",
       "2               181.00            0.00   C553264065            0.00   \n",
       "3               181.00            0.00    C38997010        21182.00   \n",
       "4             41554.00        29885.86  M1230701703            0.00   \n",
       "...                ...             ...          ...             ...   \n",
       "1008208      339682.13            0.00   C776919290            0.00   \n",
       "1008209     6311409.28            0.00  C1881841831            0.00   \n",
       "1008210     6311409.28            0.00  C1365125890        68488.84   \n",
       "1008211      850002.52            0.00  C2080388513            0.00   \n",
       "1008212      850002.52            0.00   C873221189      6510099.11   \n",
       "\n",
       "         newbalanceDest  isFraud  \n",
       "0                  0.00        0  \n",
       "1                  0.00        0  \n",
       "2                  0.00        1  \n",
       "3                  0.00        1  \n",
       "4                  0.00        0  \n",
       "...                 ...      ...  \n",
       "1008208       339682.13        1  \n",
       "1008209            0.00        1  \n",
       "1008210      6379898.11        1  \n",
       "1008211            0.00        1  \n",
       "1008212      7360101.63        1  \n",
       "\n",
       "[1008213 rows x 11 columns]"
      ]
     },
     "execution_count": 51,
     "metadata": {},
     "output_type": "execute_result"
    }
   ],
   "source": [
    "import pandas as pd\n",
    "import matplotlib.pyplot as plt\n",
    "import seaborn as sns\n",
    "import graphviz\n",
    "from sklearn.linear_model import LogisticRegression\n",
    "from sklearn.model_selection import train_test_split\n",
    "from sklearn.metrics import accuracy_score\n",
    "from sklearn.metrics import classification_report\n",
    "from sklearn.metrics import confusion_matrix\n",
    "from matplotlib import pyplot\n",
    "from sklearn.metrics import plot_confusion_matrix\n",
    "from IPython.display import Image\n",
    "from imblearn.over_sampling import SMOTE\n",
    "from sklearn.preprocessing import LabelEncoder\n",
    "from imblearn.under_sampling import NearMiss\n",
    "from sklearn.tree import DecisionTreeClassifier\n",
    "from sklearn.tree import export_text\n",
    "from sklearn.ensemble import RandomForestClassifier\n",
    "from sklearn import tree\n",
    "\n",
    "#on importe le csv dans un dataframe\n",
    "df = pd.read_csv('fraude_points.csv', sep=';')\n",
    "\n",
    "df.copy()"
   ]
  },
  {
   "cell_type": "code",
   "execution_count": 52,
   "id": "7079b03d",
   "metadata": {},
   "outputs": [
    {
     "data": {
      "text/html": [
       "<div>\n",
       "<style scoped>\n",
       "    .dataframe tbody tr th:only-of-type {\n",
       "        vertical-align: middle;\n",
       "    }\n",
       "\n",
       "    .dataframe tbody tr th {\n",
       "        vertical-align: top;\n",
       "    }\n",
       "\n",
       "    .dataframe thead th {\n",
       "        text-align: right;\n",
       "    }\n",
       "</style>\n",
       "<table border=\"1\" class=\"dataframe\">\n",
       "  <thead>\n",
       "    <tr style=\"text-align: right;\">\n",
       "      <th></th>\n",
       "      <th>transactionId</th>\n",
       "      <th>step</th>\n",
       "      <th>type</th>\n",
       "      <th>amount</th>\n",
       "      <th>nameOrig</th>\n",
       "      <th>oldbalanceOrg</th>\n",
       "      <th>newbalanceOrig</th>\n",
       "      <th>nameDest</th>\n",
       "      <th>oldbalanceDest</th>\n",
       "      <th>newbalanceDest</th>\n",
       "      <th>isFraud</th>\n",
       "    </tr>\n",
       "  </thead>\n",
       "  <tbody>\n",
       "    <tr>\n",
       "      <th>0</th>\n",
       "      <td>0</td>\n",
       "      <td>1</td>\n",
       "      <td>PAYMENT</td>\n",
       "      <td>9839.64</td>\n",
       "      <td>C1231006815</td>\n",
       "      <td>170136.0</td>\n",
       "      <td>160296.36</td>\n",
       "      <td>M1979787155</td>\n",
       "      <td>0.0</td>\n",
       "      <td>0.0</td>\n",
       "      <td>0</td>\n",
       "    </tr>\n",
       "    <tr>\n",
       "      <th>1</th>\n",
       "      <td>1</td>\n",
       "      <td>1</td>\n",
       "      <td>PAYMENT</td>\n",
       "      <td>1864.28</td>\n",
       "      <td>C1666544295</td>\n",
       "      <td>21249.0</td>\n",
       "      <td>19384.72</td>\n",
       "      <td>M2044282225</td>\n",
       "      <td>0.0</td>\n",
       "      <td>0.0</td>\n",
       "      <td>0</td>\n",
       "    </tr>\n",
       "    <tr>\n",
       "      <th>2</th>\n",
       "      <td>2</td>\n",
       "      <td>1</td>\n",
       "      <td>TRANSFER</td>\n",
       "      <td>181.00</td>\n",
       "      <td>C1305486145</td>\n",
       "      <td>181.0</td>\n",
       "      <td>0.00</td>\n",
       "      <td>C553264065</td>\n",
       "      <td>0.0</td>\n",
       "      <td>0.0</td>\n",
       "      <td>1</td>\n",
       "    </tr>\n",
       "    <tr>\n",
       "      <th>3</th>\n",
       "      <td>3</td>\n",
       "      <td>1</td>\n",
       "      <td>CASH_OUT</td>\n",
       "      <td>181.00</td>\n",
       "      <td>C840083671</td>\n",
       "      <td>181.0</td>\n",
       "      <td>0.00</td>\n",
       "      <td>C38997010</td>\n",
       "      <td>21182.0</td>\n",
       "      <td>0.0</td>\n",
       "      <td>1</td>\n",
       "    </tr>\n",
       "    <tr>\n",
       "      <th>4</th>\n",
       "      <td>4</td>\n",
       "      <td>1</td>\n",
       "      <td>PAYMENT</td>\n",
       "      <td>11668.14</td>\n",
       "      <td>C2048537720</td>\n",
       "      <td>41554.0</td>\n",
       "      <td>29885.86</td>\n",
       "      <td>M1230701703</td>\n",
       "      <td>0.0</td>\n",
       "      <td>0.0</td>\n",
       "      <td>0</td>\n",
       "    </tr>\n",
       "  </tbody>\n",
       "</table>\n",
       "</div>"
      ],
      "text/plain": [
       "   transactionId  step      type    amount     nameOrig  oldbalanceOrg  \\\n",
       "0              0     1   PAYMENT   9839.64  C1231006815       170136.0   \n",
       "1              1     1   PAYMENT   1864.28  C1666544295        21249.0   \n",
       "2              2     1  TRANSFER    181.00  C1305486145          181.0   \n",
       "3              3     1  CASH_OUT    181.00   C840083671          181.0   \n",
       "4              4     1   PAYMENT  11668.14  C2048537720        41554.0   \n",
       "\n",
       "   newbalanceOrig     nameDest  oldbalanceDest  newbalanceDest  isFraud  \n",
       "0       160296.36  M1979787155             0.0             0.0        0  \n",
       "1        19384.72  M2044282225             0.0             0.0        0  \n",
       "2            0.00   C553264065             0.0             0.0        1  \n",
       "3            0.00    C38997010         21182.0             0.0        1  \n",
       "4        29885.86  M1230701703             0.0             0.0        0  "
      ]
     },
     "execution_count": 52,
     "metadata": {},
     "output_type": "execute_result"
    }
   ],
   "source": [
    "#permet d'afficher les 5 premières lignes du dataframe, ainsi que toutes les colonnes\n",
    "df.head()"
   ]
  },
  {
   "cell_type": "code",
   "execution_count": 53,
   "id": "24cab040",
   "metadata": {},
   "outputs": [
    {
     "data": {
      "text/plain": [
       "(1008213, 11)"
      ]
     },
     "execution_count": 53,
     "metadata": {},
     "output_type": "execute_result"
    }
   ],
   "source": [
    "#permet d'avoir la forme du tableau, nombre de lignes x nombres de colonnes\n",
    "df.shape"
   ]
  },
  {
   "cell_type": "code",
   "execution_count": 54,
   "id": "195f5437",
   "metadata": {},
   "outputs": [
    {
     "data": {
      "text/plain": [
       "transactionId     0\n",
       "step              0\n",
       "type              0\n",
       "amount            0\n",
       "nameOrig          0\n",
       "oldbalanceOrg     0\n",
       "newbalanceOrig    0\n",
       "nameDest          0\n",
       "oldbalanceDest    0\n",
       "newbalanceDest    0\n",
       "isFraud           0\n",
       "dtype: int64"
      ]
     },
     "execution_count": 54,
     "metadata": {},
     "output_type": "execute_result"
    }
   ],
   "source": [
    "#permet de vérifier si des valeurs sont nulles dans le dataframe\n",
    "df.isnull().sum()"
   ]
  },
  {
   "cell_type": "code",
   "execution_count": 55,
   "id": "00a0cbf0",
   "metadata": {},
   "outputs": [
    {
     "data": {
      "text/plain": [
       "CASH_OUT    366632\n",
       "PAYMENT     329867\n",
       "CASH_IN     218938\n",
       "TRANSFER     86301\n",
       "DEBIT         6475\n",
       "Name: type, dtype: int64"
      ]
     },
     "execution_count": 55,
     "metadata": {},
     "output_type": "execute_result"
    }
   ],
   "source": [
    "#on s'intéresse à la colonne \"type\", en regardant les différents éléments faisant partie de cette colonne, ainsi \n",
    "#que le nombre de valeurs attribués à ces éléments.\n",
    "df['type'].value_counts()"
   ]
  },
  {
   "cell_type": "code",
   "execution_count": 56,
   "id": "ac9840c0",
   "metadata": {},
   "outputs": [
    {
     "data": {
      "text/html": [
       "<div>\n",
       "<style scoped>\n",
       "    .dataframe tbody tr th:only-of-type {\n",
       "        vertical-align: middle;\n",
       "    }\n",
       "\n",
       "    .dataframe tbody tr th {\n",
       "        vertical-align: top;\n",
       "    }\n",
       "\n",
       "    .dataframe thead th {\n",
       "        text-align: right;\n",
       "    }\n",
       "</style>\n",
       "<table border=\"1\" class=\"dataframe\">\n",
       "  <thead>\n",
       "    <tr style=\"text-align: right;\">\n",
       "      <th></th>\n",
       "      <th>type</th>\n",
       "      <th>isFraud</th>\n",
       "    </tr>\n",
       "  </thead>\n",
       "  <tbody>\n",
       "    <tr>\n",
       "      <th>0</th>\n",
       "      <td>CASH_IN</td>\n",
       "      <td>0.000000</td>\n",
       "    </tr>\n",
       "    <tr>\n",
       "      <th>1</th>\n",
       "      <td>CASH_OUT</td>\n",
       "      <td>0.011227</td>\n",
       "    </tr>\n",
       "    <tr>\n",
       "      <th>2</th>\n",
       "      <td>DEBIT</td>\n",
       "      <td>0.000000</td>\n",
       "    </tr>\n",
       "    <tr>\n",
       "      <th>3</th>\n",
       "      <td>PAYMENT</td>\n",
       "      <td>0.000000</td>\n",
       "    </tr>\n",
       "    <tr>\n",
       "      <th>4</th>\n",
       "      <td>TRANSFER</td>\n",
       "      <td>0.047473</td>\n",
       "    </tr>\n",
       "  </tbody>\n",
       "</table>\n",
       "</div>"
      ],
      "text/plain": [
       "       type   isFraud\n",
       "0   CASH_IN  0.000000\n",
       "1  CASH_OUT  0.011227\n",
       "2     DEBIT  0.000000\n",
       "3   PAYMENT  0.000000\n",
       "4  TRANSFER  0.047473"
      ]
     },
     "execution_count": 56,
     "metadata": {},
     "output_type": "execute_result"
    }
   ],
   "source": [
    "#on associe les valeurs de la colonne \"isFraud\" aux valeurs de la colonne \"type\".\n",
    "df[['type', 'isFraud']].groupby(['type'], as_index = False).mean().sort_values(by = 'type', ascending = True)"
   ]
  },
  {
   "cell_type": "code",
   "execution_count": 57,
   "id": "320f23cf",
   "metadata": {},
   "outputs": [
    {
     "name": "stdout",
     "output_type": "stream",
     "text": [
      "\n",
      " Les 2 différents types de transactions frauduleuses sont ['TRANSFER', 'CASH_OUT']\n",
      "\n",
      " Le nombre de TRANSFER frauduleux = 4097\n",
      "\n",
      " Le nombre de CASH_OUT frauduleux = 4116\n"
     ]
    }
   ],
   "source": [
    "#permet de regarder dans quels types de transactions se trouvent les fraudes\n",
    "\n",
    "print('\\n Les 2 différents types de transactions frauduleuses sont {}'.format(\\\n",
    "list(df.loc[df.isFraud == 1].type.drop_duplicates().values))) \n",
    "\n",
    "dfFraudTransfer = df.loc[(df.isFraud == 1) & (df.type == 'TRANSFER')]\n",
    "dfFraudCashout = df.loc[(df.isFraud == 1) & (df.type == 'CASH_OUT')]\n",
    "\n",
    "print ('\\n Le nombre de TRANSFER frauduleux = {}'.\\\n",
    "       format(len(dfFraudTransfer))) # 4097\n",
    "\n",
    "print ('\\n Le nombre de CASH_OUT frauduleux = {}'.\\\n",
    "       format(len(dfFraudCashout))) # 4116"
   ]
  },
  {
   "cell_type": "code",
   "execution_count": 58,
   "id": "f6a4e82d",
   "metadata": {},
   "outputs": [],
   "source": [
    "#on attribue les mêmes valeurs pour les types n'ayant pas de fraude, et 2 valeurs distinctes pour les 2 autres types\n",
    "#contenant des fraudes.\n",
    "df.loc[(df.type == 'CASH_IN') | (df.type == 'DEBIT') | (df.type == 'PAYMENT'), 'type'] = 0\n",
    "df.loc[df.type == 'CASH_OUT', 'type'] = 1\n",
    "df.loc[df.type == 'TRANSFER', 'type'] = 2"
   ]
  },
  {
   "cell_type": "code",
   "execution_count": 59,
   "id": "151ac60f",
   "metadata": {},
   "outputs": [],
   "source": [
    "#pour simplifier le travail sur les données, on convertie les valeurs de la colonne type qui sont des strings, en entiers.\n",
    "df['type'] = df['type'].astype(int)"
   ]
  },
  {
   "cell_type": "code",
   "execution_count": 60,
   "id": "c6271399",
   "metadata": {},
   "outputs": [
    {
     "data": {
      "text/html": [
       "<div>\n",
       "<style scoped>\n",
       "    .dataframe tbody tr th:only-of-type {\n",
       "        vertical-align: middle;\n",
       "    }\n",
       "\n",
       "    .dataframe tbody tr th {\n",
       "        vertical-align: top;\n",
       "    }\n",
       "\n",
       "    .dataframe thead th {\n",
       "        text-align: right;\n",
       "    }\n",
       "</style>\n",
       "<table border=\"1\" class=\"dataframe\">\n",
       "  <thead>\n",
       "    <tr style=\"text-align: right;\">\n",
       "      <th>isFraud</th>\n",
       "      <th>0</th>\n",
       "      <th>1</th>\n",
       "    </tr>\n",
       "    <tr>\n",
       "      <th>type</th>\n",
       "      <th></th>\n",
       "      <th></th>\n",
       "    </tr>\n",
       "  </thead>\n",
       "  <tbody>\n",
       "    <tr>\n",
       "      <th>0</th>\n",
       "      <td>555280</td>\n",
       "      <td>0</td>\n",
       "    </tr>\n",
       "    <tr>\n",
       "      <th>1</th>\n",
       "      <td>362516</td>\n",
       "      <td>4116</td>\n",
       "    </tr>\n",
       "    <tr>\n",
       "      <th>2</th>\n",
       "      <td>82204</td>\n",
       "      <td>4097</td>\n",
       "    </tr>\n",
       "  </tbody>\n",
       "</table>\n",
       "</div>"
      ],
      "text/plain": [
       "isFraud       0     1\n",
       "type                 \n",
       "0        555280     0\n",
       "1        362516  4116\n",
       "2         82204  4097"
      ]
     },
     "execution_count": 60,
     "metadata": {},
     "output_type": "execute_result"
    },
    {
     "data": {
      "image/png": "[encoded data removed]",
      "text/plain": [
       "<Figure size 432x288 with 1 Axes>"
      ]
     },
     "metadata": {
      "needs_background": "light"
     },
     "output_type": "display_data"
    }
   ],
   "source": [
    "#ce graphique nous permet de voir la proportion de fraude dans chacun des types\n",
    "table = pd.crosstab(df.type, df.isFraud)\n",
    "table.div(table.sum(1).astype(float), axis = 0).plot(kind = 'bar', stacked = True)\n",
    "table.head()"
   ]
  },
  {
   "cell_type": "code",
   "execution_count": 61,
   "id": "de97eaf1",
   "metadata": {},
   "outputs": [],
   "source": [
    "#on supprime les colonnes qui sont les moins utiles à la prédiction de fraude\n",
    "df.drop(['transactionId','nameOrig','nameDest', 'oldbalanceOrg', 'oldbalanceDest', 'newbalanceDest', 'newbalanceOrig'],axis=1,inplace=True)"
   ]
  },
  {
   "cell_type": "code",
   "execution_count": 62,
   "id": "dcdd10e6",
   "metadata": {},
   "outputs": [
    {
     "data": {
      "text/html": [
       "<div>\n",
       "<style scoped>\n",
       "    .dataframe tbody tr th:only-of-type {\n",
       "        vertical-align: middle;\n",
       "    }\n",
       "\n",
       "    .dataframe tbody tr th {\n",
       "        vertical-align: top;\n",
       "    }\n",
       "\n",
       "    .dataframe thead th {\n",
       "        text-align: right;\n",
       "    }\n",
       "</style>\n",
       "<table border=\"1\" class=\"dataframe\">\n",
       "  <thead>\n",
       "    <tr style=\"text-align: right;\">\n",
       "      <th></th>\n",
       "      <th>step</th>\n",
       "      <th>type</th>\n",
       "      <th>amount</th>\n",
       "      <th>isFraud</th>\n",
       "    </tr>\n",
       "  </thead>\n",
       "  <tbody>\n",
       "    <tr>\n",
       "      <th>0</th>\n",
       "      <td>1</td>\n",
       "      <td>0</td>\n",
       "      <td>9839.64</td>\n",
       "      <td>0</td>\n",
       "    </tr>\n",
       "    <tr>\n",
       "      <th>1</th>\n",
       "      <td>1</td>\n",
       "      <td>0</td>\n",
       "      <td>1864.28</td>\n",
       "      <td>0</td>\n",
       "    </tr>\n",
       "    <tr>\n",
       "      <th>2</th>\n",
       "      <td>1</td>\n",
       "      <td>2</td>\n",
       "      <td>181.00</td>\n",
       "      <td>1</td>\n",
       "    </tr>\n",
       "    <tr>\n",
       "      <th>3</th>\n",
       "      <td>1</td>\n",
       "      <td>1</td>\n",
       "      <td>181.00</td>\n",
       "      <td>1</td>\n",
       "    </tr>\n",
       "    <tr>\n",
       "      <th>4</th>\n",
       "      <td>1</td>\n",
       "      <td>0</td>\n",
       "      <td>11668.14</td>\n",
       "      <td>0</td>\n",
       "    </tr>\n",
       "  </tbody>\n",
       "</table>\n",
       "</div>"
      ],
      "text/plain": [
       "   step  type    amount  isFraud\n",
       "0     1     0   9839.64        0\n",
       "1     1     0   1864.28        0\n",
       "2     1     2    181.00        1\n",
       "3     1     1    181.00        1\n",
       "4     1     0  11668.14        0"
      ]
     },
     "execution_count": 62,
     "metadata": {},
     "output_type": "execute_result"
    }
   ],
   "source": [
    "#on vérifie bien que les colonnes ont disparu\n",
    "df.head(5)"
   ]
  },
  {
   "cell_type": "code",
   "execution_count": 63,
   "id": "d4654113",
   "metadata": {},
   "outputs": [
    {
     "data": {
      "text/plain": [
       "Index(['step', 'type', 'amount', 'isFraud'], dtype='object')"
      ]
     },
     "execution_count": 63,
     "metadata": {},
     "output_type": "execute_result"
    }
   ],
   "source": [
    "#on vérifie bien que les colonnes ont disparu\n",
    "df.columns"
   ]
  },
  {
   "cell_type": "code",
   "execution_count": 64,
   "id": "a13505c9",
   "metadata": {},
   "outputs": [
    {
     "name": "stdout",
     "output_type": "stream",
     "text": [
      "les variables catégoriques sont : ['type']\n",
      "les variables numériques sont : ['step', 'amount', 'isFraud']\n"
     ]
    }
   ],
   "source": [
    "#on sépare les variables catégoriques et variables numériques dans 2 listes\n",
    "var_cat=['type']\n",
    "var_num=['step', 'amount', 'isFraud']\n",
    "print('les variables catégoriques sont :', var_cat)\n",
    "print('les variables numériques sont :', var_num)"
   ]
  },
  {
   "cell_type": "code",
   "execution_count": 65,
   "id": "2ecb8858",
   "metadata": {},
   "outputs": [
    {
     "data": {
      "text/plain": [
       "0    99.18539\n",
       "1     0.81461\n",
       "Name: isFraud, dtype: float64"
      ]
     },
     "execution_count": 65,
     "metadata": {},
     "output_type": "execute_result"
    }
   ],
   "source": [
    "#on vérifie le % de non-fraude (0) et de fraude (1)\n",
    "df['isFraud'].value_counts(normalize=True)*100"
   ]
  },
  {
   "cell_type": "code",
   "execution_count": 66,
   "id": "166b671e",
   "metadata": {},
   "outputs": [
    {
     "data": {
      "text/plain": [
       "<AxesSubplot:>"
      ]
     },
     "execution_count": 66,
     "metadata": {},
     "output_type": "execute_result"
    },
    {
     "data": {
      "image/png": "[encoded data removed]",
      "text/plain": [
       "<Figure size 720x864 with 2 Axes>"
      ]
     },
     "metadata": {
      "needs_background": "light"
     },
     "output_type": "display_data"
    }
   ],
   "source": [
    "# correlation des variables numériques visuel\n",
    "matrix=df.corr()\n",
    "f,ax=plt.subplots(figsize=(10,12))\n",
    "sns.heatmap(matrix, vmax=8, square=True, cmap='BuPu', annot=True)"
   ]
  },
  {
   "cell_type": "code",
   "execution_count": 67,
   "id": "8b505d48",
   "metadata": {},
   "outputs": [
    {
     "data": {
      "text/html": [
       "<div>\n",
       "<style scoped>\n",
       "    .dataframe tbody tr th:only-of-type {\n",
       "        vertical-align: middle;\n",
       "    }\n",
       "\n",
       "    .dataframe tbody tr th {\n",
       "        vertical-align: top;\n",
       "    }\n",
       "\n",
       "    .dataframe thead th {\n",
       "        text-align: right;\n",
       "    }\n",
       "</style>\n",
       "<table border=\"1\" class=\"dataframe\">\n",
       "  <thead>\n",
       "    <tr style=\"text-align: right;\">\n",
       "      <th></th>\n",
       "      <th>step</th>\n",
       "      <th>type</th>\n",
       "      <th>amount</th>\n",
       "      <th>isFraud</th>\n",
       "    </tr>\n",
       "  </thead>\n",
       "  <tbody>\n",
       "    <tr>\n",
       "      <th>step</th>\n",
       "      <td>1.000000</td>\n",
       "      <td>0.113224</td>\n",
       "      <td>0.275325</td>\n",
       "      <td>0.798710</td>\n",
       "    </tr>\n",
       "    <tr>\n",
       "      <th>type</th>\n",
       "      <td>0.113224</td>\n",
       "      <td>1.000000</td>\n",
       "      <td>0.420369</td>\n",
       "      <td>0.134807</td>\n",
       "    </tr>\n",
       "    <tr>\n",
       "      <th>amount</th>\n",
       "      <td>0.275325</td>\n",
       "      <td>0.420369</td>\n",
       "      <td>1.000000</td>\n",
       "      <td>0.332146</td>\n",
       "    </tr>\n",
       "    <tr>\n",
       "      <th>isFraud</th>\n",
       "      <td>0.798710</td>\n",
       "      <td>0.134807</td>\n",
       "      <td>0.332146</td>\n",
       "      <td>1.000000</td>\n",
       "    </tr>\n",
       "  </tbody>\n",
       "</table>\n",
       "</div>"
      ],
      "text/plain": [
       "             step      type    amount   isFraud\n",
       "step     1.000000  0.113224  0.275325  0.798710\n",
       "type     0.113224  1.000000  0.420369  0.134807\n",
       "amount   0.275325  0.420369  1.000000  0.332146\n",
       "isFraud  0.798710  0.134807  0.332146  1.000000"
      ]
     },
     "execution_count": 67,
     "metadata": {},
     "output_type": "execute_result"
    }
   ],
   "source": [
    "#un autre moyen de voir la corrélation entre les différentes features\n",
    "df.corr()"
   ]
  },
  {
   "cell_type": "markdown",
   "id": "28dc26fa",
   "metadata": {},
   "source": [
    "# Mise en place des variables pour les modèles"
   ]
  },
  {
   "cell_type": "code",
   "execution_count": 68,
   "id": "d7bb3833",
   "metadata": {},
   "outputs": [
    {
     "data": {
      "text/html": [
       "<div>\n",
       "<style scoped>\n",
       "    .dataframe tbody tr th:only-of-type {\n",
       "        vertical-align: middle;\n",
       "    }\n",
       "\n",
       "    .dataframe tbody tr th {\n",
       "        vertical-align: top;\n",
       "    }\n",
       "\n",
       "    .dataframe thead th {\n",
       "        text-align: right;\n",
       "    }\n",
       "</style>\n",
       "<table border=\"1\" class=\"dataframe\">\n",
       "  <thead>\n",
       "    <tr style=\"text-align: right;\">\n",
       "      <th></th>\n",
       "      <th>type</th>\n",
       "    </tr>\n",
       "  </thead>\n",
       "  <tbody>\n",
       "    <tr>\n",
       "      <th>0</th>\n",
       "      <td>0</td>\n",
       "    </tr>\n",
       "    <tr>\n",
       "      <th>1</th>\n",
       "      <td>0</td>\n",
       "    </tr>\n",
       "    <tr>\n",
       "      <th>2</th>\n",
       "      <td>2</td>\n",
       "    </tr>\n",
       "    <tr>\n",
       "      <th>3</th>\n",
       "      <td>1</td>\n",
       "    </tr>\n",
       "    <tr>\n",
       "      <th>4</th>\n",
       "      <td>0</td>\n",
       "    </tr>\n",
       "    <tr>\n",
       "      <th>...</th>\n",
       "      <td>...</td>\n",
       "    </tr>\n",
       "    <tr>\n",
       "      <th>1008208</th>\n",
       "      <td>1</td>\n",
       "    </tr>\n",
       "    <tr>\n",
       "      <th>1008209</th>\n",
       "      <td>2</td>\n",
       "    </tr>\n",
       "    <tr>\n",
       "      <th>1008210</th>\n",
       "      <td>1</td>\n",
       "    </tr>\n",
       "    <tr>\n",
       "      <th>1008211</th>\n",
       "      <td>2</td>\n",
       "    </tr>\n",
       "    <tr>\n",
       "      <th>1008212</th>\n",
       "      <td>1</td>\n",
       "    </tr>\n",
       "  </tbody>\n",
       "</table>\n",
       "<p>1008213 rows × 1 columns</p>\n",
       "</div>"
      ],
      "text/plain": [
       "         type\n",
       "0           0\n",
       "1           0\n",
       "2           2\n",
       "3           1\n",
       "4           0\n",
       "...       ...\n",
       "1008208     1\n",
       "1008209     2\n",
       "1008210     1\n",
       "1008211     2\n",
       "1008212     1\n",
       "\n",
       "[1008213 rows x 1 columns]"
      ]
     },
     "execution_count": 68,
     "metadata": {},
     "output_type": "execute_result"
    }
   ],
   "source": [
    "#on attribue dans un dataframe les valeurs catégoriques\n",
    "df_cat=df[var_cat]\n",
    "df_cat"
   ]
  },
  {
   "cell_type": "code",
   "execution_count": 69,
   "id": "fe2250ee",
   "metadata": {},
   "outputs": [
    {
     "data": {
      "text/html": [
       "<div>\n",
       "<style scoped>\n",
       "    .dataframe tbody tr th:only-of-type {\n",
       "        vertical-align: middle;\n",
       "    }\n",
       "\n",
       "    .dataframe tbody tr th {\n",
       "        vertical-align: top;\n",
       "    }\n",
       "\n",
       "    .dataframe thead th {\n",
       "        text-align: right;\n",
       "    }\n",
       "</style>\n",
       "<table border=\"1\" class=\"dataframe\">\n",
       "  <thead>\n",
       "    <tr style=\"text-align: right;\">\n",
       "      <th></th>\n",
       "      <th>step</th>\n",
       "      <th>amount</th>\n",
       "      <th>isFraud</th>\n",
       "    </tr>\n",
       "  </thead>\n",
       "  <tbody>\n",
       "    <tr>\n",
       "      <th>0</th>\n",
       "      <td>1</td>\n",
       "      <td>9839.64</td>\n",
       "      <td>0</td>\n",
       "    </tr>\n",
       "    <tr>\n",
       "      <th>1</th>\n",
       "      <td>1</td>\n",
       "      <td>1864.28</td>\n",
       "      <td>0</td>\n",
       "    </tr>\n",
       "    <tr>\n",
       "      <th>2</th>\n",
       "      <td>1</td>\n",
       "      <td>181.00</td>\n",
       "      <td>1</td>\n",
       "    </tr>\n",
       "    <tr>\n",
       "      <th>3</th>\n",
       "      <td>1</td>\n",
       "      <td>181.00</td>\n",
       "      <td>1</td>\n",
       "    </tr>\n",
       "    <tr>\n",
       "      <th>4</th>\n",
       "      <td>1</td>\n",
       "      <td>11668.14</td>\n",
       "      <td>0</td>\n",
       "    </tr>\n",
       "    <tr>\n",
       "      <th>...</th>\n",
       "      <td>...</td>\n",
       "      <td>...</td>\n",
       "      <td>...</td>\n",
       "    </tr>\n",
       "    <tr>\n",
       "      <th>1008208</th>\n",
       "      <td>743</td>\n",
       "      <td>339682.13</td>\n",
       "      <td>1</td>\n",
       "    </tr>\n",
       "    <tr>\n",
       "      <th>1008209</th>\n",
       "      <td>743</td>\n",
       "      <td>6311409.28</td>\n",
       "      <td>1</td>\n",
       "    </tr>\n",
       "    <tr>\n",
       "      <th>1008210</th>\n",
       "      <td>743</td>\n",
       "      <td>6311409.28</td>\n",
       "      <td>1</td>\n",
       "    </tr>\n",
       "    <tr>\n",
       "      <th>1008211</th>\n",
       "      <td>743</td>\n",
       "      <td>850002.52</td>\n",
       "      <td>1</td>\n",
       "    </tr>\n",
       "    <tr>\n",
       "      <th>1008212</th>\n",
       "      <td>743</td>\n",
       "      <td>850002.52</td>\n",
       "      <td>1</td>\n",
       "    </tr>\n",
       "  </tbody>\n",
       "</table>\n",
       "<p>1008213 rows × 3 columns</p>\n",
       "</div>"
      ],
      "text/plain": [
       "         step      amount  isFraud\n",
       "0           1     9839.64        0\n",
       "1           1     1864.28        0\n",
       "2           1      181.00        1\n",
       "3           1      181.00        1\n",
       "4           1    11668.14        0\n",
       "...       ...         ...      ...\n",
       "1008208   743   339682.13        1\n",
       "1008209   743  6311409.28        1\n",
       "1008210   743  6311409.28        1\n",
       "1008211   743   850002.52        1\n",
       "1008212   743   850002.52        1\n",
       "\n",
       "[1008213 rows x 3 columns]"
      ]
     },
     "execution_count": 69,
     "metadata": {},
     "output_type": "execute_result"
    }
   ],
   "source": [
    "#on attribue dans un dataframe les valeurs numériques\n",
    "df_num=df[var_num]\n",
    "df_num"
   ]
  },
  {
   "cell_type": "code",
   "execution_count": 70,
   "id": "0f385461",
   "metadata": {},
   "outputs": [
    {
     "data": {
      "text/html": [
       "<div>\n",
       "<style scoped>\n",
       "    .dataframe tbody tr th:only-of-type {\n",
       "        vertical-align: middle;\n",
       "    }\n",
       "\n",
       "    .dataframe tbody tr th {\n",
       "        vertical-align: top;\n",
       "    }\n",
       "\n",
       "    .dataframe thead th {\n",
       "        text-align: right;\n",
       "    }\n",
       "</style>\n",
       "<table border=\"1\" class=\"dataframe\">\n",
       "  <thead>\n",
       "    <tr style=\"text-align: right;\">\n",
       "      <th></th>\n",
       "      <th>type</th>\n",
       "      <th>step</th>\n",
       "      <th>amount</th>\n",
       "      <th>isFraud</th>\n",
       "    </tr>\n",
       "  </thead>\n",
       "  <tbody>\n",
       "    <tr>\n",
       "      <th>0</th>\n",
       "      <td>0</td>\n",
       "      <td>1</td>\n",
       "      <td>9839.64</td>\n",
       "      <td>0</td>\n",
       "    </tr>\n",
       "    <tr>\n",
       "      <th>1</th>\n",
       "      <td>0</td>\n",
       "      <td>1</td>\n",
       "      <td>1864.28</td>\n",
       "      <td>0</td>\n",
       "    </tr>\n",
       "    <tr>\n",
       "      <th>2</th>\n",
       "      <td>2</td>\n",
       "      <td>1</td>\n",
       "      <td>181.00</td>\n",
       "      <td>1</td>\n",
       "    </tr>\n",
       "    <tr>\n",
       "      <th>3</th>\n",
       "      <td>1</td>\n",
       "      <td>1</td>\n",
       "      <td>181.00</td>\n",
       "      <td>1</td>\n",
       "    </tr>\n",
       "    <tr>\n",
       "      <th>4</th>\n",
       "      <td>0</td>\n",
       "      <td>1</td>\n",
       "      <td>11668.14</td>\n",
       "      <td>0</td>\n",
       "    </tr>\n",
       "  </tbody>\n",
       "</table>\n",
       "</div>"
      ],
      "text/plain": [
       "   type  step    amount  isFraud\n",
       "0     0     1   9839.64        0\n",
       "1     0     1   1864.28        0\n",
       "2     2     1    181.00        1\n",
       "3     1     1    181.00        1\n",
       "4     0     1  11668.14        0"
      ]
     },
     "execution_count": 70,
     "metadata": {},
     "output_type": "execute_result"
    }
   ],
   "source": [
    "#Concatenage des 2 DataFrames pour vérifier\n",
    "df_encoded=pd.concat([df_cat,df_num], axis=1)\n",
    "df_encoded.head(5)"
   ]
  },
  {
   "cell_type": "code",
   "execution_count": 71,
   "id": "5d794d26",
   "metadata": {},
   "outputs": [
    {
     "data": {
      "text/plain": [
       "0          0\n",
       "1          0\n",
       "2          1\n",
       "3          1\n",
       "4          0\n",
       "          ..\n",
       "1008208    1\n",
       "1008209    1\n",
       "1008210    1\n",
       "1008211    1\n",
       "1008212    1\n",
       "Name: isFraud, Length: 1008213, dtype: int64"
      ]
     },
     "execution_count": 71,
     "metadata": {},
     "output_type": "execute_result"
    }
   ],
   "source": [
    "#On définit la Target qu'on met dans une variable y, ici \"isFraud\"\n",
    "y=df_encoded['isFraud']\n",
    "y"
   ]
  },
  {
   "cell_type": "code",
   "execution_count": 72,
   "id": "75cc9435",
   "metadata": {},
   "outputs": [
    {
     "data": {
      "text/html": [
       "<div>\n",
       "<style scoped>\n",
       "    .dataframe tbody tr th:only-of-type {\n",
       "        vertical-align: middle;\n",
       "    }\n",
       "\n",
       "    .dataframe tbody tr th {\n",
       "        vertical-align: top;\n",
       "    }\n",
       "\n",
       "    .dataframe thead th {\n",
       "        text-align: right;\n",
       "    }\n",
       "</style>\n",
       "<table border=\"1\" class=\"dataframe\">\n",
       "  <thead>\n",
       "    <tr style=\"text-align: right;\">\n",
       "      <th></th>\n",
       "      <th>type</th>\n",
       "      <th>step</th>\n",
       "      <th>amount</th>\n",
       "    </tr>\n",
       "  </thead>\n",
       "  <tbody>\n",
       "    <tr>\n",
       "      <th>0</th>\n",
       "      <td>0</td>\n",
       "      <td>1</td>\n",
       "      <td>9839.64</td>\n",
       "    </tr>\n",
       "    <tr>\n",
       "      <th>1</th>\n",
       "      <td>0</td>\n",
       "      <td>1</td>\n",
       "      <td>1864.28</td>\n",
       "    </tr>\n",
       "    <tr>\n",
       "      <th>2</th>\n",
       "      <td>2</td>\n",
       "      <td>1</td>\n",
       "      <td>181.00</td>\n",
       "    </tr>\n",
       "    <tr>\n",
       "      <th>3</th>\n",
       "      <td>1</td>\n",
       "      <td>1</td>\n",
       "      <td>181.00</td>\n",
       "    </tr>\n",
       "    <tr>\n",
       "      <th>4</th>\n",
       "      <td>0</td>\n",
       "      <td>1</td>\n",
       "      <td>11668.14</td>\n",
       "    </tr>\n",
       "    <tr>\n",
       "      <th>...</th>\n",
       "      <td>...</td>\n",
       "      <td>...</td>\n",
       "      <td>...</td>\n",
       "    </tr>\n",
       "    <tr>\n",
       "      <th>1008208</th>\n",
       "      <td>1</td>\n",
       "      <td>743</td>\n",
       "      <td>339682.13</td>\n",
       "    </tr>\n",
       "    <tr>\n",
       "      <th>1008209</th>\n",
       "      <td>2</td>\n",
       "      <td>743</td>\n",
       "      <td>6311409.28</td>\n",
       "    </tr>\n",
       "    <tr>\n",
       "      <th>1008210</th>\n",
       "      <td>1</td>\n",
       "      <td>743</td>\n",
       "      <td>6311409.28</td>\n",
       "    </tr>\n",
       "    <tr>\n",
       "      <th>1008211</th>\n",
       "      <td>2</td>\n",
       "      <td>743</td>\n",
       "      <td>850002.52</td>\n",
       "    </tr>\n",
       "    <tr>\n",
       "      <th>1008212</th>\n",
       "      <td>1</td>\n",
       "      <td>743</td>\n",
       "      <td>850002.52</td>\n",
       "    </tr>\n",
       "  </tbody>\n",
       "</table>\n",
       "<p>1008213 rows × 3 columns</p>\n",
       "</div>"
      ],
      "text/plain": [
       "         type  step      amount\n",
       "0           0     1     9839.64\n",
       "1           0     1     1864.28\n",
       "2           2     1      181.00\n",
       "3           1     1      181.00\n",
       "4           0     1    11668.14\n",
       "...       ...   ...         ...\n",
       "1008208     1   743   339682.13\n",
       "1008209     2   743  6311409.28\n",
       "1008210     1   743  6311409.28\n",
       "1008211     2   743   850002.52\n",
       "1008212     1   743   850002.52\n",
       "\n",
       "[1008213 rows x 3 columns]"
      ]
     },
     "execution_count": 72,
     "metadata": {},
     "output_type": "execute_result"
    }
   ],
   "source": [
    "#On met ensuite dans X les autres colonnes, sauf \"isFraud\"\n",
    "X=df_encoded.drop('isFraud', axis=1)\n",
    "X"
   ]
  },
  {
   "cell_type": "markdown",
   "id": "9b6fcd04",
   "metadata": {},
   "source": [
    "# Menu des modèles"
   ]
  },
  {
   "cell_type": "code",
   "execution_count": null,
   "id": "5a7cead5",
   "metadata": {
    "scrolled": false
   },
   "outputs": [
    {
     "name": "stdout",
     "output_type": "stream",
     "text": [
      "Utilisez les chiffres pour naviguer :\n",
      "1/ Modèle de Regression Logistique\n",
      "2/ Modèle d'Arbre de décision\n",
      "3/ Modèle de Random Forest\n",
      "Veuillez entrer un chiffre correspondant au menu souhaité : 1\n",
      "Utilisez les chiffres pour naviguer :\n",
      "1/ Regression logistique normale\n",
      "2/ Regression logistique par over-fitting (SMOTE)\n",
      "3/ Regression logistique par under-fitting (NearMiss)\n",
      "4/ Retour au menu principal\n",
      "Veuillez entrer un chiffre correspondant au menu souhaité : 2\n",
      "Modèle d'overfitting avec SMOTE\n"
     ]
    },
    {
     "data": {
      "image/png": "[encoded data removed]",
      "text/plain": [
       "<IPython.core.display.Image object>"
      ]
     },
     "metadata": {},
     "output_type": "display_data"
    },
    {
     "name": "stdout",
     "output_type": "stream",
     "text": [
      "Veuillez entrer un chiffre correspondant au menu souhaité : 4\n",
      "Utilisez les chiffres pour naviguer :\n",
      "1/ Modèle de Regression Logistique\n",
      "2/ Modèle d'Arbre de décision\n",
      "3/ Modèle de Random Forest\n",
      "Veuillez entrer un chiffre correspondant au menu souhaité : 3\n",
      "Utilisez les chiffres pour naviguer :\n",
      "1/ Random forest normale\n",
      "2/ Random forest par over-fitting (SMOTE)\n",
      "3/ Random forest par under-fitting (NearMiss)\n",
      "4/ Retour au menu principal\n",
      "Veuillez entrer un chiffre correspondant au menu souhaité : 1\n",
      "Modèle normale de random forest\n"
     ]
    },
    {
     "data": {
      "image/png": "[encoded data removed]",
      "text/plain": [
       "<IPython.core.display.Image object>"
      ]
     },
     "metadata": {},
     "output_type": "display_data"
    },
    {
     "name": "stdout",
     "output_type": "stream",
     "text": [
      "Veuillez entrer un chiffre correspondant au menu souhaité : 4\n",
      "Utilisez les chiffres pour naviguer :\n",
      "1/ Modèle de Regression Logistique\n",
      "2/ Modèle d'Arbre de décision\n",
      "3/ Modèle de Random Forest\n",
      "Veuillez entrer un chiffre correspondant au menu souhaité : 2\n",
      "Utilisez les chiffres pour naviguer :\n",
      "1/ Arbre de décision normal\n",
      "2/ Arbre de décision par over-fitting (SMOTE)\n",
      "3/ Arbre de décision par under-fitting (NearMiss)\n",
      "4/ Retour au menu principal\n",
      "Veuillez entrer un chiffre correspondant au menu souhaité : 3\n",
      "Modèle d'underfitting d'arbre de décision\n"
     ]
    },
    {
     "data": {
      "image/png": "[encoded data removed]",
      "text/plain": [
       "<IPython.core.display.Image object>"
      ]
     },
     "metadata": {},
     "output_type": "display_data"
    }
   ],
   "source": [
    "def main():\n",
    "    \n",
    "    print (\"Utilisez les chiffres pour naviguer :\")\n",
    "    print (\"1/ Modèle de Regression Logistique\")\n",
    "    print (\"2/ Modèle d'Arbre de décision\")\n",
    "    print (\"3/ Modèle de Random Forest\")\n",
    "    \n",
    "    #x doit etre un chiffre et sinon ne pas renvoyer d'erreurs\n",
    "    \n",
    "    x = True\n",
    "    while x != False: \n",
    "        x = input(\"Veuillez entrer un chiffre correspondant au menu souhaité : \")\n",
    "        #navigation\n",
    "        if x == \"1\" :\n",
    "            reg_log2()\n",
    "        elif x == \"2\" :\n",
    "            dt2()\n",
    "        elif x == \"3\" :\n",
    "            rf2()\n",
    "\n",
    "main()"
   ]
  },
  {
   "cell_type": "markdown",
   "id": "29322926",
   "metadata": {},
   "source": [
    "# Régression Logistique"
   ]
  },
  {
   "cell_type": "code",
   "execution_count": 26,
   "id": "04471cb2",
   "metadata": {},
   "outputs": [
    {
     "name": "stdout",
     "output_type": "stream",
     "text": [
      "Utilisez les chiffres pour naviguer :\n",
      "1/ Regression logistique normale\n",
      "2/ Regression logistique par over-fitting (SMOTE)\n",
      "3/ Regression logistique par under-fitting (NearMiss)\n",
      "4/ Retour au menu principal\n"
     ]
    },
    {
     "ename": "KeyboardInterrupt",
     "evalue": "Interrupted by user",
     "output_type": "error",
     "traceback": [
      "\u001b[1;31m---------------------------------------------------------------------------\u001b[0m",
      "\u001b[1;31mKeyboardInterrupt\u001b[0m                         Traceback (most recent call last)",
      "\u001b[1;32m<ipython-input-26-bcae00485a22>\u001b[0m in \u001b[0;36m<module>\u001b[1;34m\u001b[0m\n\u001b[0;32m     18\u001b[0m             \u001b[0mmain\u001b[0m\u001b[1;33m(\u001b[0m\u001b[1;33m)\u001b[0m\u001b[1;33m\u001b[0m\u001b[1;33m\u001b[0m\u001b[0m\n\u001b[0;32m     19\u001b[0m \u001b[1;33m\u001b[0m\u001b[0m\n\u001b[1;32m---> 20\u001b[1;33m \u001b[0mreg_log2\u001b[0m\u001b[1;33m(\u001b[0m\u001b[1;33m)\u001b[0m\u001b[1;33m\u001b[0m\u001b[1;33m\u001b[0m\u001b[0m\n\u001b[0m",
      "\u001b[1;32m<ipython-input-26-bcae00485a22>\u001b[0m in \u001b[0;36mreg_log2\u001b[1;34m()\u001b[0m\n\u001b[0;32m      8\u001b[0m     \u001b[0mx\u001b[0m \u001b[1;33m=\u001b[0m \u001b[1;32mTrue\u001b[0m\u001b[1;33m\u001b[0m\u001b[1;33m\u001b[0m\u001b[0m\n\u001b[0;32m      9\u001b[0m     \u001b[1;32mwhile\u001b[0m \u001b[0mx\u001b[0m \u001b[1;33m!=\u001b[0m \u001b[1;32mFalse\u001b[0m\u001b[1;33m:\u001b[0m\u001b[1;33m\u001b[0m\u001b[1;33m\u001b[0m\u001b[0m\n\u001b[1;32m---> 10\u001b[1;33m         \u001b[0mx\u001b[0m \u001b[1;33m=\u001b[0m \u001b[0minput\u001b[0m\u001b[1;33m(\u001b[0m\u001b[1;34m\"Veuillez entrer un chiffre correspondant au menu souhaité : \"\u001b[0m\u001b[1;33m)\u001b[0m\u001b[1;33m\u001b[0m\u001b[1;33m\u001b[0m\u001b[0m\n\u001b[0m\u001b[0;32m     11\u001b[0m         \u001b[1;32mif\u001b[0m \u001b[0mx\u001b[0m \u001b[1;33m==\u001b[0m \u001b[1;34m\"1\"\u001b[0m \u001b[1;33m:\u001b[0m\u001b[1;33m\u001b[0m\u001b[1;33m\u001b[0m\u001b[0m\n\u001b[0;32m     12\u001b[0m             \u001b[0mreg_log\u001b[0m\u001b[1;33m(\u001b[0m\u001b[1;33m)\u001b[0m\u001b[1;33m\u001b[0m\u001b[1;33m\u001b[0m\u001b[0m\n",
      "\u001b[1;32m~\\anaconda3\\lib\\site-packages\\ipykernel\\kernelbase.py\u001b[0m in \u001b[0;36mraw_input\u001b[1;34m(self, prompt)\u001b[0m\n\u001b[0;32m    858\u001b[0m                 \u001b[1;34m\"raw_input was called, but this frontend does not support input requests.\"\u001b[0m\u001b[1;33m\u001b[0m\u001b[1;33m\u001b[0m\u001b[0m\n\u001b[0;32m    859\u001b[0m             )\n\u001b[1;32m--> 860\u001b[1;33m         return self._input_request(str(prompt),\n\u001b[0m\u001b[0;32m    861\u001b[0m             \u001b[0mself\u001b[0m\u001b[1;33m.\u001b[0m\u001b[0m_parent_ident\u001b[0m\u001b[1;33m,\u001b[0m\u001b[1;33m\u001b[0m\u001b[1;33m\u001b[0m\u001b[0m\n\u001b[0;32m    862\u001b[0m             \u001b[0mself\u001b[0m\u001b[1;33m.\u001b[0m\u001b[0m_parent_header\u001b[0m\u001b[1;33m,\u001b[0m\u001b[1;33m\u001b[0m\u001b[1;33m\u001b[0m\u001b[0m\n",
      "\u001b[1;32m~\\anaconda3\\lib\\site-packages\\ipykernel\\kernelbase.py\u001b[0m in \u001b[0;36m_input_request\u001b[1;34m(self, prompt, ident, parent, password)\u001b[0m\n\u001b[0;32m    902\u001b[0m             \u001b[1;32mexcept\u001b[0m \u001b[0mKeyboardInterrupt\u001b[0m\u001b[1;33m:\u001b[0m\u001b[1;33m\u001b[0m\u001b[1;33m\u001b[0m\u001b[0m\n\u001b[0;32m    903\u001b[0m                 \u001b[1;31m# re-raise KeyboardInterrupt, to truncate traceback\u001b[0m\u001b[1;33m\u001b[0m\u001b[1;33m\u001b[0m\u001b[1;33m\u001b[0m\u001b[0m\n\u001b[1;32m--> 904\u001b[1;33m                 \u001b[1;32mraise\u001b[0m \u001b[0mKeyboardInterrupt\u001b[0m\u001b[1;33m(\u001b[0m\u001b[1;34m\"Interrupted by user\"\u001b[0m\u001b[1;33m)\u001b[0m \u001b[1;32mfrom\u001b[0m \u001b[1;32mNone\u001b[0m\u001b[1;33m\u001b[0m\u001b[1;33m\u001b[0m\u001b[0m\n\u001b[0m\u001b[0;32m    905\u001b[0m             \u001b[1;32mexcept\u001b[0m \u001b[0mException\u001b[0m \u001b[1;32mas\u001b[0m \u001b[0me\u001b[0m\u001b[1;33m:\u001b[0m\u001b[1;33m\u001b[0m\u001b[1;33m\u001b[0m\u001b[0m\n\u001b[0;32m    906\u001b[0m                 \u001b[0mself\u001b[0m\u001b[1;33m.\u001b[0m\u001b[0mlog\u001b[0m\u001b[1;33m.\u001b[0m\u001b[0mwarning\u001b[0m\u001b[1;33m(\u001b[0m\u001b[1;34m\"Invalid Message:\"\u001b[0m\u001b[1;33m,\u001b[0m \u001b[0mexc_info\u001b[0m\u001b[1;33m=\u001b[0m\u001b[1;32mTrue\u001b[0m\u001b[1;33m)\u001b[0m\u001b[1;33m\u001b[0m\u001b[1;33m\u001b[0m\u001b[0m\n",
      "\u001b[1;31mKeyboardInterrupt\u001b[0m: Interrupted by user"
     ]
    }
   ],
   "source": [
    "def reg_log2() :\n",
    "    print(\"Utilisez les chiffres pour naviguer :\")\n",
    "    print (\"1/ Regression logistique normale\")\n",
    "    print (\"2/ Regression logistique par over-fitting (SMOTE)\")\n",
    "    print (\"3/ Regression logistique par under-fitting (NearMiss)\")\n",
    "    print (\"4/ Retour au menu principal\")\n",
    "    #x doit etre un chiffre et sinon ne pas renvoyer d'erreurs\n",
    "    x = True\n",
    "    while x != False: \n",
    "        x = input(\"Veuillez entrer un chiffre correspondant au menu souhaité : \")\n",
    "        if x == \"1\" :\n",
    "            reg_log()\n",
    "        elif x == \"2\" :\n",
    "            reg_log_smote()\n",
    "        elif x == \"3\" :\n",
    "            reg_log_nm()\n",
    "        elif x == \"4\" :\n",
    "            main()\n",
    "            \n",
    "reg_log2()"
   ]
  },
  {
   "cell_type": "code",
   "execution_count": null,
   "id": "bdcf7a96",
   "metadata": {},
   "outputs": [],
   "source": [
    "#gridsearch qui a permis de trouver le meilleur solver\n",
    "#from sklearn.model_selection import GridSearchCV\n",
    "#params = {'solver':['liblinear','newton-cg','saga','sag','lbfgs'],}\n",
    "#grid = GridSearchCV(LogisticRegression(),params)\n",
    "#grid.fit(x_train,y_train)\n",
    "#print(grid.best_params_);"
   ]
  },
  {
   "cell_type": "markdown",
   "id": "7cdba35c",
   "metadata": {},
   "source": [
    "# Régression logistique normale"
   ]
  },
  {
   "cell_type": "code",
   "execution_count": 27,
   "id": "1b1c7eff",
   "metadata": {},
   "outputs": [
    {
     "name": "stdout",
     "output_type": "stream",
     "text": [
      "Modèle de régression logistique\n"
     ]
    },
    {
     "data": {
      "image/png": "[encoded data removed]",
      "text/plain": [
       "<IPython.core.display.Image object>"
      ]
     },
     "metadata": {},
     "output_type": "display_data"
    }
   ],
   "source": [
    "def reg_log():\n",
    "    \n",
    "    #redéfinition des variables\n",
    "    #X=df_encoded.drop('isFraud', axis=1)\n",
    "    #y=df_encoded['isFraud']\n",
    "    \n",
    "    # spécifier la partie test et la partie train (20% - 80%)\n",
    "    #x_train,x_test,y_train,y_test=ytrain_test_split(X,y,test_size=0.2,random_state=42)\n",
    "    \n",
    "    # instancier le modèle\n",
    "    #clf=LogisticRegression(solver='newton-cg')\n",
    "    \n",
    "    # entraîner le modèle\n",
    "    #clf.fit(x_train,y_train)\n",
    "    #pred=clf.predict(x_test)\n",
    "    \n",
    "    #print(\"La précision du modèle de regression logistique normale s'élève à :\", accuracy_score(y_test,pred)*100, \"%\")\n",
    "    \n",
    "    #plot_confusion_matrix(clf, x_test, y_test)  \n",
    "    #plt.show()\n",
    "    \n",
    "    #print(classification_report(y_test,pred))\n",
    "    \n",
    "    #affichage de la capture des résultats\n",
    "    print(\"Modèle de régression logistique\")\n",
    "    display(Image(filename='reg_log.png')) \n",
    "    \n",
    "    \n",
    "    \n",
    "reg_log()"
   ]
  },
  {
   "cell_type": "markdown",
   "id": "61afb783",
   "metadata": {},
   "source": [
    "# Régression logistique avec SMOTE"
   ]
  },
  {
   "cell_type": "code",
   "execution_count": 44,
   "id": "2c1de2ae",
   "metadata": {},
   "outputs": [
    {
     "name": "stdout",
     "output_type": "stream",
     "text": [
      "Modèle d'overfitting avec SMOTE\n"
     ]
    },
    {
     "data": {
      "image/png": "[encoded data removed]",
      "text/plain": [
       "<IPython.core.display.Image object>"
      ]
     },
     "metadata": {},
     "output_type": "display_data"
    }
   ],
   "source": [
    "def reg_log_smote():\n",
    "    \n",
    "    #redéfinition des variables\n",
    "    #X=df_encoded.drop('isFraud', axis=1)\n",
    "    #y=df_encoded['isFraud']\n",
    "\n",
    "    #data = df.values\n",
    "    \n",
    "    #mise en place du SMOTE\n",
    "    #seed = 5\n",
    "    #smote = SMOTE(sampling_strategy='auto', random_state=seed,k_neighbors=7)\n",
    "    #x_smote, y_smote = smote.fit_sample(X, y)\n",
    "    #summarize distribution\n",
    "    #print(smote)\n",
    "\n",
    "    #x_train,x_test,y_train,y_test=train_test_split(x_smote,y_smote,test_size=0.2,random_state=42)\n",
    "\n",
    "        # instancier le modèle\n",
    "    #clf=LogisticRegression(solver='newton-cg')\n",
    "\n",
    "        # entraîner le modèle\n",
    "    #clf.fit(x_train,y_train)\n",
    "    #pred=clf.predict(x_test)\n",
    "\n",
    "    #print(\"La précision du modèle de regression logistique avec SMOTE s'élève à :\", accuracy_score(y_test,pred)*100, \"%\")\n",
    "\n",
    "    #plot_confusion_matrix(clf, x_smote, y_smote)  \n",
    "    #plt.show()\n",
    "\n",
    "    #print(classification_report(y_test,pred))\n",
    "    \n",
    "    #affichage de la capture des résultats\n",
    "    print(\"Modèle d'overfitting avec SMOTE\")\n",
    "    display(Image(filename='reg_log_smote.png')) \n",
    "\n",
    "reg_log_smote()"
   ]
  },
  {
   "cell_type": "markdown",
   "id": "5e7df8af",
   "metadata": {},
   "source": [
    "# Régression logistique avec NearMiss"
   ]
  },
  {
   "cell_type": "code",
   "execution_count": 46,
   "id": "a82c5e5b",
   "metadata": {},
   "outputs": [
    {
     "name": "stdout",
     "output_type": "stream",
     "text": [
      "Modèle d'underfitting avec NearMiss\n"
     ]
    },
    {
     "data": {
      "image/png": "[encoded data removed]",
      "text/plain": [
       "<IPython.core.display.Image object>"
      ]
     },
     "metadata": {},
     "output_type": "display_data"
    }
   ],
   "source": [
    "def reg_log_nm():\n",
    "    \n",
    "    \n",
    "    #redéfinition de X et y\n",
    "    #X=df_encoded.drop('isFraud', axis=1)\n",
    "    #y=df_encoded['isFraud']\n",
    "    \n",
    "    #data = df.values\n",
    "    \n",
    "    #y = LabelEncoder().fit_transform(y)\n",
    "    \n",
    "    #répartir les variables équitablement, mise en place du NearMiss\n",
    "    #distribution_of_samples = {0:8213, 1:8213}\n",
    "    #nearmiss = NearMiss(sampling_strategy = distribution_of_samples)\n",
    "    #x_under_samples, y_under_samples = nearmiss.fit_sample(X,y)\n",
    "    \n",
    "    #print(nearmiss)\n",
    "    \n",
    "    \n",
    "    #x_train,x_test,y_train,y_test=train_test_split(x_under_samples,y_under_samples,test_size=0.2,random_state=42)\n",
    "\n",
    "        # instancier le modèle\n",
    "    #clf=LogisticRegression(solver='newton-cg')\n",
    "\n",
    "        # entraîner le modèle\n",
    "    #clf.fit(x_train,y_train)\n",
    "    #pred=clf.predict(x_test)\n",
    "    \n",
    "    #print(\"La précision du modèle de regression logistique avec NearMiss s'élève à :\", accuracy_score(y_test,pred)*100, \"%\")\n",
    "    \n",
    "    #plot_confusion_matrix(clf, x_under_samples, y_under_samples)\n",
    "    #plt.show()\n",
    "    \n",
    "    #print(classification_report(y_test,pred))\n",
    "    \n",
    "    #affichage de la capture des résultats\n",
    "    print(\"Modèle d'underfitting avec NearMiss\")\n",
    "    display(Image(filename='reg_log_nm.png')) \n",
    "    \n",
    "    \n",
    "    \n",
    "reg_log_nm()    "
   ]
  },
  {
   "cell_type": "markdown",
   "id": "b57f96b9",
   "metadata": {},
   "source": [
    "# Arbre de décision"
   ]
  },
  {
   "cell_type": "code",
   "execution_count": 30,
   "id": "09cac0ab",
   "metadata": {},
   "outputs": [
    {
     "name": "stdout",
     "output_type": "stream",
     "text": [
      "Utilisez les chiffres pour naviguer :\n",
      "1/ Arbre de décision normal\n",
      "2/ Arbre de décision par over-fitting (SMOTE)\n",
      "3/ Arbre de décision par under-fitting (NearMiss)\n",
      "4/ Retour au menu principal\n"
     ]
    },
    {
     "ename": "KeyboardInterrupt",
     "evalue": "Interrupted by user",
     "output_type": "error",
     "traceback": [
      "\u001b[1;31m---------------------------------------------------------------------------\u001b[0m",
      "\u001b[1;31mKeyboardInterrupt\u001b[0m                         Traceback (most recent call last)",
      "\u001b[1;32m<ipython-input-30-ff314052a8e4>\u001b[0m in \u001b[0;36m<module>\u001b[1;34m\u001b[0m\n\u001b[0;32m     18\u001b[0m             \u001b[0mmain\u001b[0m\u001b[1;33m(\u001b[0m\u001b[1;33m)\u001b[0m\u001b[1;33m\u001b[0m\u001b[1;33m\u001b[0m\u001b[0m\n\u001b[0;32m     19\u001b[0m \u001b[1;33m\u001b[0m\u001b[0m\n\u001b[1;32m---> 20\u001b[1;33m \u001b[0mdt2\u001b[0m\u001b[1;33m(\u001b[0m\u001b[1;33m)\u001b[0m\u001b[1;33m\u001b[0m\u001b[1;33m\u001b[0m\u001b[0m\n\u001b[0m",
      "\u001b[1;32m<ipython-input-30-ff314052a8e4>\u001b[0m in \u001b[0;36mdt2\u001b[1;34m()\u001b[0m\n\u001b[0;32m      8\u001b[0m     \u001b[0mx\u001b[0m \u001b[1;33m=\u001b[0m \u001b[1;32mTrue\u001b[0m\u001b[1;33m\u001b[0m\u001b[1;33m\u001b[0m\u001b[0m\n\u001b[0;32m      9\u001b[0m     \u001b[1;32mwhile\u001b[0m \u001b[0mx\u001b[0m \u001b[1;33m!=\u001b[0m \u001b[1;32mFalse\u001b[0m\u001b[1;33m:\u001b[0m\u001b[1;33m\u001b[0m\u001b[1;33m\u001b[0m\u001b[0m\n\u001b[1;32m---> 10\u001b[1;33m         \u001b[0mx\u001b[0m \u001b[1;33m=\u001b[0m \u001b[0minput\u001b[0m\u001b[1;33m(\u001b[0m\u001b[1;34m\"Veuillez entrer un chiffre correspondant au menu souhaité : \"\u001b[0m\u001b[1;33m)\u001b[0m\u001b[1;33m\u001b[0m\u001b[1;33m\u001b[0m\u001b[0m\n\u001b[0m\u001b[0;32m     11\u001b[0m         \u001b[1;32mif\u001b[0m \u001b[0mx\u001b[0m \u001b[1;33m==\u001b[0m \u001b[1;34m\"1\"\u001b[0m \u001b[1;33m:\u001b[0m\u001b[1;33m\u001b[0m\u001b[1;33m\u001b[0m\u001b[0m\n\u001b[0;32m     12\u001b[0m             \u001b[0mdt\u001b[0m\u001b[1;33m(\u001b[0m\u001b[1;33m)\u001b[0m\u001b[1;33m\u001b[0m\u001b[1;33m\u001b[0m\u001b[0m\n",
      "\u001b[1;32m~\\anaconda3\\lib\\site-packages\\ipykernel\\kernelbase.py\u001b[0m in \u001b[0;36mraw_input\u001b[1;34m(self, prompt)\u001b[0m\n\u001b[0;32m    858\u001b[0m                 \u001b[1;34m\"raw_input was called, but this frontend does not support input requests.\"\u001b[0m\u001b[1;33m\u001b[0m\u001b[1;33m\u001b[0m\u001b[0m\n\u001b[0;32m    859\u001b[0m             )\n\u001b[1;32m--> 860\u001b[1;33m         return self._input_request(str(prompt),\n\u001b[0m\u001b[0;32m    861\u001b[0m             \u001b[0mself\u001b[0m\u001b[1;33m.\u001b[0m\u001b[0m_parent_ident\u001b[0m\u001b[1;33m,\u001b[0m\u001b[1;33m\u001b[0m\u001b[1;33m\u001b[0m\u001b[0m\n\u001b[0;32m    862\u001b[0m             \u001b[0mself\u001b[0m\u001b[1;33m.\u001b[0m\u001b[0m_parent_header\u001b[0m\u001b[1;33m,\u001b[0m\u001b[1;33m\u001b[0m\u001b[1;33m\u001b[0m\u001b[0m\n",
      "\u001b[1;32m~\\anaconda3\\lib\\site-packages\\ipykernel\\kernelbase.py\u001b[0m in \u001b[0;36m_input_request\u001b[1;34m(self, prompt, ident, parent, password)\u001b[0m\n\u001b[0;32m    902\u001b[0m             \u001b[1;32mexcept\u001b[0m \u001b[0mKeyboardInterrupt\u001b[0m\u001b[1;33m:\u001b[0m\u001b[1;33m\u001b[0m\u001b[1;33m\u001b[0m\u001b[0m\n\u001b[0;32m    903\u001b[0m                 \u001b[1;31m# re-raise KeyboardInterrupt, to truncate traceback\u001b[0m\u001b[1;33m\u001b[0m\u001b[1;33m\u001b[0m\u001b[1;33m\u001b[0m\u001b[0m\n\u001b[1;32m--> 904\u001b[1;33m                 \u001b[1;32mraise\u001b[0m \u001b[0mKeyboardInterrupt\u001b[0m\u001b[1;33m(\u001b[0m\u001b[1;34m\"Interrupted by user\"\u001b[0m\u001b[1;33m)\u001b[0m \u001b[1;32mfrom\u001b[0m \u001b[1;32mNone\u001b[0m\u001b[1;33m\u001b[0m\u001b[1;33m\u001b[0m\u001b[0m\n\u001b[0m\u001b[0;32m    905\u001b[0m             \u001b[1;32mexcept\u001b[0m \u001b[0mException\u001b[0m \u001b[1;32mas\u001b[0m \u001b[0me\u001b[0m\u001b[1;33m:\u001b[0m\u001b[1;33m\u001b[0m\u001b[1;33m\u001b[0m\u001b[0m\n\u001b[0;32m    906\u001b[0m                 \u001b[0mself\u001b[0m\u001b[1;33m.\u001b[0m\u001b[0mlog\u001b[0m\u001b[1;33m.\u001b[0m\u001b[0mwarning\u001b[0m\u001b[1;33m(\u001b[0m\u001b[1;34m\"Invalid Message:\"\u001b[0m\u001b[1;33m,\u001b[0m \u001b[0mexc_info\u001b[0m\u001b[1;33m=\u001b[0m\u001b[1;32mTrue\u001b[0m\u001b[1;33m)\u001b[0m\u001b[1;33m\u001b[0m\u001b[1;33m\u001b[0m\u001b[0m\n",
      "\u001b[1;31mKeyboardInterrupt\u001b[0m: Interrupted by user"
     ]
    }
   ],
   "source": [
    "def dt2():\n",
    "    print(\"Utilisez les chiffres pour naviguer :\")\n",
    "    print (\"1/ Arbre de décision normal\")\n",
    "    print (\"2/ Arbre de décision par over-fitting (SMOTE)\")\n",
    "    print (\"3/ Arbre de décision par under-fitting (NearMiss)\")\n",
    "    print (\"4/ Retour au menu principal\")\n",
    "    #x doit etre un chiffre et sinon ne pas renvoyer d'erreurs\n",
    "    x = True\n",
    "    while x != False: \n",
    "        x = input(\"Veuillez entrer un chiffre correspondant au menu souhaité : \")\n",
    "        if x == \"1\" :\n",
    "            dt()\n",
    "        elif x == \"2\" :\n",
    "            dtsmote()\n",
    "        elif x == \"3\" :\n",
    "            dtnm()\n",
    "        elif x == \"4\" :\n",
    "            main()\n",
    "            \n",
    "dt2()"
   ]
  },
  {
   "cell_type": "markdown",
   "id": "517fadac",
   "metadata": {},
   "source": [
    "# Arbre de décision normal"
   ]
  },
  {
   "cell_type": "code",
   "execution_count": 31,
   "id": "21aaea1b",
   "metadata": {},
   "outputs": [
    {
     "name": "stdout",
     "output_type": "stream",
     "text": [
      "Modèle normal d'arbre de décision\n"
     ]
    },
    {
     "data": {
      "image/png": "[encoded data removed]",
      "text/plain": [
       "<IPython.core.display.Image object>"
      ]
     },
     "metadata": {},
     "output_type": "display_data"
    }
   ],
   "source": [
    "def dt():\n",
    "\n",
    "    #X=df_encoded.drop('isFraud', axis=1)\n",
    "    #y=df_encoded['isFraud']\n",
    "    \n",
    "    \n",
    "    #X_train,X_test,y_train,y_test=train_test_split(X,y,test_size=0.2,random_state=6)\n",
    "    #decision_tree = DecisionTreeClassifier(criterion = \"entropy\", random_state=0)\n",
    "    #decision_tree = decision_tree.fit(X_train, y_train)\n",
    "    \n",
    "    #pred=decision_tree.predict(X_test)\n",
    "    \n",
    "    #print(\"La précision du modèle d'arbre de décision normal s'élève à :\", accuracy_score(y_test,pred)*100, \"%\")\n",
    "    \n",
    "    #plot_confusion_matrix(decision_tree, X_test, y_test)  \n",
    "    #plt.show()\n",
    "    \n",
    "    #print(classification_report(y_test,pred))\n",
    "    \n",
    "    #permet d'exporter l'arbre et de le récupérer en PDF\n",
    "    #dot_data = tree.export_graphviz(decision_tree, out_file=None, feature_names=X.columns) \n",
    "    #graph = graphviz.Source(dot_data) \n",
    "    #graph.render(\"bank\")\n",
    "    \n",
    "    print(\"Modèle normal d'arbre de décision\")\n",
    "    display(Image(filename='dt.png'))\n",
    "    \n",
    "dt()"
   ]
  },
  {
   "cell_type": "markdown",
   "id": "e8837354",
   "metadata": {},
   "source": [
    "# Arbre de décision avec SMOTE "
   ]
  },
  {
   "cell_type": "code",
   "execution_count": 48,
   "id": "c9eb7d91",
   "metadata": {},
   "outputs": [
    {
     "name": "stdout",
     "output_type": "stream",
     "text": [
      "Modèle d'overfitting d'arbre de décision\n"
     ]
    },
    {
     "data": {
      "image/png": "[encoded data removed]",
      "text/plain": [
       "<IPython.core.display.Image object>"
      ]
     },
     "metadata": {},
     "output_type": "display_data"
    }
   ],
   "source": [
    "def dtsmote():\n",
    "    \n",
    "    \n",
    "    #on redéfini les variables\n",
    "    #X=df_encoded.drop('isFraud', axis=1)\n",
    "    #y=df_encoded['isFraud']\n",
    "    \n",
    "    \n",
    "    #data = df.values\n",
    "    \n",
    "    #mise en place du SMOTE\n",
    "    #seed = 5\n",
    "    #smote = SMOTE(sampling_strategy='auto', random_state=seed,k_neighbors=7)\n",
    "    #X_smote, y_smote = smote.fit_sample(X, y)\n",
    "    \n",
    "    #print(smote)\n",
    "    \n",
    "    #X_train,X_test,y_train,y_test=train_test_split(X_smote,y_smote,test_size=0.2,random_state=6)\n",
    "    #decision_tree = DecisionTreeClassifier(criterion = \"entropy\", random_state=0)\n",
    "    #decision_tree = decision_tree.fit(X_train, y_train)\n",
    "    \n",
    "    #pred=decision_tree.predict(X_test)\n",
    "    \n",
    "    #print(\"La précision du modèle d'arbre de décision avec SMOTE s'élève à :\", accuracy_score(y_test,pred)*100, \"%\")\n",
    "    \n",
    "    #plot_confusion_matrix(decision_tree, X_smote, y_smote)  \n",
    "    #plt.show()\n",
    "    \n",
    "    #print(classification_report(y_test,pred))\n",
    "    \n",
    "    #permet d'exporter l'arbre et de le récupérer en PDF\n",
    "    #dot_data = tree.export_graphviz(decision_tree, out_file=None, feature_names=X.columns) \n",
    "    #graph = graphviz.Source(dot_data) \n",
    "    #graph.render(\"bank\")\n",
    "    \n",
    "    print(\"Modèle d'overfitting d'arbre de décision\")\n",
    "    display(Image(filename='dtsmote.png'))    \n",
    "    \n",
    "dtsmote()    "
   ]
  },
  {
   "cell_type": "markdown",
   "id": "ca231e22",
   "metadata": {},
   "source": [
    "# Arbre de décision avec NearMiss"
   ]
  },
  {
   "cell_type": "code",
   "execution_count": 79,
   "id": "ee12d867",
   "metadata": {},
   "outputs": [
    {
     "name": "stdout",
     "output_type": "stream",
     "text": [
      "Modèle d'underfitting d'arbre de décision\n"
     ]
    },
    {
     "data": {
      "image/png": "[encoded data removed]",
      "text/plain": [
       "<IPython.core.display.Image object>"
      ]
     },
     "metadata": {},
     "output_type": "display_data"
    }
   ],
   "source": [
    "def dtnm():\n",
    "\n",
    "    #X=df_encoded.drop('isFraud', axis=1)\n",
    "    #y=df_encoded['isFraud']\n",
    "    \n",
    "    #data = df.values\n",
    "    \n",
    "    #y = LabelEncoder().fit_transform(y)\n",
    "    \n",
    "    #distribution_of_samples = {0:8213, 1:8213}\n",
    "    #nearmiss = NearMiss(sampling_strategy = distribution_of_samples)\n",
    "    #X_under_samples, y_under_samples = nearmiss.fit_sample(X,y)\n",
    "    \n",
    "    #print(nearmiss)\n",
    "\n",
    "    #X_train,X_test,y_train,y_test=train_test_split(X_under_samples,y_under_samples,test_size=0.2,random_state=6)\n",
    "    #decision_tree = DecisionTreeClassifier(criterion = \"entropy\", random_state=0)\n",
    "    #decision_tree = decision_tree.fit(X_train, y_train)\n",
    "    \n",
    "    #pred=decision_tree.predict(X_test)\n",
    "    \n",
    "    #print(\"La précision du modèle d'arbre de décision avec NearMiss s'élève à :\", accuracy_score(y_test,pred)*100, \"%\")\n",
    "    \n",
    "    #plot_confusion_matrix(decision_tree, X_under_samples, y_under_samples)  \n",
    "    #plt.show()\n",
    "    \n",
    "    #print(classification_report(y_test,pred))\n",
    "    \n",
    "    #permet d'exporter l'arbre et de le récupérer en PDF\n",
    "    #dot_data = tree.export_graphviz(decision_tree, out_file=None, feature_names=X.columns) \n",
    "    #graph = graphviz.Source(dot_data) \n",
    "    #graph.render(\"bank\") \n",
    "    \n",
    "    print(\"Modèle d'underfitting d'arbre de décision\")\n",
    "    display(Image(filename='dtnm.png'))\n",
    "    \n",
    "dtnm()    "
   ]
  },
  {
   "cell_type": "markdown",
   "id": "3e9d28f2",
   "metadata": {},
   "source": [
    "# Random Forest"
   ]
  },
  {
   "cell_type": "code",
   "execution_count": 34,
   "id": "b67cb07c",
   "metadata": {},
   "outputs": [
    {
     "name": "stdout",
     "output_type": "stream",
     "text": [
      "Utilisez les chiffres pour naviguer :\n",
      "1/ Arbre de décision normal\n",
      "2/ Arbre de décision par over-fitting (SMOTE)\n",
      "3/ Arbre de décision par under-fitting (NearMiss)\n",
      "4/ Retour au menu principal\n"
     ]
    },
    {
     "ename": "KeyboardInterrupt",
     "evalue": "Interrupted by user",
     "output_type": "error",
     "traceback": [
      "\u001b[1;31m---------------------------------------------------------------------------\u001b[0m",
      "\u001b[1;31mKeyboardInterrupt\u001b[0m                         Traceback (most recent call last)",
      "\u001b[1;32m<ipython-input-34-d7d0df22a8f5>\u001b[0m in \u001b[0;36m<module>\u001b[1;34m\u001b[0m\n\u001b[0;32m     18\u001b[0m             \u001b[0mmain\u001b[0m\u001b[1;33m(\u001b[0m\u001b[1;33m)\u001b[0m\u001b[1;33m\u001b[0m\u001b[1;33m\u001b[0m\u001b[0m\n\u001b[0;32m     19\u001b[0m \u001b[1;33m\u001b[0m\u001b[0m\n\u001b[1;32m---> 20\u001b[1;33m \u001b[0mdt2\u001b[0m\u001b[1;33m(\u001b[0m\u001b[1;33m)\u001b[0m\u001b[1;33m\u001b[0m\u001b[1;33m\u001b[0m\u001b[0m\n\u001b[0m",
      "\u001b[1;32m<ipython-input-30-ff314052a8e4>\u001b[0m in \u001b[0;36mdt2\u001b[1;34m()\u001b[0m\n\u001b[0;32m      8\u001b[0m     \u001b[0mx\u001b[0m \u001b[1;33m=\u001b[0m \u001b[1;32mTrue\u001b[0m\u001b[1;33m\u001b[0m\u001b[1;33m\u001b[0m\u001b[0m\n\u001b[0;32m      9\u001b[0m     \u001b[1;32mwhile\u001b[0m \u001b[0mx\u001b[0m \u001b[1;33m!=\u001b[0m \u001b[1;32mFalse\u001b[0m\u001b[1;33m:\u001b[0m\u001b[1;33m\u001b[0m\u001b[1;33m\u001b[0m\u001b[0m\n\u001b[1;32m---> 10\u001b[1;33m         \u001b[0mx\u001b[0m \u001b[1;33m=\u001b[0m \u001b[0minput\u001b[0m\u001b[1;33m(\u001b[0m\u001b[1;34m\"Veuillez entrer un chiffre correspondant au menu souhaité : \"\u001b[0m\u001b[1;33m)\u001b[0m\u001b[1;33m\u001b[0m\u001b[1;33m\u001b[0m\u001b[0m\n\u001b[0m\u001b[0;32m     11\u001b[0m         \u001b[1;32mif\u001b[0m \u001b[0mx\u001b[0m \u001b[1;33m==\u001b[0m \u001b[1;34m\"1\"\u001b[0m \u001b[1;33m:\u001b[0m\u001b[1;33m\u001b[0m\u001b[1;33m\u001b[0m\u001b[0m\n\u001b[0;32m     12\u001b[0m             \u001b[0mdt\u001b[0m\u001b[1;33m(\u001b[0m\u001b[1;33m)\u001b[0m\u001b[1;33m\u001b[0m\u001b[1;33m\u001b[0m\u001b[0m\n",
      "\u001b[1;32m~\\anaconda3\\lib\\site-packages\\ipykernel\\kernelbase.py\u001b[0m in \u001b[0;36mraw_input\u001b[1;34m(self, prompt)\u001b[0m\n\u001b[0;32m    858\u001b[0m                 \u001b[1;34m\"raw_input was called, but this frontend does not support input requests.\"\u001b[0m\u001b[1;33m\u001b[0m\u001b[1;33m\u001b[0m\u001b[0m\n\u001b[0;32m    859\u001b[0m             )\n\u001b[1;32m--> 860\u001b[1;33m         return self._input_request(str(prompt),\n\u001b[0m\u001b[0;32m    861\u001b[0m             \u001b[0mself\u001b[0m\u001b[1;33m.\u001b[0m\u001b[0m_parent_ident\u001b[0m\u001b[1;33m,\u001b[0m\u001b[1;33m\u001b[0m\u001b[1;33m\u001b[0m\u001b[0m\n\u001b[0;32m    862\u001b[0m             \u001b[0mself\u001b[0m\u001b[1;33m.\u001b[0m\u001b[0m_parent_header\u001b[0m\u001b[1;33m,\u001b[0m\u001b[1;33m\u001b[0m\u001b[1;33m\u001b[0m\u001b[0m\n",
      "\u001b[1;32m~\\anaconda3\\lib\\site-packages\\ipykernel\\kernelbase.py\u001b[0m in \u001b[0;36m_input_request\u001b[1;34m(self, prompt, ident, parent, password)\u001b[0m\n\u001b[0;32m    902\u001b[0m             \u001b[1;32mexcept\u001b[0m \u001b[0mKeyboardInterrupt\u001b[0m\u001b[1;33m:\u001b[0m\u001b[1;33m\u001b[0m\u001b[1;33m\u001b[0m\u001b[0m\n\u001b[0;32m    903\u001b[0m                 \u001b[1;31m# re-raise KeyboardInterrupt, to truncate traceback\u001b[0m\u001b[1;33m\u001b[0m\u001b[1;33m\u001b[0m\u001b[1;33m\u001b[0m\u001b[0m\n\u001b[1;32m--> 904\u001b[1;33m                 \u001b[1;32mraise\u001b[0m \u001b[0mKeyboardInterrupt\u001b[0m\u001b[1;33m(\u001b[0m\u001b[1;34m\"Interrupted by user\"\u001b[0m\u001b[1;33m)\u001b[0m \u001b[1;32mfrom\u001b[0m \u001b[1;32mNone\u001b[0m\u001b[1;33m\u001b[0m\u001b[1;33m\u001b[0m\u001b[0m\n\u001b[0m\u001b[0;32m    905\u001b[0m             \u001b[1;32mexcept\u001b[0m \u001b[0mException\u001b[0m \u001b[1;32mas\u001b[0m \u001b[0me\u001b[0m\u001b[1;33m:\u001b[0m\u001b[1;33m\u001b[0m\u001b[1;33m\u001b[0m\u001b[0m\n\u001b[0;32m    906\u001b[0m                 \u001b[0mself\u001b[0m\u001b[1;33m.\u001b[0m\u001b[0mlog\u001b[0m\u001b[1;33m.\u001b[0m\u001b[0mwarning\u001b[0m\u001b[1;33m(\u001b[0m\u001b[1;34m\"Invalid Message:\"\u001b[0m\u001b[1;33m,\u001b[0m \u001b[0mexc_info\u001b[0m\u001b[1;33m=\u001b[0m\u001b[1;32mTrue\u001b[0m\u001b[1;33m)\u001b[0m\u001b[1;33m\u001b[0m\u001b[1;33m\u001b[0m\u001b[0m\n",
      "\u001b[1;31mKeyboardInterrupt\u001b[0m: Interrupted by user"
     ]
    }
   ],
   "source": [
    "def rf2():\n",
    "    print(\"Utilisez les chiffres pour naviguer :\")\n",
    "    print (\"1/ Random forest normale\")\n",
    "    print (\"2/ Random forest par over-fitting (SMOTE)\")\n",
    "    print (\"3/ Random forest par under-fitting (NearMiss)\")\n",
    "    print (\"4/ Retour au menu principal\")\n",
    "    #x doit etre un chiffre et sinon ne pas renvoyer d'erreurs\n",
    "    x = True\n",
    "    while x != False: \n",
    "        x = input(\"Veuillez entrer un chiffre correspondant au menu souhaité : \")\n",
    "        if x == \"1\" :\n",
    "            rf()\n",
    "        elif x == \"2\" :\n",
    "            rfsmote()\n",
    "        elif x == \"3\" :\n",
    "            rfnm()\n",
    "        elif x == \"4\" :\n",
    "            main()\n",
    "            \n",
    "dt2()"
   ]
  },
  {
   "cell_type": "markdown",
   "id": "d2eb8b07",
   "metadata": {},
   "source": [
    "# Random Forest normale"
   ]
  },
  {
   "cell_type": "code",
   "execution_count": 35,
   "id": "698c3c05",
   "metadata": {},
   "outputs": [
    {
     "name": "stdout",
     "output_type": "stream",
     "text": [
      "Modèle normale de random forest\n"
     ]
    },
    {
     "data": {
      "image/png": "[encoded data removed]",
      "text/plain": [
       "<IPython.core.display.Image object>"
      ]
     },
     "metadata": {},
     "output_type": "display_data"
    }
   ],
   "source": [
    "def rf():\n",
    "    \n",
    "    #X=df_encoded.drop('isFraud', axis=1)\n",
    "    #y=df_encoded['isFraud']\n",
    "    \n",
    "    #x_train,x_test,y_train,y_test=train_test_split(X,y,test_size=0.2,random_state=6)\n",
    "    \n",
    "    #clf = RandomForestClassifier(criterion='entropy', max_depth=15, n_estimators=30)\n",
    "    #clf.fit(x_train, y_train)\n",
    "    \n",
    "    #pred = clf.predict(x_test)\n",
    "    \n",
    "    #print(\"La précision du modèle de random forest normale s'élève à :\", accuracy_score(y_test,pred)*100, \"%\")\n",
    "    \n",
    "    #plot_confusion_matrix(clf, x_test, y_test)  \n",
    "    #plt.show()\n",
    "    \n",
    "    #print(classification_report(y_test,pred))\n",
    "    \n",
    "    print(\"Modèle normale de random forest\")\n",
    "    display(Image(filename='rf.png'))\n",
    "    \n",
    "rf()    "
   ]
  },
  {
   "cell_type": "markdown",
   "id": "5aea502a",
   "metadata": {},
   "source": [
    "# Random Forest avec SMOTE"
   ]
  },
  {
   "cell_type": "code",
   "execution_count": 36,
   "id": "98af2566",
   "metadata": {},
   "outputs": [
    {
     "name": "stdout",
     "output_type": "stream",
     "text": [
      "Modèle de random forest avec SMOTE\n"
     ]
    },
    {
     "data": {
      "image/png": "[encoded data removed]",
      "text/plain": [
       "<IPython.core.display.Image object>"
      ]
     },
     "metadata": {},
     "output_type": "display_data"
    }
   ],
   "source": [
    "def rfsmote():\n",
    "    \n",
    "    #X=df_encoded.drop('isFraud', axis=1)\n",
    "    #y=df_encoded['isFraud']\n",
    "    \n",
    "    #data = df.values\n",
    "    \n",
    "    #seed = 5\n",
    "    #smote = SMOTE(sampling_strategy='auto', random_state=seed,k_neighbors=7)\n",
    "    #X_smote, y_smote = smote.fit_sample(X, y)\n",
    "    \n",
    "    #print(smote)\n",
    "    \n",
    "    #x_train,x_test,y_train,y_test=train_test_split(X_smote,y_smote,test_size=0.2,random_state=6)\n",
    "    \n",
    "    #clf = RandomForestClassifier(criterion='entropy', max_depth=15, n_estimators=30)\n",
    "    #clf.fit(x_train, y_train)\n",
    "    \n",
    "    #pred = clf.predict(x_test)\n",
    "    \n",
    "    #print(\"La précision du modèle de random forest avec SMOTE s'élève à :\", accuracy_score(y_test,pred)*100, \"%\")\n",
    "    \n",
    "    #plot_confusion_matrix(clf, X_smote, y_smote)  \n",
    "    #plt.show()\n",
    "    \n",
    "    #print(classification_report(y_test,pred))\n",
    "    \n",
    "    print(\"Modèle de random forest avec SMOTE\")\n",
    "    display(Image(filename='rfsmote.png'))\n",
    "    \n",
    "rfsmote()"
   ]
  },
  {
   "cell_type": "markdown",
   "id": "88d04588",
   "metadata": {},
   "source": [
    "# Random Forest avec NearMiss"
   ]
  },
  {
   "cell_type": "code",
   "execution_count": 37,
   "id": "b3981048",
   "metadata": {},
   "outputs": [
    {
     "name": "stdout",
     "output_type": "stream",
     "text": [
      "Modèle de random forest avec NearMiss\n"
     ]
    },
    {
     "data": {
      "image/png": "[encoded data removed]",
      "text/plain": [
       "<IPython.core.display.Image object>"
      ]
     },
     "metadata": {},
     "output_type": "display_data"
    }
   ],
   "source": [
    "def rfnm():\n",
    "    \n",
    "    #X=df_encoded.drop('isFraud', axis=1)\n",
    "    #y=df_encoded['isFraud']\n",
    "    \n",
    "    #data = df.values\n",
    "    \n",
    "    #distribution_of_samples = {0:8213, 1:8213}\n",
    "    #nearmiss = NearMiss(sampling_strategy = distribution_of_samples)\n",
    "    #X_under_samples, y_under_samples = nearmiss.fit_sample(X,y)\n",
    "    \n",
    "    #print(nearmiss)\n",
    "    \n",
    "    #x_train,x_test,y_train,y_test=train_test_split(X_under_samples,y_under_samples,test_size=0.2,random_state=6)\n",
    "    \n",
    "    #clf = RandomForestClassifier(criterion='entropy', max_depth=15, n_estimators=30)\n",
    "    #clf.fit(x_train, y_train)\n",
    "    \n",
    "    #pred = clf.predict(x_test)\n",
    "    \n",
    "    #print(\"La précision du modèle de random forest avec NearMiss s'élève à :\", accuracy_score(y_test,pred)*100, \"%\")\n",
    "    \n",
    "    #plot_confusion_matrix(clf, X_under_samples, y_under_samples)  \n",
    "    #plt.show()\n",
    "    \n",
    "    #print(classification_report(y_test,pred))\n",
    "    \n",
    "    print(\"Modèle de random forest avec NearMiss\")\n",
    "    display(Image(filename='rfnm.png'))\n",
    "    \n",
    "rfnm()"
   ]
  }
 ],
 "metadata": {
  "kernelspec": {
   "display_name": "Python 3",
   "language": "python",
   "name": "python3"
  },
  "language_info": {
   "codemirror_mode": {
    "name": "ipython",
    "version": 3
   },
   "file_extension": ".py",
   "mimetype": "text/x-python",
   "name": "python",
   "nbconvert_exporter": "python",
   "pygments_lexer": "ipython3",
   "version": "3.8.8"
  }
 },
 "nbformat": 4,
 "nbformat_minor": 5
}
